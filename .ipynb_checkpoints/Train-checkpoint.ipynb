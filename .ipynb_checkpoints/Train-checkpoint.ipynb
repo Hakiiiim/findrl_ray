{
 "cells": [
  {
   "cell_type": "code",
   "execution_count": 1,
   "id": "4ba7f2b6-480a-4462-af82-80e6d588cd8a",
   "metadata": {},
   "outputs": [],
   "source": [
    "import pandas as pd\n",
    "import pickle \n",
    "from finrl.meta.preprocessor.preprocessors import FeatureEngineer, data_split\n",
    "from finrl.meta.env_stock_trading.env_stocktrading import StockTradingEnv\n",
    "\n",
    "# load the DataFrame from a pickle file\n",
    "df = pd.read_pickle('dataset/processed.pkl')\n",
    "TRAIN_START_DATE = '2010-01-01'\n",
    "TRAIN_END_DATE = '2021-01-01'\n",
    "TRADE_START_DATE = '2021-01-02'\n",
    "TRADE_END_DATE = '2023-03-26'"
   ]
  },
  {
   "cell_type": "code",
   "execution_count": 2,
   "id": "9bd71653-eba0-4cf8-a60c-ac5009a3a75a",
   "metadata": {},
   "outputs": [],
   "source": [
    "INDICATORS = ['macd','rsi_14', 'rsi_21','rsi_28',\n",
    " 'boll_ub',\n",
    " 'boll_lb',\n",
    " 'rsi_30',\n",
    " 'cci_30',\n",
    " 'dx_30',\n",
    " 'close_30_sma',\n",
    " 'close_60_sma']"
   ]
  },
  {
   "cell_type": "code",
   "execution_count": 3,
   "id": "fdb99bcf-76e2-49b8-9b16-1f7943df4b69",
   "metadata": {},
   "outputs": [
    {
     "name": "stdout",
     "output_type": "stream",
     "text": [
      "80301\n",
      "16211\n",
      "Stock Dimension: 29, State Space: 378\n"
     ]
    }
   ],
   "source": [
    "train = data_split(df, TRAIN_START_DATE,TRAIN_END_DATE)\n",
    "trade = data_split(df, TRADE_START_DATE,TRADE_END_DATE)\n",
    "print(len(train))\n",
    "print(len(trade))\n",
    "stock_dimension = len(train.tic.unique())\n",
    "state_space = 1 + 2*stock_dimension + len(INDICATORS)*stock_dimension\n",
    "print(f\"Stock Dimension: {stock_dimension}, State Space: {state_space}\")"
   ]
  },
  {
   "cell_type": "code",
   "execution_count": 4,
   "id": "438bd862-b466-4f77-9ebc-def4311d9470",
   "metadata": {},
   "outputs": [],
   "source": [
    "buy_cost_list = sell_cost_list = [0.001] * stock_dimension\n",
    "num_stock_shares = [0] * stock_dimension\n",
    "\n",
    "env_kwargs = {\n",
    "    \"hmax\": 200,\n",
    "    \"initial_amount\": 1000000,\n",
    "    \"num_stock_shares\": num_stock_shares,\n",
    "    \"buy_cost_pct\": buy_cost_list,\n",
    "    \"sell_cost_pct\": sell_cost_list,\n",
    "    \"state_space\": state_space,\n",
    "    \"stock_dim\": stock_dimension,\n",
    "    \"tech_indicator_list\": INDICATORS,\n",
    "    \"action_space\": stock_dimension,\n",
    "    \"reward_scaling\": 1e-4\n",
    "}"
   ]
  },
  {
   "cell_type": "code",
   "execution_count": 5,
   "id": "6073ab34-9442-4dda-a90a-864c05b37ad7",
   "metadata": {},
   "outputs": [],
   "source": [
    "import psutil\n",
    "import ray\n",
    "ray._private.utils.get_system_memory = lambda: psutil.virtual_memory().total\n",
    "from ray.tune.registry import register_env\n",
    "from gymnasium.wrappers import EnvCompatibility"
   ]
  },
  {
   "cell_type": "code",
   "execution_count": 6,
   "id": "cb6781a9-96f3-4a91-8819-960f699e2438",
   "metadata": {},
   "outputs": [],
   "source": [
    "def env_creator(env_config):\n",
    "    # env_config is passed as {} and defaults are set here\n",
    "    df = env_config.get('df', train)\n",
    "    hmax = env_config.get('hmax', 200)\n",
    "    initial_amount = env_config.get('initial_amount', 1000000)\n",
    "    num_stock_shares = env_config.get('num_stock_shares', [0] * stock_dimension)\n",
    "    buy_cost_pct = env_config.get('buy_cost_pct', buy_cost_list)\n",
    "    sell_cost_pct = env_config.get('sell_cost_pct', sell_cost_list)\n",
    "    state_space = env_config.get('state_space', 1 + 2*stock_dimension + len(INDICATORS)*stock_dimension)\n",
    "    stock_dim = env_config.get('stock_dim', stock_dimension)\n",
    "    tech_indicator_list = env_config.get('tech_indicator_list', INDICATORS)\n",
    "    action_space = env_config.get('action_space', stock_dimension)\n",
    "    reward_scaling = env_config.get('reward_scaling', 1e-3)\n",
    "\n",
    "    return EnvCompatibility(StockTradingEnv(\n",
    "        df=df,\n",
    "        hmax=hmax,\n",
    "        initial_amount=initial_amount,\n",
    "        num_stock_shares=num_stock_shares,\n",
    "        buy_cost_pct=buy_cost_pct,\n",
    "        sell_cost_pct=sell_cost_pct,\n",
    "        state_space=state_space,\n",
    "        stock_dim=stock_dim,\n",
    "        tech_indicator_list=tech_indicator_list,\n",
    "        action_space=action_space,\n",
    "        reward_scaling=reward_scaling\n",
    "    ))"
   ]
  },
  {
   "cell_type": "code",
   "execution_count": 7,
   "id": "6893b78c-01c5-44d8-b1ee-c935f803eb73",
   "metadata": {},
   "outputs": [],
   "source": [
    "use_ddppo = False"
   ]
  },
  {
   "cell_type": "code",
   "execution_count": 8,
   "id": "a3d58e55-a77f-4d4a-843b-e4291e9fd2f9",
   "metadata": {},
   "outputs": [
    {
     "name": "stdout",
     "output_type": "stream",
     "text": [
      "ray is being initialized\n"
     ]
    }
   ],
   "source": [
    "from ray.rllib.agents import ppo\n",
    "ray.shutdown()\n",
    "print(f\"ray is being initialized\")\n",
    "# ray.init(_temp_dir=\"FinRL/RLLIB/results\", num_cpus=1, num_gpus=0)\n",
    "# ray.init()"
   ]
  },
  {
   "cell_type": "code",
   "execution_count": 9,
   "id": "a7dc1db4-5da8-487c-ba71-e85dca8c95dc",
   "metadata": {},
   "outputs": [],
   "source": [
    "#if use_ddppo:\n",
    "#    config = ppo.DDPPOConfig()\n",
    "#else:\n",
    "#    config = ppo.PPOConfig()\n",
    "\n",
    "# Here set envirnonment parameters if different from default\n",
    "#config = config.environment(\n",
    "#    env_config={'hmax':200, 'initial_amount':1000000}\n",
    "#)\n",
    "\n",
    "# Training\n",
    "#config = config.training()\n",
    "\n",
    "# Resources\n",
    "#config = config.resources(\n",
    "#    num_gpus=0,\n",
    "#    num_cpus_per_worker=1,\n",
    "#    num_gpus_per_worker=0,\n",
    "#    num_trainer_workers=1,\n",
    "#    num_gpus_per_trainer_worker = 1,\n",
    "#    num_cpus_per_trainer_worker = 1,\n",
    "#)\n",
    "# Framework\n",
    "#config = config.framework(\n",
    "#    framework=\"torch\",\n",
    "#)\n",
    "# Rollouts\n",
    "#config = config.rollouts(\n",
    "#    num_rollout_workers=10,\n",
    "#    num_envs_per_worker=1,\n",
    "#)"
   ]
  },
  {
   "cell_type": "code",
   "execution_count": 14,
   "id": "116a4f64-e0e5-4204-bb9c-0f6c8d2fa2ed",
   "metadata": {
    "tags": []
   },
   "outputs": [],
   "source": [
    "config = ppo.PPOConfig()  \n",
    "config = config.training(gamma=0.9, lr=0.001, kl_coeff=0.3)  \n",
    "config = config.resources(num_gpus=0)  \n",
    "config = config.rollouts(num_rollout_workers=8)  "
   ]
  },
  {
   "cell_type": "code",
   "execution_count": 15,
   "id": "bdc67a02-7ea5-4a4a-8786-b5deb88b32f4",
   "metadata": {},
   "outputs": [
    {
     "name": "stderr",
     "output_type": "stream",
     "text": [
      "2023-03-28 13:39:15,280\tWARNING deprecation.py:50 -- DeprecationWarning: `algo = Algorithm(env='finrl', ...)` has been deprecated. Use `algo = AlgorithmConfig().environment('finrl').build()` instead. This will raise an error in the future!\n"
     ]
    },
    {
     "name": "stdout",
     "output_type": "stream",
     "text": [
      "\u001b[2m\u001b[1m\u001b[36m(autoscaler +4m28s)\u001b[0m Tip: use `ray status` to view detailed cluster status. To disable these messages, set RAY_SCHEDULER_EVENTS=0.\n",
      "\u001b[2m\u001b[1m\u001b[33m(autoscaler +4m28s)\u001b[0m Warning: The following resource request cannot be scheduled right now: {'CPU': 1.0}. This is likely due to all cluster resources being claimed by actors. Consider creating fewer actors or adding more nodes to this Ray cluster.\n"
     ]
    },
    {
     "name": "stderr",
     "output_type": "stream",
     "text": [
      "\u001b[2m\u001b[36m(RolloutWorker pid=31964)\u001b[0m /home/ga_aiot/anaconda3/envs/finrl/lib/python3.8/site-packages/gymnasium/spaces/box.py:227: UserWarning: \u001b[33mWARN: Casting input x to numpy array.\u001b[0m\n",
      "\u001b[2m\u001b[36m(RolloutWorker pid=31964)\u001b[0m   logger.warn(\"Casting input x to numpy array.\")\n",
      "\u001b[2m\u001b[36m(RolloutWorker pid=31957)\u001b[0m 2023-03-28 13:39:42,354\tWARNING env.py:156 -- Your env doesn't have a .spec.max_episode_steps attribute. Your horizon will default to infinity, and your environment will not be reset.\n",
      "\u001b[2m\u001b[36m(RolloutWorker pid=31957)\u001b[0m 2023-03-28 13:39:42,354\tWARNING env.py:166 -- Your env reset() method appears to take 'seed' or 'return_info' arguments. Note that these are not yet supported in RLlib. Seeding will take place using 'env.seed()' and the info dict will not be returned from reset.\n",
      "\u001b[2m\u001b[36m(RolloutWorker pid=31963)\u001b[0m /home/ga_aiot/anaconda3/envs/finrl/lib/python3.8/site-packages/gymnasium/spaces/box.py:227: UserWarning: \u001b[33mWARN: Casting input x to numpy array.\u001b[0m\n",
      "\u001b[2m\u001b[36m(RolloutWorker pid=31963)\u001b[0m   logger.warn(\"Casting input x to numpy array.\")\n",
      "\u001b[2m\u001b[36m(RolloutWorker pid=31957)\u001b[0m /home/ga_aiot/anaconda3/envs/finrl/lib/python3.8/site-packages/gymnasium/spaces/box.py:227: UserWarning: \u001b[33mWARN: Casting input x to numpy array.\u001b[0m\n",
      "\u001b[2m\u001b[36m(RolloutWorker pid=31957)\u001b[0m   logger.warn(\"Casting input x to numpy array.\")\n",
      "\u001b[2m\u001b[36m(RolloutWorker pid=31959)\u001b[0m /home/ga_aiot/anaconda3/envs/finrl/lib/python3.8/site-packages/gymnasium/spaces/box.py:227: UserWarning: \u001b[33mWARN: Casting input x to numpy array.\u001b[0m\n",
      "\u001b[2m\u001b[36m(RolloutWorker pid=31959)\u001b[0m   logger.warn(\"Casting input x to numpy array.\")\n",
      "\u001b[2m\u001b[36m(RolloutWorker pid=31961)\u001b[0m /home/ga_aiot/anaconda3/envs/finrl/lib/python3.8/site-packages/gymnasium/spaces/box.py:227: UserWarning: \u001b[33mWARN: Casting input x to numpy array.\u001b[0m\n",
      "\u001b[2m\u001b[36m(RolloutWorker pid=31961)\u001b[0m   logger.warn(\"Casting input x to numpy array.\")\n",
      "\u001b[2m\u001b[36m(RolloutWorker pid=31958)\u001b[0m /home/ga_aiot/anaconda3/envs/finrl/lib/python3.8/site-packages/gymnasium/spaces/box.py:227: UserWarning: \u001b[33mWARN: Casting input x to numpy array.\u001b[0m\n",
      "\u001b[2m\u001b[36m(RolloutWorker pid=31958)\u001b[0m   logger.warn(\"Casting input x to numpy array.\")\n",
      "\u001b[2m\u001b[36m(RolloutWorker pid=31962)\u001b[0m /home/ga_aiot/anaconda3/envs/finrl/lib/python3.8/site-packages/gymnasium/spaces/box.py:227: UserWarning: \u001b[33mWARN: Casting input x to numpy array.\u001b[0m\n",
      "\u001b[2m\u001b[36m(RolloutWorker pid=31962)\u001b[0m   logger.warn(\"Casting input x to numpy array.\")\n",
      "\u001b[2m\u001b[36m(RolloutWorker pid=31960)\u001b[0m /home/ga_aiot/anaconda3/envs/finrl/lib/python3.8/site-packages/gymnasium/spaces/box.py:227: UserWarning: \u001b[33mWARN: Casting input x to numpy array.\u001b[0m\n",
      "\u001b[2m\u001b[36m(RolloutWorker pid=31960)\u001b[0m   logger.warn(\"Casting input x to numpy array.\")\n",
      "2023-03-28 13:39:50,864\tINFO trainable.py:172 -- Trainable.setup took 35.542 seconds. If your trainable is slow to initialize, consider setting reuse_actors=True to reduce actor creation overheads.\n"
     ]
    }
   ],
   "source": [
    "# registering the environment to ray\n",
    "register_env(\"finrl\", env_creator)\n",
    "if use_ddppo:\n",
    "    trainer = ppo.DDPPOTrainer(env='finrl', config=config)\n",
    "else:\n",
    "    trainer = ppo.PPOTrainer(env='finrl', config=config)"
   ]
  },
  {
   "cell_type": "code",
   "execution_count": 17,
   "id": "67da4c9a-dcef-4c02-a17a-31a5e1b4c0cb",
   "metadata": {},
   "outputs": [
    {
     "data": {
      "application/vnd.jupyter.widget-view+json": {
       "model_id": "9693aef3164446bb8e6b90ae39185350",
       "version_major": 2,
       "version_minor": 0
      },
      "text/plain": [
       "Episodes:   0%|          | 0/100 [00:00<?, ?it/s]"
      ]
     },
     "metadata": {},
     "output_type": "display_data"
    },
    {
     "name": "stdout",
     "output_type": "stream",
     "text": [
      "Checkpoint saved in directory results/checkpoints/ppo_10\n",
      "Checkpoint saved in directory results/checkpoints/ppo_20\n",
      "Checkpoint saved in directory results/checkpoints/ppo_30\n",
      "\u001b[2m\u001b[36m(RolloutWorker pid=31957)\u001b[0m day: 2768, episode: 10\n",
      "\u001b[2m\u001b[36m(RolloutWorker pid=31957)\u001b[0m begin_total_asset: 1000000.00\n",
      "\u001b[2m\u001b[36m(RolloutWorker pid=31957)\u001b[0m end_total_asset: 2524461.64\n",
      "\u001b[2m\u001b[36m(RolloutWorker pid=31957)\u001b[0m total_reward: 1524461.64\n",
      "\u001b[2m\u001b[36m(RolloutWorker pid=31957)\u001b[0m total_cost: 514052.79\n",
      "\u001b[2m\u001b[36m(RolloutWorker pid=31957)\u001b[0m total_trades: 69578\n",
      "\u001b[2m\u001b[36m(RolloutWorker pid=31957)\u001b[0m Sharpe: 0.554\n",
      "\u001b[2m\u001b[36m(RolloutWorker pid=31957)\u001b[0m =================================\n",
      "\u001b[2m\u001b[36m(RolloutWorker pid=31959)\u001b[0m day: 2768, episode: 10\n",
      "\u001b[2m\u001b[36m(RolloutWorker pid=31959)\u001b[0m begin_total_asset: 1000000.00\n",
      "\u001b[2m\u001b[36m(RolloutWorker pid=31959)\u001b[0m end_total_asset: 2205599.30\n",
      "\u001b[2m\u001b[36m(RolloutWorker pid=31959)\u001b[0m total_reward: 1205599.30\n",
      "\u001b[2m\u001b[36m(RolloutWorker pid=31959)\u001b[0m total_cost: 492031.77\n",
      "\u001b[2m\u001b[36m(RolloutWorker pid=31959)\u001b[0m total_trades: 68640\n",
      "\u001b[2m\u001b[36m(RolloutWorker pid=31959)\u001b[0m Sharpe: 0.489\n",
      "\u001b[2m\u001b[36m(RolloutWorker pid=31959)\u001b[0m =================================\n",
      "\u001b[2m\u001b[36m(RolloutWorker pid=31958)\u001b[0m day: 2768, episode: 10\n",
      "\u001b[2m\u001b[36m(RolloutWorker pid=31958)\u001b[0m begin_total_asset: 1000000.00\n",
      "\u001b[2m\u001b[36m(RolloutWorker pid=31958)\u001b[0m end_total_asset: 3479684.28\n",
      "\u001b[2m\u001b[36m(RolloutWorker pid=31958)\u001b[0m total_reward: 2479684.28\n",
      "\u001b[2m\u001b[36m(RolloutWorker pid=31958)\u001b[0m total_cost: 490798.00\n",
      "\u001b[2m\u001b[36m(RolloutWorker pid=31958)\u001b[0m total_trades: 68551\n",
      "\u001b[2m\u001b[36m(RolloutWorker pid=31958)\u001b[0m Sharpe: 0.661\n",
      "\u001b[2m\u001b[36m(RolloutWorker pid=31958)\u001b[0m =================================\n",
      "\u001b[2m\u001b[36m(RolloutWorker pid=31964)\u001b[0m day: 2768, episode: 10\n",
      "\u001b[2m\u001b[36m(RolloutWorker pid=31964)\u001b[0m begin_total_asset: 1000000.00\n",
      "\u001b[2m\u001b[36m(RolloutWorker pid=31964)\u001b[0m end_total_asset: 2513741.60\n",
      "\u001b[2m\u001b[36m(RolloutWorker pid=31964)\u001b[0m total_reward: 1513741.60\n",
      "\u001b[2m\u001b[36m(RolloutWorker pid=31964)\u001b[0m total_cost: 510714.31\n",
      "\u001b[2m\u001b[36m(RolloutWorker pid=31964)\u001b[0m total_trades: 69147\n",
      "\u001b[2m\u001b[36m(RolloutWorker pid=31964)\u001b[0m Sharpe: 0.521\n",
      "\u001b[2m\u001b[36m(RolloutWorker pid=31964)\u001b[0m =================================\n",
      "\u001b[2m\u001b[36m(RolloutWorker pid=31962)\u001b[0m day: 2768, episode: 10\n",
      "\u001b[2m\u001b[36m(RolloutWorker pid=31962)\u001b[0m begin_total_asset: 1000000.00\n",
      "\u001b[2m\u001b[36m(RolloutWorker pid=31962)\u001b[0m end_total_asset: 2292706.82\n",
      "\u001b[2m\u001b[36m(RolloutWorker pid=31962)\u001b[0m total_reward: 1292706.82\n",
      "\u001b[2m\u001b[36m(RolloutWorker pid=31962)\u001b[0m total_cost: 523156.39\n",
      "\u001b[2m\u001b[36m(RolloutWorker pid=31962)\u001b[0m total_trades: 69825\n",
      "\u001b[2m\u001b[36m(RolloutWorker pid=31962)\u001b[0m Sharpe: 0.499\n",
      "\u001b[2m\u001b[36m(RolloutWorker pid=31962)\u001b[0m =================================\n",
      "\u001b[2m\u001b[36m(RolloutWorker pid=31960)\u001b[0m day: 2768, episode: 10\n",
      "\u001b[2m\u001b[36m(RolloutWorker pid=31960)\u001b[0m begin_total_asset: 1000000.00\n",
      "\u001b[2m\u001b[36m(RolloutWorker pid=31960)\u001b[0m end_total_asset: 2864546.90\n",
      "\u001b[2m\u001b[36m(RolloutWorker pid=31960)\u001b[0m total_reward: 1864546.90\n",
      "\u001b[2m\u001b[36m(RolloutWorker pid=31960)\u001b[0m total_cost: 522795.68\n",
      "\u001b[2m\u001b[36m(RolloutWorker pid=31960)\u001b[0m total_trades: 69831\n",
      "\u001b[2m\u001b[36m(RolloutWorker pid=31960)\u001b[0m Sharpe: 0.589\n",
      "\u001b[2m\u001b[36m(RolloutWorker pid=31960)\u001b[0m =================================\n",
      "\u001b[2m\u001b[36m(RolloutWorker pid=31963)\u001b[0m day: 2768, episode: 10\n",
      "\u001b[2m\u001b[36m(RolloutWorker pid=31963)\u001b[0m begin_total_asset: 1000000.00\n",
      "\u001b[2m\u001b[36m(RolloutWorker pid=31963)\u001b[0m end_total_asset: 3106541.58\n",
      "\u001b[2m\u001b[36m(RolloutWorker pid=31963)\u001b[0m total_reward: 2106541.58\n",
      "\u001b[2m\u001b[36m(RolloutWorker pid=31963)\u001b[0m total_cost: 519687.21\n",
      "\u001b[2m\u001b[36m(RolloutWorker pid=31963)\u001b[0m total_trades: 69059\n",
      "\u001b[2m\u001b[36m(RolloutWorker pid=31963)\u001b[0m Sharpe: 0.598\n",
      "\u001b[2m\u001b[36m(RolloutWorker pid=31963)\u001b[0m =================================\n",
      "\u001b[2m\u001b[36m(RolloutWorker pid=31961)\u001b[0m day: 2768, episode: 10\n",
      "\u001b[2m\u001b[36m(RolloutWorker pid=31961)\u001b[0m begin_total_asset: 1000000.00\n",
      "\u001b[2m\u001b[36m(RolloutWorker pid=31961)\u001b[0m end_total_asset: 3448451.57\n",
      "\u001b[2m\u001b[36m(RolloutWorker pid=31961)\u001b[0m total_reward: 2448451.57\n",
      "\u001b[2m\u001b[36m(RolloutWorker pid=31961)\u001b[0m total_cost: 528642.52\n",
      "\u001b[2m\u001b[36m(RolloutWorker pid=31961)\u001b[0m total_trades: 69896\n",
      "\u001b[2m\u001b[36m(RolloutWorker pid=31961)\u001b[0m Sharpe: 0.649\n",
      "\u001b[2m\u001b[36m(RolloutWorker pid=31961)\u001b[0m =================================\n",
      "Checkpoint saved in directory results/checkpoints/ppo_40\n",
      "Checkpoint saved in directory results/checkpoints/ppo_50\n",
      "Checkpoint saved in directory results/checkpoints/ppo_60\n",
      "Checkpoint saved in directory results/checkpoints/ppo_70\n",
      "Checkpoint saved in directory results/checkpoints/ppo_80\n",
      "Checkpoint saved in directory results/checkpoints/ppo_90\n",
      "\u001b[2m\u001b[36m(RolloutWorker pid=31957)\u001b[0m day: 2768, episode: 20\n",
      "\u001b[2m\u001b[36m(RolloutWorker pid=31957)\u001b[0m begin_total_asset: 1000000.00\n",
      "\u001b[2m\u001b[36m(RolloutWorker pid=31957)\u001b[0m end_total_asset: 2467448.84\n",
      "\u001b[2m\u001b[36m(RolloutWorker pid=31957)\u001b[0m total_reward: 1467448.84\n",
      "\u001b[2m\u001b[36m(RolloutWorker pid=31957)\u001b[0m total_cost: 364956.46\n",
      "\u001b[2m\u001b[36m(RolloutWorker pid=31957)\u001b[0m total_trades: 62319\n",
      "\u001b[2m\u001b[36m(RolloutWorker pid=31957)\u001b[0m Sharpe: 0.569\n",
      "\u001b[2m\u001b[36m(RolloutWorker pid=31957)\u001b[0m =================================\n",
      "\u001b[2m\u001b[36m(RolloutWorker pid=31959)\u001b[0m day: 2768, episode: 20\n",
      "\u001b[2m\u001b[36m(RolloutWorker pid=31959)\u001b[0m begin_total_asset: 1000000.00\n",
      "\u001b[2m\u001b[36m(RolloutWorker pid=31959)\u001b[0m end_total_asset: 2474431.55\n",
      "\u001b[2m\u001b[36m(RolloutWorker pid=31959)\u001b[0m total_reward: 1474431.55\n",
      "\u001b[2m\u001b[36m(RolloutWorker pid=31959)\u001b[0m total_cost: 287534.29\n",
      "\u001b[2m\u001b[36m(RolloutWorker pid=31959)\u001b[0m total_trades: 58489\n",
      "\u001b[2m\u001b[36m(RolloutWorker pid=31959)\u001b[0m Sharpe: 0.550\n",
      "\u001b[2m\u001b[36m(RolloutWorker pid=31959)\u001b[0m =================================\n",
      "\u001b[2m\u001b[36m(RolloutWorker pid=31964)\u001b[0m day: 2768, episode: 20\n",
      "\u001b[2m\u001b[36m(RolloutWorker pid=31964)\u001b[0m begin_total_asset: 1000000.00\n",
      "\u001b[2m\u001b[36m(RolloutWorker pid=31964)\u001b[0m end_total_asset: 2224207.35\n",
      "\u001b[2m\u001b[36m(RolloutWorker pid=31964)\u001b[0m total_reward: 1224207.35\n",
      "\u001b[2m\u001b[36m(RolloutWorker pid=31964)\u001b[0m total_cost: 302303.03\n",
      "\u001b[2m\u001b[36m(RolloutWorker pid=31964)\u001b[0m total_trades: 60038\n",
      "\u001b[2m\u001b[36m(RolloutWorker pid=31964)\u001b[0m Sharpe: 0.487\n",
      "\u001b[2m\u001b[36m(RolloutWorker pid=31964)\u001b[0m =================================\n",
      "\u001b[2m\u001b[36m(RolloutWorker pid=31962)\u001b[0m day: 2768, episode: 20\n",
      "\u001b[2m\u001b[36m(RolloutWorker pid=31962)\u001b[0m begin_total_asset: 1000000.00\n",
      "\u001b[2m\u001b[36m(RolloutWorker pid=31962)\u001b[0m end_total_asset: 2093767.33\n",
      "\u001b[2m\u001b[36m(RolloutWorker pid=31962)\u001b[0m total_reward: 1093767.33\n",
      "\u001b[2m\u001b[36m(RolloutWorker pid=31962)\u001b[0m total_cost: 305487.93\n",
      "\u001b[2m\u001b[36m(RolloutWorker pid=31962)\u001b[0m total_trades: 60139\n",
      "\u001b[2m\u001b[36m(RolloutWorker pid=31962)\u001b[0m Sharpe: 0.455\n",
      "\u001b[2m\u001b[36m(RolloutWorker pid=31962)\u001b[0m =================================\n",
      "\u001b[2m\u001b[36m(RolloutWorker pid=31960)\u001b[0m day: 2768, episode: 20\n",
      "\u001b[2m\u001b[36m(RolloutWorker pid=31960)\u001b[0m begin_total_asset: 1000000.00\n",
      "\u001b[2m\u001b[36m(RolloutWorker pid=31960)\u001b[0m end_total_asset: 2257276.46\n",
      "\u001b[2m\u001b[36m(RolloutWorker pid=31960)\u001b[0m total_reward: 1257276.46\n",
      "\u001b[2m\u001b[36m(RolloutWorker pid=31960)\u001b[0m total_cost: 330252.11\n",
      "\u001b[2m\u001b[36m(RolloutWorker pid=31960)\u001b[0m total_trades: 59377\n",
      "\u001b[2m\u001b[36m(RolloutWorker pid=31960)\u001b[0m Sharpe: 0.498\n",
      "\u001b[2m\u001b[36m(RolloutWorker pid=31960)\u001b[0m =================================\n",
      "\u001b[2m\u001b[36m(RolloutWorker pid=31958)\u001b[0m day: 2768, episode: 20\n",
      "\u001b[2m\u001b[36m(RolloutWorker pid=31958)\u001b[0m begin_total_asset: 1000000.00\n",
      "\u001b[2m\u001b[36m(RolloutWorker pid=31958)\u001b[0m end_total_asset: 2654780.68\n",
      "\u001b[2m\u001b[36m(RolloutWorker pid=31958)\u001b[0m total_reward: 1654780.68\n",
      "\u001b[2m\u001b[36m(RolloutWorker pid=31958)\u001b[0m total_cost: 348565.92\n",
      "\u001b[2m\u001b[36m(RolloutWorker pid=31958)\u001b[0m total_trades: 62328\n",
      "\u001b[2m\u001b[36m(RolloutWorker pid=31958)\u001b[0m Sharpe: 0.594\n",
      "\u001b[2m\u001b[36m(RolloutWorker pid=31958)\u001b[0m =================================\n",
      "\u001b[2m\u001b[36m(RolloutWorker pid=31963)\u001b[0m day: 2768, episode: 20\n",
      "\u001b[2m\u001b[36m(RolloutWorker pid=31963)\u001b[0m begin_total_asset: 1000000.00\n",
      "\u001b[2m\u001b[36m(RolloutWorker pid=31963)\u001b[0m end_total_asset: 2688642.25\n",
      "\u001b[2m\u001b[36m(RolloutWorker pid=31963)\u001b[0m total_reward: 1688642.25\n",
      "\u001b[2m\u001b[36m(RolloutWorker pid=31963)\u001b[0m total_cost: 320585.20\n",
      "\u001b[2m\u001b[36m(RolloutWorker pid=31963)\u001b[0m total_trades: 60352\n",
      "\u001b[2m\u001b[36m(RolloutWorker pid=31963)\u001b[0m Sharpe: 0.599\n",
      "\u001b[2m\u001b[36m(RolloutWorker pid=31963)\u001b[0m =================================\n",
      "\u001b[2m\u001b[36m(RolloutWorker pid=31961)\u001b[0m day: 2768, episode: 20\n",
      "\u001b[2m\u001b[36m(RolloutWorker pid=31961)\u001b[0m begin_total_asset: 1000000.00\n",
      "\u001b[2m\u001b[36m(RolloutWorker pid=31961)\u001b[0m end_total_asset: 2282420.51\n",
      "\u001b[2m\u001b[36m(RolloutWorker pid=31961)\u001b[0m total_reward: 1282420.51\n",
      "\u001b[2m\u001b[36m(RolloutWorker pid=31961)\u001b[0m total_cost: 376636.41\n",
      "\u001b[2m\u001b[36m(RolloutWorker pid=31961)\u001b[0m total_trades: 62951\n",
      "\u001b[2m\u001b[36m(RolloutWorker pid=31961)\u001b[0m Sharpe: 0.512\n",
      "\u001b[2m\u001b[36m(RolloutWorker pid=31961)\u001b[0m =================================\n",
      "Checkpoint saved in directory results/checkpoints/ppo_100\n"
     ]
    }
   ],
   "source": [
    "from tqdm.notebook import tqdm\n",
    "# Train away -------------------------------------------------------------\n",
    "total_episodes=100\n",
    "agent_name = 'ppo'\n",
    "ep = 0\n",
    "results = []\n",
    "bar = tqdm(total=total_episodes, desc=\"Episodes\")\n",
    "while ep <= total_episodes:\n",
    "    results.append(trainer.train())\n",
    "    ep += 1\n",
    "    bar.update(n=1)\n",
    "    if ep % 10 == 0:\n",
    "        cwd_checkpoint = \"results/checkpoints/\" + str(agent_name) + '_' + str(ep)\n",
    "        trainer.save(cwd_checkpoint)\n",
    "        print(f\"Checkpoint saved in directory {cwd_checkpoint}\")\n",
    "bar.close()"
   ]
  },
  {
   "cell_type": "code",
   "execution_count": 23,
   "id": "b933388e-0e6d-4716-98c0-12cbd3bb9cb7",
   "metadata": {
    "tags": []
   },
   "outputs": [
    {
     "name": "stdout",
     "output_type": "stream",
     "text": [
      "{'custom_metrics': {}, 'episode_media': {}, 'info': {'learner': {'default_policy': {'learner_stats': {'cur_kl_coeff': 5.125781059265137, 'cur_lr': 0.0010000000474974513, 'total_loss': 9.018438, 'policy_loss': -0.0073167793, 'vf_loss': 8.977703, 'vf_explained_var': -3.5250058e-09, 'kl': 0.009374749, 'entropy': 41.85276, 'entropy_coeff': 0.0, 'model': {}}, 'custom_metrics': {}, 'num_agent_steps_trained': 128.0, 'num_grad_updates_lifetime': 98115.5, 'diff_num_grad_updates_vs_sampler_policy': 464.5}}, 'num_env_steps_sampled': 424000, 'num_env_steps_trained': 424000, 'num_agent_steps_sampled': 424000, 'num_agent_steps_trained': 424000}, 'sampler_results': {'episode_reward_max': 4323.120832900457, 'episode_reward_min': 913.9147909888835, 'episode_reward_mean': 1996.1647900378043, 'episode_len_mean': 2769.0, 'episode_media': {}, 'episodes_this_iter': 8, 'policy_reward_min': {}, 'policy_reward_max': {}, 'policy_reward_mean': {}, 'custom_metrics': {}, 'hist_stats': {'episode_reward': [1636.1391533486958, 1662.353990146977, 1846.9390503985558, 1534.6756805823532, 1535.5719498744804, 2498.5203701495957, 1223.6016741988904, 1881.2538268643098, 2465.250246440284, 1307.0176694290153, 2116.1715205799856, 1524.851251694215, 1541.7184804074598, 2144.3486255283765, 1759.4592443334384, 1475.8018954015536, 913.9147909888835, 1816.7688869366239, 1689.4365627128002, 1297.1136864060811, 2429.9698864481416, 3389.606463801522, 1957.344611373483, 1248.323519190608, 2114.7247424009593, 1681.6809574094125, 1456.990542274634, 2843.1953237053744, 2617.4433546407918, 3029.4278555740643, 2491.3366743057186, 959.1795892834364, 2199.6585142806216, 1531.9396854238678, 2360.08048268492, 1888.9821765063566, 2228.9401606213232, 2075.9440291353158, 3320.3415335974682, 2768.639290267484, 2053.852670058492, 1494.333622412333, 2491.1271147869766, 2369.908136758642, 1821.4440370752059, 2455.37957805343, 3485.9902956576893, 3032.3775747450118, 1996.314316971126, 1835.021417330375, 2012.7403944238183, 2802.589669431318, 1769.2536906415894, 2481.970769493748, 2731.989064700629, 4323.120832900457, 2681.4806842144935, 3710.508582595525, 2914.6904014302604, 1689.9797310115255, 2036.371630638655, 3986.744758772652, 1685.570175937351, 2631.034241843961, 1334.6542481147583, 2507.429134878856, 1160.963980955996, 1578.4648785498848, 1996.9087083929558, 3390.6947727726915, 2319.2552620259644, 2049.8436531478987, 2790.7468286189637, 3067.7936533324055, 1195.573995144126, 2306.827568803801, 1493.1804404151499, 1078.8110956123808, 1882.7736715713027, 1514.810482977801, 1299.805808574677, 1491.6697024999792, 1096.7320604995093, 1990.1614793463725, 1488.6520369026523, 1674.4026628040833, 1494.3932973012863, 1277.9924470621797, 1302.0221596184076, 1109.657390507493, 1711.0271082649817, 1243.0856490948395, 1346.8787914273526, 1350.1383328953243, 1310.0794367067338, 1659.3756474871861, 1504.820262971904, 1673.6239094615855, 1779.4434610307578, 1185.3336427748702], 'episode_lengths': [2769, 2769, 2769, 2769, 2769, 2769, 2769, 2769, 2769, 2769, 2769, 2769, 2769, 2769, 2769, 2769, 2769, 2769, 2769, 2769, 2769, 2769, 2769, 2769, 2769, 2769, 2769, 2769, 2769, 2769, 2769, 2769, 2769, 2769, 2769, 2769, 2769, 2769, 2769, 2769, 2769, 2769, 2769, 2769, 2769, 2769, 2769, 2769, 2769, 2769, 2769, 2769, 2769, 2769, 2769, 2769, 2769, 2769, 2769, 2769, 2769, 2769, 2769, 2769, 2769, 2769, 2769, 2769, 2769, 2769, 2769, 2769, 2769, 2769, 2769, 2769, 2769, 2769, 2769, 2769, 2769, 2769, 2769, 2769, 2769, 2769, 2769, 2769, 2769, 2769, 2769, 2769, 2769, 2769, 2769, 2769, 2769, 2769, 2769, 2769]}, 'sampler_perf': {'mean_raw_obs_processing_ms': 0.6971376661692235, 'mean_inference_ms': 1.4406720088075635, 'mean_action_processing_ms': 0.4001264382707494, 'mean_env_wait_ms': 9.07345657622945, 'mean_env_render_ms': 0.0}, 'num_faulty_episodes': 0, 'connector_metrics': {'ObsPreprocessorConnector_ms': 0.018711566925048828, 'StateBufferConnector_ms': 0.01030111312866211, 'ViewRequirementAgentConnector_ms': 0.3131980895996094}}, 'episode_reward_max': 4323.120832900457, 'episode_reward_min': 913.9147909888835, 'episode_reward_mean': 1996.1647900378043, 'episode_len_mean': 2769.0, 'episodes_this_iter': 8, 'policy_reward_min': {}, 'policy_reward_max': {}, 'policy_reward_mean': {}, 'hist_stats': {'episode_reward': [1636.1391533486958, 1662.353990146977, 1846.9390503985558, 1534.6756805823532, 1535.5719498744804, 2498.5203701495957, 1223.6016741988904, 1881.2538268643098, 2465.250246440284, 1307.0176694290153, 2116.1715205799856, 1524.851251694215, 1541.7184804074598, 2144.3486255283765, 1759.4592443334384, 1475.8018954015536, 913.9147909888835, 1816.7688869366239, 1689.4365627128002, 1297.1136864060811, 2429.9698864481416, 3389.606463801522, 1957.344611373483, 1248.323519190608, 2114.7247424009593, 1681.6809574094125, 1456.990542274634, 2843.1953237053744, 2617.4433546407918, 3029.4278555740643, 2491.3366743057186, 959.1795892834364, 2199.6585142806216, 1531.9396854238678, 2360.08048268492, 1888.9821765063566, 2228.9401606213232, 2075.9440291353158, 3320.3415335974682, 2768.639290267484, 2053.852670058492, 1494.333622412333, 2491.1271147869766, 2369.908136758642, 1821.4440370752059, 2455.37957805343, 3485.9902956576893, 3032.3775747450118, 1996.314316971126, 1835.021417330375, 2012.7403944238183, 2802.589669431318, 1769.2536906415894, 2481.970769493748, 2731.989064700629, 4323.120832900457, 2681.4806842144935, 3710.508582595525, 2914.6904014302604, 1689.9797310115255, 2036.371630638655, 3986.744758772652, 1685.570175937351, 2631.034241843961, 1334.6542481147583, 2507.429134878856, 1160.963980955996, 1578.4648785498848, 1996.9087083929558, 3390.6947727726915, 2319.2552620259644, 2049.8436531478987, 2790.7468286189637, 3067.7936533324055, 1195.573995144126, 2306.827568803801, 1493.1804404151499, 1078.8110956123808, 1882.7736715713027, 1514.810482977801, 1299.805808574677, 1491.6697024999792, 1096.7320604995093, 1990.1614793463725, 1488.6520369026523, 1674.4026628040833, 1494.3932973012863, 1277.9924470621797, 1302.0221596184076, 1109.657390507493, 1711.0271082649817, 1243.0856490948395, 1346.8787914273526, 1350.1383328953243, 1310.0794367067338, 1659.3756474871861, 1504.820262971904, 1673.6239094615855, 1779.4434610307578, 1185.3336427748702], 'episode_lengths': [2769, 2769, 2769, 2769, 2769, 2769, 2769, 2769, 2769, 2769, 2769, 2769, 2769, 2769, 2769, 2769, 2769, 2769, 2769, 2769, 2769, 2769, 2769, 2769, 2769, 2769, 2769, 2769, 2769, 2769, 2769, 2769, 2769, 2769, 2769, 2769, 2769, 2769, 2769, 2769, 2769, 2769, 2769, 2769, 2769, 2769, 2769, 2769, 2769, 2769, 2769, 2769, 2769, 2769, 2769, 2769, 2769, 2769, 2769, 2769, 2769, 2769, 2769, 2769, 2769, 2769, 2769, 2769, 2769, 2769, 2769, 2769, 2769, 2769, 2769, 2769, 2769, 2769, 2769, 2769, 2769, 2769, 2769, 2769, 2769, 2769, 2769, 2769, 2769, 2769, 2769, 2769, 2769, 2769, 2769, 2769, 2769, 2769, 2769, 2769]}, 'sampler_perf': {'mean_raw_obs_processing_ms': 0.6971376661692235, 'mean_inference_ms': 1.4406720088075635, 'mean_action_processing_ms': 0.4001264382707494, 'mean_env_wait_ms': 9.07345657622945, 'mean_env_render_ms': 0.0}, 'num_faulty_episodes': 0, 'connector_metrics': {'ObsPreprocessorConnector_ms': 0.018711566925048828, 'StateBufferConnector_ms': 0.01030111312866211, 'ViewRequirementAgentConnector_ms': 0.3131980895996094}, 'num_healthy_workers': 8, 'num_in_flight_async_reqs': 0, 'num_remote_worker_restarts': 0, 'num_agent_steps_sampled': 424000, 'num_agent_steps_trained': 424000, 'num_env_steps_sampled': 424000, 'num_env_steps_trained': 424000, 'num_env_steps_sampled_this_iter': 4000, 'num_env_steps_trained_this_iter': 4000, 'timesteps_total': 424000, 'num_steps_trained_this_iter': 4000, 'agent_timesteps_total': 424000, 'timers': {'training_iteration_time_ms': 9419.148, 'load_time_ms': 0.293, 'load_throughput': 13670020.37, 'learn_time_ms': 3603.736, 'learn_throughput': 1109.959, 'synch_weights_time_ms': 14.168}, 'counters': {'num_env_steps_sampled': 424000, 'num_env_steps_trained': 424000, 'num_agent_steps_sampled': 424000, 'num_agent_steps_trained': 424000}, 'done': False, 'episodes_total': 152, 'training_iteration': 106, 'trial_id': 'default', 'experiment_id': 'b263e4a211ad4a5990a8e4f4cc4c09c0', 'date': '2023-03-28_13-57-42', 'timestamp': 1679983062, 'time_this_iter_s': 9.439613342285156, 'time_total_s': 1021.3191854953766, 'pid': 28873, 'hostname': 'GibsonROGFlowX13', 'node_ip': '172.24.66.25', 'config': {'extra_python_environs_for_driver': {}, 'extra_python_environs_for_worker': {}, 'num_gpus': 0, 'num_cpus_per_worker': 1, 'num_gpus_per_worker': 0, '_fake_gpus': False, 'num_trainer_workers': 0, 'num_gpus_per_trainer_worker': 0, 'num_cpus_per_trainer_worker': 1, 'custom_resources_per_worker': {}, 'placement_strategy': 'PACK', 'eager_tracing': False, 'eager_max_retraces': 20, 'tf_session_args': {'intra_op_parallelism_threads': 2, 'inter_op_parallelism_threads': 2, 'gpu_options': {'allow_growth': True}, 'log_device_placement': False, 'device_count': {'CPU': 1}, 'allow_soft_placement': True}, 'local_tf_session_args': {'intra_op_parallelism_threads': 8, 'inter_op_parallelism_threads': 8}, 'env': 'finrl', 'env_config': {}, 'observation_space': None, 'action_space': None, 'env_task_fn': None, 'render_env': False, 'clip_rewards': None, 'normalize_actions': True, 'clip_actions': False, 'disable_env_checking': False, 'is_atari': False, 'auto_wrap_old_gym_envs': True, 'num_envs_per_worker': 1, 'sample_collector': <class 'ray.rllib.evaluation.collectors.simple_list_collector.SimpleListCollector'>, 'sample_async': False, 'enable_connectors': True, 'rollout_fragment_length': 'auto', 'batch_mode': 'truncate_episodes', 'remote_worker_envs': False, 'remote_env_batch_wait_ms': 0, 'validate_workers_after_construction': True, 'ignore_worker_failures': False, 'recreate_failed_workers': False, 'restart_failed_sub_environments': False, 'num_consecutive_worker_failures_tolerance': 100, 'preprocessor_pref': 'deepmind', 'observation_filter': 'NoFilter', 'synchronize_filters': True, 'compress_observations': False, 'enable_tf1_exec_eagerly': False, 'sampler_perf_stats_ema_coef': None, 'worker_health_probe_timeout_s': 60, 'worker_restore_timeout_s': 1800, 'gamma': 0.9, 'lr': 0.001, 'train_batch_size': 4000, 'model': {'_disable_preprocessor_api': False, '_disable_action_flattening': False, 'fcnet_hiddens': [256, 256], 'fcnet_activation': 'tanh', 'conv_filters': None, 'conv_activation': 'relu', 'post_fcnet_hiddens': [], 'post_fcnet_activation': 'relu', 'free_log_std': False, 'no_final_linear': False, 'vf_share_layers': False, 'use_lstm': False, 'max_seq_len': 20, 'lstm_cell_size': 256, 'lstm_use_prev_action': False, 'lstm_use_prev_reward': False, '_time_major': False, 'use_attention': False, 'attention_num_transformer_units': 1, 'attention_dim': 64, 'attention_num_heads': 1, 'attention_head_dim': 32, 'attention_memory_inference': 50, 'attention_memory_training': 50, 'attention_position_wise_mlp_dim': 32, 'attention_init_gru_gate_bias': 2.0, 'attention_use_n_prev_actions': 0, 'attention_use_n_prev_rewards': 0, 'framestack': True, 'dim': 84, 'grayscale': False, 'zero_mean': True, 'custom_model': None, 'custom_model_config': {}, 'custom_action_dist': None, 'custom_preprocessor': None, 'lstm_use_prev_action_reward': -1, '_use_default_native_models': -1}, 'optimizer': {}, 'max_requests_in_flight_per_sampler_worker': 2, 'rl_trainer_class': None, '_enable_rl_trainer_api': False, '_rl_trainer_hps': RLTrainerHPs(), 'explore': True, 'exploration_config': {'type': 'StochasticSampling'}, 'policies': {'default_policy': <ray.rllib.policy.policy.PolicySpec object at 0x7f09e46db400>}, 'policy_states_are_swappable': False, 'input_config': {}, 'actions_in_input_normalized': False, 'postprocess_inputs': False, 'shuffle_buffer_size': 0, 'output': None, 'output_config': {}, 'output_compress_columns': ['obs', 'new_obs'], 'output_max_file_size': 67108864, 'offline_sampling': False, 'evaluation_interval': None, 'evaluation_duration': 10, 'evaluation_duration_unit': 'episodes', 'evaluation_sample_timeout_s': 180.0, 'evaluation_parallel_to_training': False, 'evaluation_config': None, 'off_policy_estimation_methods': {}, 'ope_split_batch_by_episode': True, 'evaluation_num_workers': 0, 'always_attach_evaluation_results': False, 'enable_async_evaluation': False, 'in_evaluation': False, 'sync_filters_on_rollout_workers_timeout_s': 60.0, 'keep_per_episode_custom_metrics': False, 'metrics_episode_collection_timeout_s': 60.0, 'metrics_num_episodes_for_smoothing': 100, 'min_time_s_per_iteration': None, 'min_train_timesteps_per_iteration': 0, 'min_sample_timesteps_per_iteration': 0, 'export_native_model_files': False, 'checkpoint_trainable_policies_only': False, 'logger_creator': None, 'logger_config': None, 'log_level': 'WARN', 'log_sys_usage': True, 'fake_sampler': False, 'seed': None, 'worker_cls': None, 'rl_module_class': None, '_enable_rl_module_api': False, '_tf_policy_handles_more_than_one_loss': False, '_disable_preprocessor_api': False, '_disable_action_flattening': False, '_disable_execution_plan_api': True, 'simple_optimizer': False, 'replay_sequence_length': None, 'horizon': -1, 'soft_horizon': -1, 'no_done_at_end': -1, 'lr_schedule': None, 'use_critic': True, 'use_gae': True, 'kl_coeff': 0.3, 'sgd_minibatch_size': 128, 'num_sgd_iter': 30, 'shuffle_sequences': True, 'vf_loss_coeff': 1.0, 'entropy_coeff': 0.0, 'entropy_coeff_schedule': None, 'clip_param': 0.3, 'vf_clip_param': 10.0, 'grad_clip': None, 'kl_target': 0.01, 'vf_share_layers': -1, 'lambda': 1.0, 'input': 'sampler', 'multiagent': {'policies': {'default_policy': (None, None, None, None)}, 'policy_mapping_fn': <function AlgorithmConfig.__init__.<locals>.<lambda> at 0x7f0ba7585160>, 'policies_to_train': None, 'policy_map_capacity': 100, 'policy_map_cache': -1, 'count_steps_by': 'env_steps', 'observation_fn': None}, 'callbacks': <class 'ray.rllib.algorithms.callbacks.DefaultCallbacks'>, 'create_env_on_driver': False, 'custom_eval_function': None, 'framework': 'tf', 'num_cpus_for_driver': 1, 'num_workers': 8}, 'time_since_restore': 1021.3191854953766, 'timesteps_since_restore': 0, 'iterations_since_restore': 106, 'warmup_time': 35.59428858757019, 'perf': {'cpu_util_percent': 41.3375, 'ram_util_percent': 82.0875, 'gpu_util_percent0': 0.0, 'vram_util_percent0': 0.01904296875}}\n"
     ]
    }
   ],
   "source": [
    "## Mean Rewards ### \n",
    "#print(results[-1]['episode_reward_mean'])\n",
    "print(results[-1])\n"
   ]
  },
  {
   "cell_type": "code",
   "execution_count": 24,
   "id": "e1b82920-0746-430c-8c59-5c3467ebd07e",
   "metadata": {},
   "outputs": [
    {
     "data": {
      "text/plain": [
       "'results/checkpoints/ppo_101/checkpoint_000106'"
      ]
     },
     "execution_count": 24,
     "metadata": {},
     "output_type": "execute_result"
    }
   ],
   "source": [
    "# save the trained agent\n",
    "if use_ddppo:\n",
    "    agent_name = 'ddppo'\n",
    "cwd_checkpoint = \"results/checkpoints/\" + str(agent_name) + '_' + str(ep)\n",
    "trainer.save(cwd_checkpoint)"
   ]
  },
  {
   "cell_type": "code",
   "execution_count": null,
   "id": "b8f831c0-015c-4034-90f8-a423bfc3f64f",
   "metadata": {},
   "outputs": [],
   "source": []
  }
 ],
 "metadata": {
  "kernelspec": {
   "display_name": "Python 3 (ipykernel)",
   "language": "python",
   "name": "python3"
  },
  "language_info": {
   "codemirror_mode": {
    "name": "ipython",
    "version": 3
   },
   "file_extension": ".py",
   "mimetype": "text/x-python",
   "name": "python",
   "nbconvert_exporter": "python",
   "pygments_lexer": "ipython3",
   "version": "3.8.16"
  }
 },
 "nbformat": 4,
 "nbformat_minor": 5
}
