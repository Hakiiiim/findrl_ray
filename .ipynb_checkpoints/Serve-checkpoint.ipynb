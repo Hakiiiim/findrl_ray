{
 "cells": [
  {
   "cell_type": "code",
   "execution_count": 1,
   "id": "09ba867d-efbb-4265-9cbd-2e66a76bb547",
   "metadata": {
    "tags": []
   },
   "outputs": [],
   "source": [
    "import sys\n",
    "sys.path.append(\"./finrl\")\n",
    "from env_stocktrading import StockTradingEnv\n",
    "from preprocessors import data_split\n",
    "\n",
    "from finrl.meta.env_stock_trading.env_stocktrading import StockTradingEnv\n",
    "from finrl.meta.preprocessor.preprocessors import FeatureEngineer, data_split\n",
    "import pandas as pd\n",
    "import pickle \n",
    "\n",
    "# load the DataFrame from a pickle file\n",
    "df = pd.read_pickle('dataset/processed.pkl')\n",
    "TRAIN_START_DATE = '2010-01-01'\n",
    "TRAIN_END_DATE = '2021-01-01'\n",
    "TRADE_START_DATE = '2021-01-02'\n",
    "TRADE_END_DATE = '2023-03-24'\n",
    "INDICATORS = ['macd','rsi_14', 'rsi_21','rsi_28',\n",
    " 'boll_ub',\n",
    " 'boll_lb',\n",
    " 'rsi_30',\n",
    " 'cci_30',\n",
    " 'dx_30',\n",
    " 'close_30_sma',\n",
    " 'close_60_sma']"
   ]
  },
  {
   "cell_type": "code",
   "execution_count": 2,
   "id": "368e7f69-1f20-4f95-b3cc-49c55c2bc663",
   "metadata": {
    "tags": []
   },
   "outputs": [],
   "source": [
    "import psutil\n",
    "import ray\n",
    "ray._private.utils.get_system_memory = lambda: psutil.virtual_memory().total\n",
    "from ray.tune.registry import register_env\n",
    "from gymnasium.wrappers import EnvCompatibility"
   ]
  },
  {
   "cell_type": "code",
   "execution_count": 3,
   "id": "7db6617a-ef67-4932-af5b-ddbf79153bea",
   "metadata": {},
   "outputs": [],
   "source": [
    "import pandas as pd\n",
    "#trade = df.loc[(df['date'] >= '2021-01-02') & (df['date'] <= '2023-03-24')].reset_index(drop=True)\n",
    "trade = data_split(df, TRADE_START_DATE,TRADE_END_DATE)"
   ]
  },
  {
   "cell_type": "code",
   "execution_count": 4,
   "id": "c39818dc-1cde-47c3-a477-1bf85ded87ed",
   "metadata": {
    "tags": []
   },
   "outputs": [
    {
     "name": "stdout",
     "output_type": "stream",
     "text": [
      "Stock Dimension: 29, State Space: 378\n"
     ]
    }
   ],
   "source": [
    "stock_dimension = len(trade.tic.unique())\n",
    "state_space = 1 + 2*stock_dimension + len(INDICATORS)*stock_dimension\n",
    "print(f\"Stock Dimension: {stock_dimension}, State Space: {state_space}\")\n",
    "buy_cost_list = sell_cost_list = [0.001] * stock_dimension\n",
    "num_stock_shares = [0] * stock_dimension\n",
    "\n",
    "env_kwargs = {\n",
    "    \"hmax\": 100,\n",
    "    \"initial_amount\": 1000000,\n",
    "    \"num_stock_shares\": num_stock_shares,\n",
    "    \"buy_cost_pct\": buy_cost_list,\n",
    "    \"sell_cost_pct\": sell_cost_list,\n",
    "    \"state_space\": state_space,\n",
    "    \"stock_dim\": stock_dimension,\n",
    "    \"tech_indicator_list\": INDICATORS,\n",
    "    \"action_space\": stock_dimension,\n",
    "    \"reward_scaling\": 1e-4\n",
    "}"
   ]
  },
  {
   "cell_type": "code",
   "execution_count": 5,
   "id": "b64bb77b-8fde-44b3-908e-a82eb1e80f88",
   "metadata": {
    "tags": []
   },
   "outputs": [],
   "source": [
    "e_trade_gym = StockTradingEnv(df = trade, turbulence_threshold = 70, risk_indicator_col='vix', **env_kwargs)"
   ]
  },
  {
   "cell_type": "code",
   "execution_count": 6,
   "id": "facb2fd7-35ff-4f30-bf5d-7e3ebc83f640",
   "metadata": {},
   "outputs": [],
   "source": [
    "def env_creator_trading(env_config):\n",
    "    # env_config is passed as {} and defaults are set here\n",
    "    df = env_config.get('df', trade)  # changed from the training environment\n",
    "    \n",
    "    hmax = env_config.get('hmax', 100)\n",
    "    initial_amount = env_config.get('initial_amount', 1000000)\n",
    "    num_stock_shares = env_config.get('num_stock_shares', [0] * stock_dimension)\n",
    "    buy_cost_pct = env_config.get('buy_cost_pct', buy_cost_list)\n",
    "    sell_cost_pct = env_config.get('sell_cost_pct', sell_cost_list)\n",
    "    state_space = env_config.get('state_space', 1 + 2*stock_dimension + len(INDICATORS)*stock_dimension)\n",
    "    stock_dim = env_config.get('stock_dim', stock_dimension)\n",
    "    tech_indicator_list = env_config.get('tech_indicator_list', INDICATORS)\n",
    "    action_space = env_config.get('action_space', stock_dimension)\n",
    "    reward_scaling = env_config.get('reward_scaling', 1e-4)\n",
    "    \n",
    "    # specific for trading\n",
    "    turbulence_threshold = env_config.get('turbulence_threshold', 70)\n",
    "    risk_indicator_col = env_config.get('risk_indicator_col', 'vix')\n",
    "\n",
    "    return EnvCompatibility(StockTradingEnv(\n",
    "        df=df,\n",
    "        hmax=hmax,\n",
    "        initial_amount=initial_amount,\n",
    "        num_stock_shares=num_stock_shares,\n",
    "        buy_cost_pct=buy_cost_pct,\n",
    "        sell_cost_pct=sell_cost_pct,\n",
    "        state_space=state_space,\n",
    "        stock_dim=stock_dim,\n",
    "        tech_indicator_list=tech_indicator_list,\n",
    "        action_space=action_space,\n",
    "        reward_scaling=reward_scaling,\n",
    "        turbulence_threshold=turbulence_threshold,\n",
    "        risk_indicator_col=risk_indicator_col\n",
    "    ))"
   ]
  },
  {
   "cell_type": "code",
   "execution_count": 7,
   "id": "0a5d0511-1889-4928-a324-607b91fadc49",
   "metadata": {
    "tags": []
   },
   "outputs": [],
   "source": [
    "from ray.rllib.agents import ppo\n",
    "config = ppo.PPOConfig()\n",
    "config = config.environment(\n",
    "    env_config={'hmax':10000, 'initial_amount':1000000}\n",
    ")\n",
    "\n",
    "# Training\n",
    "#config = config.training()\n",
    "\n",
    "# Resources\n",
    "config = config.resources(\n",
    "    num_gpus=0,\n",
    "    num_cpus_per_worker=1,\n",
    "    num_gpus_per_worker=0,\n",
    "    num_trainer_workers=2,\n",
    "    num_gpus_per_trainer_worker = 0,\n",
    "    num_cpus_per_trainer_worker = 1,\n",
    ")\n",
    "# Framework\n",
    "#config = config.framework(\n",
    "#    framework=\"torch\",\n",
    "#)\n",
    "# Rollouts\n",
    "config = config.rollouts(\n",
    "    num_rollout_workers=2,\n",
    "    num_envs_per_worker=1,\n",
    ")\n",
    "\n",
    "# Additional because we are evaluating now\n",
    "config = config.exploration(\n",
    "    explore=False\n",
    ")\n",
    "#ray.shutdown()"
   ]
  },
  {
   "cell_type": "code",
   "execution_count": 8,
   "id": "0ef1797d-7b3c-4e7e-aa9c-6eed9b818036",
   "metadata": {
    "tags": []
   },
   "outputs": [],
   "source": [
    "#from ray.rllib.algorithms.ppo import PPOConfig\n",
    "#cwd_checkpoint = 'model/checkpoint_001000'\n",
    "\n",
    "#register_env(\"finrl_trading\", env_creator_trading)\n",
    "#algo = PPOConfig().environment('finrl_trading').build()\n",
    "#algo = algo.restore(cwd_checkpoint)\n"
   ]
  },
  {
   "cell_type": "code",
   "execution_count": 9,
   "id": "bf0c3f1e-69f1-41fc-ae35-290b40518074",
   "metadata": {},
   "outputs": [
    {
     "name": "stderr",
     "output_type": "stream",
     "text": [
      "2023-03-30 20:54:02,734\tWARNING deprecation.py:50 -- DeprecationWarning: `algo = Algorithm(env='finrl_trading', ...)` has been deprecated. Use `algo = AlgorithmConfig().environment('finrl_trading').build()` instead. This will raise an error in the future!\n",
      "2023-03-30 20:54:08,797\tINFO worker.py:1544 -- Started a local Ray instance. View the dashboard at \u001b[1m\u001b[32mhttp://127.0.0.1:8265 \u001b[39m\u001b[22m\n",
      "\u001b[2m\u001b[36m(RolloutWorker pid=9195)\u001b[0m 2023-03-30 20:54:14,831\tWARNING env.py:156 -- Your env doesn't have a .spec.max_episode_steps attribute. Your horizon will default to infinity, and your environment will not be reset.\n",
      "\u001b[2m\u001b[36m(RolloutWorker pid=9195)\u001b[0m 2023-03-30 20:54:14,831\tWARNING env.py:166 -- Your env reset() method appears to take 'seed' or 'return_info' arguments. Note that these are not yet supported in RLlib. Seeding will take place using 'env.seed()' and the info dict will not be returned from reset.\n",
      "\u001b[2m\u001b[36m(RolloutWorker pid=9195)\u001b[0m /home/ga_aiot/anaconda3/envs/finrl/lib/python3.8/site-packages/gymnasium/spaces/box.py:227: UserWarning: \u001b[33mWARN: Casting input x to numpy array.\u001b[0m\n",
      "\u001b[2m\u001b[36m(RolloutWorker pid=9195)\u001b[0m   logger.warn(\"Casting input x to numpy array.\")\n",
      "\u001b[2m\u001b[36m(RolloutWorker pid=9200)\u001b[0m /home/ga_aiot/anaconda3/envs/finrl/lib/python3.8/site-packages/gymnasium/spaces/box.py:227: UserWarning: \u001b[33mWARN: Casting input x to numpy array.\u001b[0m\n",
      "\u001b[2m\u001b[36m(RolloutWorker pid=9200)\u001b[0m   logger.warn(\"Casting input x to numpy array.\")\n",
      "2023-03-30 20:54:32,610\tINFO trainable.py:172 -- Trainable.setup took 29.861 seconds. If your trainable is slow to initialize, consider setting reuse_actors=True to reduce actor creation overheads.\n",
      "2023-03-30 20:54:32,773\tINFO trainable.py:791 -- Restored on 172.24.67.242 from checkpoint: model/checkpoint_001000\n",
      "2023-03-30 20:54:32,775\tINFO trainable.py:800 -- Current state after restoring: {'_iteration': 1000, '_timesteps_total': None, '_time_total': 11608.134165763855, '_episodes_total': 1438}\n"
     ]
    }
   ],
   "source": [
    "# registering the environment to ray\n",
    "register_env(\"finrl_trading\", env_creator_trading)\n",
    "#trainer = config.build(env=\"finrl\")\n",
    "cwd_checkpoint = 'model/checkpoint_001000'\n",
    "#trainer.restore(cwd_checkpoint)\n",
    "trainer = ppo.PPOTrainer(env='finrl_trading', config=config)\n",
    "trainer.restore(cwd_checkpoint)\n",
    "\n",
    "# define trainer\n",
    "#trainer = ppo.PPOTrainer(env='finrl_trading', config=config)f\n",
    "    "
   ]
  },
  {
   "cell_type": "code",
   "execution_count": 10,
   "id": "a1c625d4-f48e-4089-8a17-40617099945e",
   "metadata": {},
   "outputs": [],
   "source": [
    "# load saved agent\n",
    "#cwd_checkpoint = f\"results/checkpoints/ppo_{total_episodes+1}/checkpoint_0000{total_episodes+1}\"\n",
    "#print(f\"Restoring from checkpoint {total_episodes+1}\")\n"
   ]
  },
  {
   "cell_type": "code",
   "execution_count": 11,
   "id": "0d56b7e8-8e68-49c4-9654-14fdb5fd2a98",
   "metadata": {},
   "outputs": [],
   "source": [
    "import time \n",
    "def DRL_prediction(model, environment):\n",
    "    start = time.time()\n",
    "    \"\"\"make a prediction\"\"\"\n",
    "    state = environment.reset()\n",
    "    for i in range(len(environment.df.index.unique())):\n",
    "        action = model.compute_single_action(state)\n",
    "        state, reward, done, _ = environment.step(action)\n",
    "        if i == (len(environment.df.index.unique()) - 2):\n",
    "            account_memory = environment.save_asset_memory()\n",
    "            actions_memory = environment.save_action_memory()\n",
    "        if done:\n",
    "            break\n",
    "    print(\"Test Finished!\")\n",
    "    print((time.time()-start),'s')\n",
    "    return account_memory, actions_memory"
   ]
  },
  {
   "cell_type": "code",
   "execution_count": 12,
   "id": "06981d14-188e-4298-afc0-f2ba531a47d6",
   "metadata": {
    "tags": []
   },
   "outputs": [],
   "source": [
    "#df_actions.to_csv('actions3.csv', index=False)"
   ]
  },
  {
   "cell_type": "code",
   "execution_count": 17,
   "id": "f5d7c1b9-5519-473f-ba83-1b90d30119e2",
   "metadata": {},
   "outputs": [
    {
     "name": "stdout",
     "output_type": "stream",
     "text": [
      "Test Finished!\n",
      "0.97751784324646 s\n",
      "            AAPL  AMGN  AXP  BA  CAT  CRM  CSCO  CVX  DIS  GS  ...  MRK  MSFT  \\\n",
      "date                                                           ...              \n",
      "2021-10-19     0     0  -22   0    0    0     0    0    0 -22  ...    0     0   \n",
      "\n",
      "            NKE   PG  TRV  UNH  V  VZ  WBA  WMT  \n",
      "date                                             \n",
      "2021-10-19    0  100    0    0  0 -81    2   -7  \n",
      "\n",
      "[1 rows x 29 columns]\n",
      "           date  account_value\n",
      "329  2021-10-20   1.280144e+06\n"
     ]
    }
   ],
   "source": [
    "def inference(tsd,ted):\n",
    "    trade = data_split(df, tsd,ted)\n",
    "    e_trade_gym = StockTradingEnv(df = trade, turbulence_threshold = 70,risk_indicator_col='vix', **env_kwargs)\n",
    "    df_account_value, df_actions = DRL_prediction(model=trainer, environment = e_trade_gym)\n",
    "    return df_account_value, df_actions\n",
    "nav, df_trade = inference('2020-07-01','2021-10-21')\n",
    "print(df_trade.tail(1))\n",
    "print(nav.tail(1))"
   ]
  },
  {
   "cell_type": "code",
   "execution_count": 14,
   "id": "671bc0d0-10ec-489b-ba07-0ba63518f99f",
   "metadata": {
    "tags": []
   },
   "outputs": [
    {
     "ename": "AttributeError",
     "evalue": "'PPO' object has no attribute 'local_replay_buffer'",
     "output_type": "error",
     "traceback": [
      "\u001b[0;31m---------------------------------------------------------------------------\u001b[0m",
      "\u001b[0;31mAttributeError\u001b[0m                            Traceback (most recent call last)",
      "Cell \u001b[0;32mIn[14], line 11\u001b[0m\n\u001b[1;32m      5\u001b[0m \u001b[38;5;66;03m# 1: Define a FastAPI app and wrap it in a deployment with a route handler.\u001b[39;00m\n\u001b[1;32m      6\u001b[0m app \u001b[38;5;241m=\u001b[39m FastAPI()\n\u001b[1;32m      9\u001b[0m \u001b[38;5;129;43m@serve\u001b[39;49m\u001b[38;5;241;43m.\u001b[39;49m\u001b[43mdeployment\u001b[49m\u001b[43m(\u001b[49m\u001b[43mroute_prefix\u001b[49m\u001b[38;5;241;43m=\u001b[39;49m\u001b[38;5;124;43m\"\u001b[39;49m\u001b[38;5;124;43m/\u001b[39;49m\u001b[38;5;124;43m\"\u001b[39;49m\u001b[43m)\u001b[49m\n\u001b[1;32m     10\u001b[0m \u001b[38;5;129;43m@serve\u001b[39;49m\u001b[38;5;241;43m.\u001b[39;49m\u001b[43mingress\u001b[49m\u001b[43m(\u001b[49m\u001b[43mapp\u001b[49m\u001b[43m)\u001b[49m\n\u001b[0;32m---> 11\u001b[0m \u001b[38;5;28;43;01mclass\u001b[39;49;00m\u001b[43m \u001b[49m\u001b[38;5;21;43;01mFastAPIDeployment\u001b[39;49;00m\u001b[43m:\u001b[49m\n\u001b[1;32m     12\u001b[0m \u001b[43m    \u001b[49m\u001b[38;5;28;43;01mdef\u001b[39;49;00m\u001b[43m \u001b[49m\u001b[38;5;21;43m__init__\u001b[39;49m\u001b[43m(\u001b[49m\u001b[38;5;28;43mself\u001b[39;49m\u001b[43m)\u001b[49m\u001b[43m:\u001b[49m\n\u001b[1;32m     13\u001b[0m \u001b[43m        \u001b[49m\u001b[38;5;66;43;03m# Load model\u001b[39;49;00m\n\u001b[1;32m     14\u001b[0m \u001b[43m        \u001b[49m\u001b[43mregister_env\u001b[49m\u001b[43m(\u001b[49m\u001b[38;5;124;43m\"\u001b[39;49m\u001b[38;5;124;43mfinrl_trading\u001b[39;49m\u001b[38;5;124;43m\"\u001b[39;49m\u001b[43m,\u001b[49m\u001b[43m \u001b[49m\u001b[43menv_creator_trading\u001b[49m\u001b[43m)\u001b[49m\n",
      "File \u001b[0;32m~/anaconda3/envs/finrl/lib/python3.8/site-packages/ray/serve/api.py:196\u001b[0m, in \u001b[0;36mingress.<locals>.decorator\u001b[0;34m(cls)\u001b[0m\n\u001b[1;32m    192\u001b[0m \u001b[38;5;66;03m# Free the state of the app so subsequent modification won't affect\u001b[39;00m\n\u001b[1;32m    193\u001b[0m \u001b[38;5;66;03m# this ingress deployment. We don't use copy.copy here to avoid\u001b[39;00m\n\u001b[1;32m    194\u001b[0m \u001b[38;5;66;03m# recursion issue.\u001b[39;00m\n\u001b[1;32m    195\u001b[0m ensure_serialization_context()\n\u001b[0;32m--> 196\u001b[0m frozen_app \u001b[38;5;241m=\u001b[39m \u001b[43mcloudpickle\u001b[49m\u001b[38;5;241;43m.\u001b[39;49m\u001b[43mloads\u001b[49m\u001b[43m(\u001b[49m\u001b[43mcloudpickle\u001b[49m\u001b[38;5;241;43m.\u001b[39;49m\u001b[43mdumps\u001b[49m\u001b[43m(\u001b[49m\u001b[43mapp\u001b[49m\u001b[43m)\u001b[49m\u001b[43m)\u001b[49m\n\u001b[1;32m    198\u001b[0m \u001b[38;5;28;01mclass\u001b[39;00m \u001b[38;5;21;01mASGIAppWrapper\u001b[39;00m(\u001b[38;5;28mcls\u001b[39m):\n\u001b[1;32m    199\u001b[0m     \u001b[38;5;28;01masync\u001b[39;00m \u001b[38;5;28;01mdef\u001b[39;00m \u001b[38;5;21m__init__\u001b[39m(\u001b[38;5;28mself\u001b[39m, \u001b[38;5;241m*\u001b[39margs, \u001b[38;5;241m*\u001b[39m\u001b[38;5;241m*\u001b[39mkwargs):\n",
      "File \u001b[0;32m~/anaconda3/envs/finrl/lib/python3.8/site-packages/ray/rllib/algorithms/algorithm.py:2518\u001b[0m, in \u001b[0;36mAlgorithm.__setstate__\u001b[0;34m(self, state)\u001b[0m\n\u001b[1;32m   2512\u001b[0m         \u001b[38;5;28mself\u001b[39m\u001b[38;5;241m.\u001b[39mevaluation_workers\u001b[38;5;241m.\u001b[39mforeach_worker(\n\u001b[1;32m   2513\u001b[0m             \u001b[38;5;28;01mlambda\u001b[39;00m w: w\u001b[38;5;241m.\u001b[39mset_state(ray\u001b[38;5;241m.\u001b[39mget(remote_state)),\n\u001b[1;32m   2514\u001b[0m             local_worker\u001b[38;5;241m=\u001b[39m\u001b[38;5;28;01mFalse\u001b[39;00m,\n\u001b[1;32m   2515\u001b[0m             healthy_only\u001b[38;5;241m=\u001b[39m\u001b[38;5;28;01mFalse\u001b[39;00m,\n\u001b[1;32m   2516\u001b[0m         )\n\u001b[1;32m   2517\u001b[0m \u001b[38;5;66;03m# If necessary, restore replay data as well.\u001b[39;00m\n\u001b[0;32m-> 2518\u001b[0m \u001b[38;5;28;01mif\u001b[39;00m \u001b[38;5;28;43mself\u001b[39;49m\u001b[38;5;241;43m.\u001b[39;49m\u001b[43mlocal_replay_buffer\u001b[49m \u001b[38;5;129;01mis\u001b[39;00m \u001b[38;5;129;01mnot\u001b[39;00m \u001b[38;5;28;01mNone\u001b[39;00m:\n\u001b[1;32m   2519\u001b[0m     \u001b[38;5;66;03m# TODO: Experimental functionality: Restore contents of replay\u001b[39;00m\n\u001b[1;32m   2520\u001b[0m     \u001b[38;5;66;03m#  buffer from checkpoint, only if user has configured this.\u001b[39;00m\n\u001b[1;32m   2521\u001b[0m     \u001b[38;5;28;01mif\u001b[39;00m \u001b[38;5;28mself\u001b[39m\u001b[38;5;241m.\u001b[39mconfig\u001b[38;5;241m.\u001b[39mget(\u001b[38;5;124m\"\u001b[39m\u001b[38;5;124mstore_buffer_in_checkpoints\u001b[39m\u001b[38;5;124m\"\u001b[39m):\n\u001b[1;32m   2522\u001b[0m         \u001b[38;5;28;01mif\u001b[39;00m \u001b[38;5;124m\"\u001b[39m\u001b[38;5;124mlocal_replay_buffer\u001b[39m\u001b[38;5;124m\"\u001b[39m \u001b[38;5;129;01min\u001b[39;00m state:\n",
      "\u001b[0;31mAttributeError\u001b[0m: 'PPO' object has no attribute 'local_replay_buffer'"
     ]
    }
   ],
   "source": [
    "import requests\n",
    "from fastapi import FastAPI\n",
    "from ray import serve\n",
    "\n",
    "# 1: Define a FastAPI app and wrap it in a deployment with a route handler.\n",
    "app = FastAPI()\n",
    "\n",
    "\n",
    "@serve.deployment(route_prefix=\"/\")\n",
    "@serve.ingress(app)\n",
    "class FastAPIDeployment:\n",
    "    def __init__(self):\n",
    "        # Load model\n",
    "        register_env(\"finrl_trading\", env_creator_trading)\n",
    "        #trainer = config.build(env=\"finrl\")\n",
    "        trainer = ppo.PPOTrainer(env='finrl_trading', config=config)\n",
    "        cwd_checkpoint = 'model/checkpoint_001000'\n",
    "        trainer.restore(cwd_checkpoint)\n",
    "        self.model = trainer\n",
    "\n",
    "    \n",
    "    # FastAPI will automatically parse the HTTP request for us.\n",
    "    @app.get(\"/hello\")\n",
    "    def inference(self,tsd:str,ted:str) -> str:\n",
    "        trade = data_split(df, tsd,ted)\n",
    "        e_trade_gym = StockTradingEnv(df = trade, turbulence_threshold = 70,risk_indicator_col='vix', **env_kwargs)\n",
    "        df_account_value, df_actions = DRL_prediction(model=trainer, environment = e_trade_gym)\n",
    "        return df_actions.tail(1)\n",
    "    #def say_hello(self, tsd: str,ted:str) -> str:\n",
    "     #   return f\"Hello {name}!\"\n",
    "\n",
    "\n",
    "# 2: Deploy the deployment.\n",
    "serve.run(FastAPIDeployment.bind())\n",
    "\n",
    "# 3: Query the deployment and print the result.\n",
    "# \"Hello Theodore!\""
   ]
  },
  {
   "cell_type": "code",
   "execution_count": null,
   "id": "59714886-6c5b-4ef7-b315-5b73ee1f0e0d",
   "metadata": {
    "tags": []
   },
   "outputs": [],
   "source": [
    "print(requests.get(\"http://localhost:8000/hello\", params={\"tsd\": \"2020-07-01\",\"ted\":\"2021-10-21\"}).json())"
   ]
  }
 ],
 "metadata": {
  "kernelspec": {
   "display_name": "Python 3 (ipykernel)",
   "language": "python",
   "name": "python3"
  },
  "language_info": {
   "codemirror_mode": {
    "name": "ipython",
    "version": 3
   },
   "file_extension": ".py",
   "mimetype": "text/x-python",
   "name": "python",
   "nbconvert_exporter": "python",
   "pygments_lexer": "ipython3",
   "version": "3.8.16"
  }
 },
 "nbformat": 4,
 "nbformat_minor": 5
}
