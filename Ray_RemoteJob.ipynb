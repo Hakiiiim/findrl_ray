{
 "cells": [
  {
   "cell_type": "code",
   "execution_count": 6,
   "id": "fa00a601-4092-4888-b16b-18a4e9909e83",
   "metadata": {
    "tags": []
   },
   "outputs": [
    {
     "name": "stdout",
     "output_type": "stream",
     "text": [
      "Use the following command to follow this Job's logs:\n",
      "ray job logs 'raysubmit_eWx6xND9g6EqSWVD' --follow\n"
     ]
    }
   ],
   "source": [
    "from ray.job_submission import JobSubmissionClient\n",
    "\n",
    "cartpole = (\n",
    "    # Clone ray. If ray is already present, don't clone again.\n",
    "    #\" git clone https://github.com/gibsonlin/FinRL_Podracer || true;\"\n",
    "    # Run the benchmark.\n",
    "    #\" pip install tf-nightly || true;\"\n",
    "    \" python findrl_ray/ray_ppo2.py\"\n",
    "    #\" --size 100G --disable-check\"\n",
    ")\n",
    "\n",
    "client = JobSubmissionClient(\"http://127.0.0.1:8265\")\n",
    "submission_id = client.submit_job(\n",
    "    entrypoint=cartpole,\n",
    ")\n",
    "\n",
    "print(\"Use the following command to follow this Job's logs:\")\n",
    "print(f\"ray job logs '{submission_id}' --follow\")"
   ]
  },
  {
   "cell_type": "code",
   "execution_count": null,
   "id": "6de36b27-f9d2-48cd-b2e8-30baf5a17c77",
   "metadata": {},
   "outputs": [],
   "source": [
    "## Local train job test ## "
   ]
  },
  {
   "cell_type": "code",
   "execution_count": 17,
   "id": "f418790b-bebb-4025-9305-90859a1f54d9",
   "metadata": {
    "tags": []
   },
   "outputs": [
    {
     "name": "stdout",
     "output_type": "stream",
     "text": [
      "results/ppo_1001_230330\n",
      "Current episode1 \n",
      "Time this iterations:0.00s\n",
      "Current episode2 \n",
      "Time this iterations:0.00s\n"
     ]
    }
   ],
   "source": [
    "import time\n",
    "from datetime import datetime\n",
    "# Get the current date as a string in the format YYMMDD\n",
    "date_suffix = datetime.now().strftime('%y%m%d')\n",
    "# Create the file path with the agent name, episode, and date suffix\n",
    "cwd_checkpoint = f\"results/{agent_name}_{ep}_{date_suffix}\"\n",
    "print(cwd_checkpoint)\n",
    "total_episodes=1\n",
    "agent_name = 'ppo'\n",
    "ep = 0\n",
    "results = []\n",
    "while ep <= total_episodes:\n",
    "    start = time.time()\n",
    "    ep += 1\n",
    "    print(f'Current episode{ep} \\nTime this iterations:{time.time()-start:.2f}s')"
   ]
  },
  {
   "cell_type": "code",
   "execution_count": null,
   "id": "6fd726fb-415a-4b99-bcba-bfffdfff54e3",
   "metadata": {},
   "outputs": [],
   "source": []
  }
 ],
 "metadata": {
  "kernelspec": {
   "display_name": "Python 3 (ipykernel)",
   "language": "python",
   "name": "python3"
  },
  "language_info": {
   "codemirror_mode": {
    "name": "ipython",
    "version": 3
   },
   "file_extension": ".py",
   "mimetype": "text/x-python",
   "name": "python",
   "nbconvert_exporter": "python",
   "pygments_lexer": "ipython3",
   "version": "3.8.16"
  }
 },
 "nbformat": 4,
 "nbformat_minor": 5
}
