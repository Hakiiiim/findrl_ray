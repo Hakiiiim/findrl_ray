{
 "cells": [
  {
   "cell_type": "code",
   "execution_count": 19,
   "id": "09ba867d-efbb-4265-9cbd-2e66a76bb547",
   "metadata": {
    "tags": []
   },
   "outputs": [],
   "source": [
    "import sys\n",
    "sys.path.append('./Ray_finrl/findrl_ray/finenv')\n",
    "from finenv.env_stocktrading import StockTradingEnv\n",
    "from finenv.preprocessors import FeatureEngineer, data_split\n",
    "import pandas as pd\n",
    "import pickle \n",
    "# load the DataFrame from a pickle file\n",
    "#df = pd.read_pickle('dataset/processed.pkl')\n",
    "\n",
    "trade = pd.read_csv('dataset/trade_data.csv')\n",
    "trade = trade.set_index(trade.columns[0])\n",
    "trade.index.names = ['']\n",
    "\n",
    "TRAIN_START_DATE = '2010-01-01'\n",
    "TRAIN_END_DATE = '2021-01-01'\n",
    "TRADE_START_DATE = '2021-01-02'\n",
    "TRADE_END_DATE = '2023-03-24'"
   ]
  },
  {
   "cell_type": "code",
   "execution_count": 20,
   "id": "89700baa-b683-4a5e-87d0-41c304bde9af",
   "metadata": {
    "tags": []
   },
   "outputs": [],
   "source": [
    "INDICATORS = ['macd','boll_ub','boll_lb','rsi_30','cci_30','dx_30','close_30_sma','close_60_sma']"
   ]
  },
  {
   "cell_type": "code",
   "execution_count": 3,
   "id": "368e7f69-1f20-4f95-b3cc-49c55c2bc663",
   "metadata": {
    "tags": []
   },
   "outputs": [],
   "source": [
    "import psutil\n",
    "import ray\n",
    "ray._private.utils.get_system_memory = lambda: psutil.virtual_memory().total\n",
    "from ray.tune.registry import register_env\n",
    "from gymnasium.wrappers import EnvCompatibility"
   ]
  },
  {
   "cell_type": "code",
   "execution_count": 4,
   "id": "7db6617a-ef67-4932-af5b-ddbf79153bea",
   "metadata": {
    "tags": []
   },
   "outputs": [
    {
     "data": {
      "text/html": [
       "<div>\n",
       "<style scoped>\n",
       "    .dataframe tbody tr th:only-of-type {\n",
       "        vertical-align: middle;\n",
       "    }\n",
       "\n",
       "    .dataframe tbody tr th {\n",
       "        vertical-align: top;\n",
       "    }\n",
       "\n",
       "    .dataframe thead th {\n",
       "        text-align: right;\n",
       "    }\n",
       "</style>\n",
       "<table border=\"1\" class=\"dataframe\">\n",
       "  <thead>\n",
       "    <tr style=\"text-align: right;\">\n",
       "      <th></th>\n",
       "      <th>date</th>\n",
       "      <th>tic</th>\n",
       "      <th>open</th>\n",
       "      <th>high</th>\n",
       "      <th>low</th>\n",
       "      <th>close</th>\n",
       "      <th>volume</th>\n",
       "      <th>day</th>\n",
       "      <th>macd</th>\n",
       "      <th>boll_ub</th>\n",
       "      <th>boll_lb</th>\n",
       "      <th>rsi_30</th>\n",
       "      <th>cci_30</th>\n",
       "      <th>dx_30</th>\n",
       "      <th>close_30_sma</th>\n",
       "      <th>close_60_sma</th>\n",
       "    </tr>\n",
       "    <tr>\n",
       "      <th></th>\n",
       "      <th></th>\n",
       "      <th></th>\n",
       "      <th></th>\n",
       "      <th></th>\n",
       "      <th></th>\n",
       "      <th></th>\n",
       "      <th></th>\n",
       "      <th></th>\n",
       "      <th></th>\n",
       "      <th></th>\n",
       "      <th></th>\n",
       "      <th></th>\n",
       "      <th></th>\n",
       "      <th></th>\n",
       "      <th></th>\n",
       "      <th></th>\n",
       "    </tr>\n",
       "  </thead>\n",
       "  <tbody>\n",
       "    <tr>\n",
       "      <th>0</th>\n",
       "      <td>2019-05-13</td>\n",
       "      <td>AAL</td>\n",
       "      <td>33.160000</td>\n",
       "      <td>33.200001</td>\n",
       "      <td>31.980000</td>\n",
       "      <td>31.806324</td>\n",
       "      <td>7040900.0</td>\n",
       "      <td>0.0</td>\n",
       "      <td>0.068303</td>\n",
       "      <td>34.569498</td>\n",
       "      <td>32.334917</td>\n",
       "      <td>45.215431</td>\n",
       "      <td>-214.170585</td>\n",
       "      <td>27.605727</td>\n",
       "      <td>33.410860</td>\n",
       "      <td>32.926946</td>\n",
       "    </tr>\n",
       "    <tr>\n",
       "      <th>0</th>\n",
       "      <td>2019-05-13</td>\n",
       "      <td>AAPL</td>\n",
       "      <td>46.927502</td>\n",
       "      <td>47.369999</td>\n",
       "      <td>45.712502</td>\n",
       "      <td>45.109749</td>\n",
       "      <td>229722400.0</td>\n",
       "      <td>0.0</td>\n",
       "      <td>0.197157</td>\n",
       "      <td>51.926065</td>\n",
       "      <td>46.557557</td>\n",
       "      <td>45.444855</td>\n",
       "      <td>-217.008364</td>\n",
       "      <td>36.029204</td>\n",
       "      <td>48.727347</td>\n",
       "      <td>46.152760</td>\n",
       "    </tr>\n",
       "    <tr>\n",
       "      <th>0</th>\n",
       "      <td>2019-05-13</td>\n",
       "      <td>ADBE</td>\n",
       "      <td>270.570007</td>\n",
       "      <td>274.190002</td>\n",
       "      <td>267.220001</td>\n",
       "      <td>267.700012</td>\n",
       "      <td>2698300.0</td>\n",
       "      <td>0.0</td>\n",
       "      <td>1.817067</td>\n",
       "      <td>289.657626</td>\n",
       "      <td>265.629380</td>\n",
       "      <td>49.563237</td>\n",
       "      <td>-70.042576</td>\n",
       "      <td>11.671184</td>\n",
       "      <td>275.212335</td>\n",
       "      <td>267.923668</td>\n",
       "    </tr>\n",
       "    <tr>\n",
       "      <th>0</th>\n",
       "      <td>2019-05-13</td>\n",
       "      <td>ADI</td>\n",
       "      <td>107.139999</td>\n",
       "      <td>107.680000</td>\n",
       "      <td>103.660004</td>\n",
       "      <td>96.640244</td>\n",
       "      <td>4900300.0</td>\n",
       "      <td>0.0</td>\n",
       "      <td>-0.249286</td>\n",
       "      <td>110.952114</td>\n",
       "      <td>99.932756</td>\n",
       "      <td>44.527712</td>\n",
       "      <td>-209.619942</td>\n",
       "      <td>31.042926</td>\n",
       "      <td>104.556204</td>\n",
       "      <td>101.852576</td>\n",
       "    </tr>\n",
       "    <tr>\n",
       "      <th>0</th>\n",
       "      <td>2019-05-13</td>\n",
       "      <td>ADP</td>\n",
       "      <td>158.410004</td>\n",
       "      <td>159.729996</td>\n",
       "      <td>157.000000</td>\n",
       "      <td>144.804428</td>\n",
       "      <td>1898900.0</td>\n",
       "      <td>0.0</td>\n",
       "      <td>0.054466</td>\n",
       "      <td>153.079861</td>\n",
       "      <td>144.267388</td>\n",
       "      <td>51.116722</td>\n",
       "      <td>-122.031909</td>\n",
       "      <td>12.592402</td>\n",
       "      <td>148.526603</td>\n",
       "      <td>144.703044</td>\n",
       "    </tr>\n",
       "  </tbody>\n",
       "</table>\n",
       "</div>"
      ],
      "text/plain": [
       "         date   tic        open        high         low       close  \\\n",
       "                                                                      \n",
       "0  2019-05-13   AAL   33.160000   33.200001   31.980000   31.806324   \n",
       "0  2019-05-13  AAPL   46.927502   47.369999   45.712502   45.109749   \n",
       "0  2019-05-13  ADBE  270.570007  274.190002  267.220001  267.700012   \n",
       "0  2019-05-13   ADI  107.139999  107.680000  103.660004   96.640244   \n",
       "0  2019-05-13   ADP  158.410004  159.729996  157.000000  144.804428   \n",
       "\n",
       "        volume  day      macd     boll_ub     boll_lb     rsi_30      cci_30  \\\n",
       "                                                                               \n",
       "0    7040900.0  0.0  0.068303   34.569498   32.334917  45.215431 -214.170585   \n",
       "0  229722400.0  0.0  0.197157   51.926065   46.557557  45.444855 -217.008364   \n",
       "0    2698300.0  0.0  1.817067  289.657626  265.629380  49.563237  -70.042576   \n",
       "0    4900300.0  0.0 -0.249286  110.952114   99.932756  44.527712 -209.619942   \n",
       "0    1898900.0  0.0  0.054466  153.079861  144.267388  51.116722 -122.031909   \n",
       "\n",
       "       dx_30  close_30_sma  close_60_sma  \n",
       "                                          \n",
       "0  27.605727     33.410860     32.926946  \n",
       "0  36.029204     48.727347     46.152760  \n",
       "0  11.671184    275.212335    267.923668  \n",
       "0  31.042926    104.556204    101.852576  \n",
       "0  12.592402    148.526603    144.703044  "
      ]
     },
     "execution_count": 4,
     "metadata": {},
     "output_type": "execute_result"
    }
   ],
   "source": [
    "trade.head()"
   ]
  },
  {
   "cell_type": "code",
   "execution_count": 5,
   "id": "5a183cc2-659f-4fd9-a986-d08d550dfb4e",
   "metadata": {
    "tags": []
   },
   "outputs": [
    {
     "name": "stdout",
     "output_type": "stream",
     "text": [
      "Stock Dimension: 80, State Space: 801\n"
     ]
    }
   ],
   "source": [
    "stock_dimension = len(trade.tic.unique())\n",
    "state_space = 1 + 2*stock_dimension + len(INDICATORS)*stock_dimension\n",
    "print(f\"Stock Dimension: {stock_dimension}, State Space: {state_space}\")"
   ]
  },
  {
   "cell_type": "code",
   "execution_count": 6,
   "id": "c39818dc-1cde-47c3-a477-1bf85ded87ed",
   "metadata": {
    "tags": []
   },
   "outputs": [],
   "source": [
    "buy_cost_list = sell_cost_list = [0.001] * stock_dimension\n",
    "num_stock_shares = [0] * stock_dimension\n",
    "\n",
    "env_kwargs = {\n",
    "    \"hmax\": 100,\n",
    "    \"initial_amount\": 1000000,\n",
    "    \"num_stock_shares\": num_stock_shares,\n",
    "    \"buy_cost_pct\": buy_cost_list,\n",
    "    \"sell_cost_pct\": sell_cost_list,\n",
    "    \"state_space\": state_space,\n",
    "    \"stock_dim\": stock_dimension,\n",
    "    \"tech_indicator_list\": INDICATORS,\n",
    "    \"action_space\": stock_dimension,\n",
    "    \"reward_scaling\": 1e-4\n",
    "}"
   ]
  },
  {
   "cell_type": "code",
   "execution_count": 12,
   "id": "b64bb77b-8fde-44b3-908e-a82eb1e80f88",
   "metadata": {
    "tags": []
   },
   "outputs": [],
   "source": [
    "e_trade_gym = StockTradingEnv(df = trade, turbulence_threshold = None, risk_indicator_col= 'vix', **env_kwargs)"
   ]
  },
  {
   "cell_type": "code",
   "execution_count": 13,
   "id": "facb2fd7-35ff-4f30-bf5d-7e3ebc83f640",
   "metadata": {
    "tags": []
   },
   "outputs": [],
   "source": [
    "def env_creator_trading(env_config):\n",
    "    # env_config is passed as {} and defaults are set here\n",
    "    df = env_config.get('df', trade)  # changed from the training environment\n",
    "    hmax = env_config.get('hmax', 100)\n",
    "    initial_amount = env_config.get('initial_amount', 1000000)\n",
    "    num_stock_shares = env_config.get('num_stock_shares', [0] * stock_dimension)\n",
    "    buy_cost_pct = env_config.get('buy_cost_pct', buy_cost_list)\n",
    "    sell_cost_pct = env_config.get('sell_cost_pct', sell_cost_list)\n",
    "    state_space = env_config.get('state_space', 1 + 2*stock_dimension + len(INDICATORS)*stock_dimension)\n",
    "    stock_dim = env_config.get('stock_dim', stock_dimension)\n",
    "    tech_indicator_list = env_config.get('tech_indicator_list', INDICATORS)\n",
    "    action_space = env_config.get('action_space', stock_dimension)\n",
    "    reward_scaling = env_config.get('reward_scaling', 1e-4)\n",
    "    # specific for trading\n",
    "    turbulence_threshold = env_config.get('turbulence_threshold', 70)\n",
    "    risk_indicator_col = env_config.get('risk_indicator_col', 'vix')\n",
    "    return EnvCompatibility(StockTradingEnv(\n",
    "        df=df,\n",
    "        hmax=hmax,\n",
    "        initial_amount=initial_amount,\n",
    "        num_stock_shares=num_stock_shares,\n",
    "        buy_cost_pct=buy_cost_pct,\n",
    "        sell_cost_pct=sell_cost_pct,\n",
    "        state_space=state_space,\n",
    "        stock_dim=stock_dim,\n",
    "        tech_indicator_list=tech_indicator_list,\n",
    "        action_space=action_space,\n",
    "        reward_scaling=reward_scaling,\n",
    "        turbulence_threshold=turbulence_threshold,\n",
    "        risk_indicator_col=risk_indicator_col\n",
    "    ))"
   ]
  },
  {
   "cell_type": "code",
   "execution_count": 14,
   "id": "0a5d0511-1889-4928-a324-607b91fadc49",
   "metadata": {
    "tags": []
   },
   "outputs": [],
   "source": [
    "from ray.rllib.agents import ppo\n",
    "ray.shutdown()"
   ]
  },
  {
   "cell_type": "code",
   "execution_count": 15,
   "id": "7df4d8e7-549d-4340-94a8-d7803c908d42",
   "metadata": {
    "tags": []
   },
   "outputs": [],
   "source": [
    "config = ppo.PPOConfig()\n",
    "config = config.training()\n",
    "config = config.environment(env_config={'hmax':100, 'initial_amount':1000000})\n",
    "config = config.framework(framework=\"torch\")\n",
    "# Rollouts\n",
    "config = config.rollouts(num_rollout_workers=4,num_envs_per_worker=1,)\n",
    "# Additional because we are evaluating now\n",
    "config = config.exploration(explore=False)\n",
    "config['seed'] = 0\n",
    "config[\"model\"][\"fcnet_hiddens\"] = [1024, 256, 128, 32]"
   ]
  },
  {
   "cell_type": "code",
   "execution_count": 23,
   "id": "bf0c3f1e-69f1-41fc-ae35-290b40518074",
   "metadata": {
    "tags": []
   },
   "outputs": [
    {
     "ename": "AttributeError",
     "evalue": "Cannot set attribute (env) of an already frozen AlgorithmConfig!",
     "output_type": "error",
     "traceback": [
      "\u001b[0;31m---------------------------------------------------------------------------\u001b[0m",
      "\u001b[0;31mAttributeError\u001b[0m                            Traceback (most recent call last)",
      "Cell \u001b[0;32mIn[23], line 7\u001b[0m\n\u001b[1;32m      2\u001b[0m register_env(\u001b[38;5;124m\"\u001b[39m\u001b[38;5;124mfinrl_trading\u001b[39m\u001b[38;5;124m\"\u001b[39m, env_creator_trading)\n\u001b[1;32m      3\u001b[0m \u001b[38;5;66;03m#trainer = config.build(env=\"finrl\")\u001b[39;00m\n\u001b[1;32m      4\u001b[0m \u001b[38;5;66;03m# define trainer\u001b[39;00m\n\u001b[1;32m      5\u001b[0m \u001b[38;5;66;03m#trainer = ppo.PPOTrainer(env='finrl_trading', config=config)\u001b[39;00m\n\u001b[0;32m----> 7\u001b[0m trainer \u001b[38;5;241m=\u001b[39m \u001b[43mconfig\u001b[49m\u001b[38;5;241;43m.\u001b[39;49m\u001b[43mbuild\u001b[49m\u001b[43m(\u001b[49m\u001b[43menv\u001b[49m\u001b[38;5;241;43m=\u001b[39;49m\u001b[38;5;124;43m\"\u001b[39;49m\u001b[38;5;124;43mfinrl_trading\u001b[39;49m\u001b[38;5;124;43m\"\u001b[39;49m\u001b[43m)\u001b[49m \n",
      "File \u001b[0;32m~/anaconda3/envs/finrl/lib/python3.8/site-packages/ray/rllib/algorithms/algorithm_config.py:916\u001b[0m, in \u001b[0;36mAlgorithmConfig.build\u001b[0;34m(self, env, logger_creator, use_copy)\u001b[0m\n\u001b[1;32m    897\u001b[0m \u001b[38;5;250m\u001b[39m\u001b[38;5;124;03m\"\"\"Builds an Algorithm from this AlgorithmConfig (or a copy thereof).\u001b[39;00m\n\u001b[1;32m    898\u001b[0m \n\u001b[1;32m    899\u001b[0m \u001b[38;5;124;03mArgs:\u001b[39;00m\n\u001b[0;32m   (...)\u001b[0m\n\u001b[1;32m    913\u001b[0m \u001b[38;5;124;03m    A ray.rllib.algorithms.algorithm.Algorithm object.\u001b[39;00m\n\u001b[1;32m    914\u001b[0m \u001b[38;5;124;03m\"\"\"\u001b[39;00m\n\u001b[1;32m    915\u001b[0m \u001b[38;5;28;01mif\u001b[39;00m env \u001b[38;5;129;01mis\u001b[39;00m \u001b[38;5;129;01mnot\u001b[39;00m \u001b[38;5;28;01mNone\u001b[39;00m:\n\u001b[0;32m--> 916\u001b[0m     \u001b[38;5;28;43mself\u001b[39;49m\u001b[38;5;241;43m.\u001b[39;49m\u001b[43menv\u001b[49m \u001b[38;5;241m=\u001b[39m env\n\u001b[1;32m    917\u001b[0m     \u001b[38;5;28;01mif\u001b[39;00m \u001b[38;5;28mself\u001b[39m\u001b[38;5;241m.\u001b[39mevaluation_config \u001b[38;5;129;01mis\u001b[39;00m \u001b[38;5;129;01mnot\u001b[39;00m \u001b[38;5;28;01mNone\u001b[39;00m:\n\u001b[1;32m    918\u001b[0m         \u001b[38;5;28mself\u001b[39m\u001b[38;5;241m.\u001b[39mevaluation_config[\u001b[38;5;124m\"\u001b[39m\u001b[38;5;124menv\u001b[39m\u001b[38;5;124m\"\u001b[39m] \u001b[38;5;241m=\u001b[39m env\n",
      "File \u001b[0;32m~/anaconda3/envs/finrl/lib/python3.8/site-packages/ray/rllib/algorithms/algorithm_config.py:2706\u001b[0m, in \u001b[0;36mAlgorithmConfig.__setattr__\u001b[0;34m(self, key, value)\u001b[0m\n\u001b[1;32m   2702\u001b[0m \u001b[38;5;28;01mif\u001b[39;00m \u001b[38;5;28mhasattr\u001b[39m(\u001b[38;5;28mself\u001b[39m, \u001b[38;5;124m\"\u001b[39m\u001b[38;5;124m_is_frozen\u001b[39m\u001b[38;5;124m\"\u001b[39m) \u001b[38;5;129;01mand\u001b[39;00m \u001b[38;5;28mself\u001b[39m\u001b[38;5;241m.\u001b[39m_is_frozen:\n\u001b[1;32m   2703\u001b[0m     \u001b[38;5;66;03m# TODO: Remove `simple_optimizer` entirely.\u001b[39;00m\n\u001b[1;32m   2704\u001b[0m     \u001b[38;5;66;03m#  Remove need to set `worker_index` in RolloutWorker's c'tor.\u001b[39;00m\n\u001b[1;32m   2705\u001b[0m     \u001b[38;5;28;01mif\u001b[39;00m key \u001b[38;5;129;01mnot\u001b[39;00m \u001b[38;5;129;01min\u001b[39;00m [\u001b[38;5;124m\"\u001b[39m\u001b[38;5;124msimple_optimizer\u001b[39m\u001b[38;5;124m\"\u001b[39m, \u001b[38;5;124m\"\u001b[39m\u001b[38;5;124mworker_index\u001b[39m\u001b[38;5;124m\"\u001b[39m, \u001b[38;5;124m\"\u001b[39m\u001b[38;5;124m_is_frozen\u001b[39m\u001b[38;5;124m\"\u001b[39m]:\n\u001b[0;32m-> 2706\u001b[0m         \u001b[38;5;28;01mraise\u001b[39;00m \u001b[38;5;167;01mAttributeError\u001b[39;00m(\n\u001b[1;32m   2707\u001b[0m             \u001b[38;5;124mf\u001b[39m\u001b[38;5;124m\"\u001b[39m\u001b[38;5;124mCannot set attribute (\u001b[39m\u001b[38;5;132;01m{\u001b[39;00mkey\u001b[38;5;132;01m}\u001b[39;00m\u001b[38;5;124m) of an already frozen \u001b[39m\u001b[38;5;124m\"\u001b[39m\n\u001b[1;32m   2708\u001b[0m             \u001b[38;5;124m\"\u001b[39m\u001b[38;5;124mAlgorithmConfig!\u001b[39m\u001b[38;5;124m\"\u001b[39m\n\u001b[1;32m   2709\u001b[0m         )\n\u001b[1;32m   2710\u001b[0m \u001b[38;5;28msuper\u001b[39m()\u001b[38;5;241m.\u001b[39m\u001b[38;5;21m__setattr__\u001b[39m(key, value)\n",
      "\u001b[0;31mAttributeError\u001b[0m: Cannot set attribute (env) of an already frozen AlgorithmConfig!"
     ]
    }
   ],
   "source": [
    "# registering the environment to ray\n",
    "register_env(\"finrl_trading\", env_creator_trading)\n",
    "#trainer = config.build(env=\"finrl\")\n",
    "# define trainer\n",
    "#trainer = ppo.PPOTrainer(env='finrl_trading', config=config)\n",
    "\n",
    "trainer = config.build(env=\"finrl_trading\") "
   ]
  },
  {
   "cell_type": "code",
   "execution_count": null,
   "id": "a1c625d4-f48e-4089-8a17-40617099945e",
   "metadata": {},
   "outputs": [],
   "source": [
    "# load saved agent\n",
    "#cwd_checkpoint = f\"results/checkpoints/ppo_{total_episodes+1}/checkpoint_0000{total_episodes+1}\"\n",
    "#print(f\"Restoring from checkpoint {total_episodes+1}\")\n",
    "cwd_checkpoint = 'model/4fcnet/checkpoint_000020'\n",
    "trainer.restore(cwd_checkpoint)"
   ]
  },
  {
   "cell_type": "code",
   "execution_count": null,
   "id": "0d56b7e8-8e68-49c4-9654-14fdb5fd2a98",
   "metadata": {},
   "outputs": [],
   "source": [
    "import time \n",
    "def DRL_prediction(model, environment):\n",
    "    start = time.time()\n",
    "    \"\"\"make a prediction\"\"\"\n",
    "    state = environment.reset()\n",
    "    for i in range(len(environment.df.index.unique())):\n",
    "        action = model.compute_single_action(state)\n",
    "        state, reward, done, _ = environment.step(action)\n",
    "        if i == (len(environment.df.index.unique()) - 2):\n",
    "            account_memory = environment.save_asset_memory()\n",
    "            actions_memory = environment.save_action_memory()\n",
    "        if done:\n",
    "            break\n",
    "    print(\"Test Finished!\")\n",
    "    print((time.time()-start),'s')\n",
    "    return account_memory, actions_memory"
   ]
  },
  {
   "cell_type": "code",
   "execution_count": null,
   "id": "7a6fd91f-f8b3-4ba3-ac53-c49abd24d01a",
   "metadata": {},
   "outputs": [],
   "source": [
    "df_account_value, df_actions = DRL_prediction(\n",
    "    model=trainer, \n",
    "    environment = e_trade_gym)\n",
    "df_actions.tail(15)\n"
   ]
  },
  {
   "cell_type": "code",
   "execution_count": null,
   "id": "5da5a97f-7d46-4f19-b6f1-99c63832c38a",
   "metadata": {},
   "outputs": [],
   "source": [
    "#Total Trades\n",
    "counts = (df_actions > 0).sum()\n",
    "tdays = int(df_actions.shape[0])\n",
    "print(f'Trades:{counts.sum()}\\nTrade Days:{tdays}\\nTrades Per Day:{counts.sum()/tdays:.2f}')"
   ]
  },
  {
   "cell_type": "code",
   "execution_count": null,
   "id": "8d25c807-67b6-4734-bde7-e0e49a660157",
   "metadata": {},
   "outputs": [],
   "source": []
  },
  {
   "cell_type": "code",
   "execution_count": null,
   "id": "fcf6af50-ccdf-44a1-abe9-3e42a01d1b47",
   "metadata": {
    "tags": []
   },
   "outputs": [],
   "source": [
    "df_actions.sum()"
   ]
  },
  {
   "cell_type": "code",
   "execution_count": null,
   "id": "58970692-6b80-41e7-8579-1fd0b61eb6e5",
   "metadata": {},
   "outputs": [],
   "source": [
    "import datetime\n",
    "from finrl.plot import backtest_stats, backtest_plot, get_daily_return, get_baseline\n",
    "\n",
    "print(\"==============Get Backtest Results===========\")\n",
    "now = datetime.datetime.now().strftime('%Y%m%d-%Hh%M')\n",
    "\n",
    "perf_stats_all = backtest_stats(account_value=df_account_value)\n",
    "perf_stats_all = pd.DataFrame(perf_stats_all)\n",
    "perf_stats_all.to_csv(\"./results/\"+\"perf_stats_all\"+now+'.csv')"
   ]
  },
  {
   "cell_type": "code",
   "execution_count": null,
   "id": "35a56ce5-3e4a-4ff0-a7a9-4a7ac1e9af94",
   "metadata": {
    "tags": []
   },
   "outputs": [],
   "source": [
    "#baseline stats\n",
    "print(\"==============Get Baseline Stats===========\")\n",
    "baseline_df = get_baseline(\n",
    "        ticker=\"^DJI\", \n",
    "        start = df_account_value.loc[0,'date'],\n",
    "        end = df_account_value.loc[len(df_account_value)-1,'date'])\n",
    "\n",
    "stats = backtest_stats(baseline_df, value_col_naxme = 'close')"
   ]
  },
  {
   "cell_type": "code",
   "execution_count": null,
   "id": "379939db-fe97-47cd-9e4c-90840e21a355",
   "metadata": {},
   "outputs": [],
   "source": [
    "print(\"==============Compare to DJIA===========\")\n",
    "%matplotlib inline\n",
    "# S&P 500: ^GSPC\n",
    "# Dow Jones Index: ^DJI\n",
    "# NASDAQ 100: ^NDX\n",
    "backtest_plot(df_account_value, \n",
    "             baseline_ticker = '^NDX', \n",
    "             baseline_start = df_account_value.loc[0,'date'],\n",
    "             baseline_end = df_account_value.loc[len(df_account_value)-1,'date'])"
   ]
  },
  {
   "cell_type": "code",
   "execution_count": null,
   "id": "3e1e835d-bfe5-48c3-a4a9-9c8025df4114",
   "metadata": {},
   "outputs": [],
   "source": []
  },
  {
   "cell_type": "code",
   "execution_count": null,
   "id": "ca5dc7bd-7206-4a6c-b207-ac00543b407d",
   "metadata": {},
   "outputs": [],
   "source": []
  }
 ],
 "metadata": {
  "kernelspec": {
   "display_name": "Python 3 (ipykernel)",
   "language": "python",
   "name": "python3"
  },
  "language_info": {
   "codemirror_mode": {
    "name": "ipython",
    "version": 3
   },
   "file_extension": ".py",
   "mimetype": "text/x-python",
   "name": "python",
   "nbconvert_exporter": "python",
   "pygments_lexer": "ipython3",
   "version": "3.8.16"
  }
 },
 "nbformat": 4,
 "nbformat_minor": 5
}
