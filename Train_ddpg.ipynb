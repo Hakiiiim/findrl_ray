{
 "cells": [
  {
   "cell_type": "code",
   "execution_count": 1,
   "id": "4ba7f2b6-480a-4462-af82-80e6d588cd8a",
   "metadata": {
    "tags": []
   },
   "outputs": [],
   "source": [
    "import pandas as pd\n",
    "import pickle \n",
    "import sys\n",
    "sys.path.append(\"/Ray_finrl/findrl_ray/finenv\")\n",
    "sys.path.append(\"./FinRL\")\n",
    "import finrl\n",
    "from finenv.env_stocktrading import StockTradingEnv\n",
    "from finenv.preprocessors import data_split\n",
    "# load the DataFrame from a pickle file\n",
    "#df = pd.read_pickle('dataset/nasdaq74_proc_test.pkl')\n",
    "train = pd.read_csv('dataset/train_data.csv')\n",
    "train = train.set_index(train.columns[0])\n",
    "train.index.names = ['']"
   ]
  },
  {
   "cell_type": "code",
   "execution_count": 2,
   "id": "9bd71653-eba0-4cf8-a60c-ac5009a3a75a",
   "metadata": {
    "tags": []
   },
   "outputs": [],
   "source": [
    "INDICATORS = ['macd','boll_ub','boll_lb','rsi_30','cci_30','dx_30','close_30_sma','close_60_sma']"
   ]
  },
  {
   "cell_type": "code",
   "execution_count": 3,
   "id": "fdb99bcf-76e2-49b8-9b16-1f7943df4b69",
   "metadata": {
    "tags": []
   },
   "outputs": [
    {
     "name": "stdout",
     "output_type": "stream",
     "text": [
      "Stock Dimension: 80, State Space: 801\n"
     ]
    }
   ],
   "source": [
    "stock_dimension = len(train.tic.unique())\n",
    "state_space = 1 + 2*stock_dimension + len(INDICATORS)*stock_dimension\n",
    "print(f\"Stock Dimension: {stock_dimension}, State Space: {state_space}\")"
   ]
  },
  {
   "cell_type": "code",
   "execution_count": 4,
   "id": "d4ef8a5f-023a-4374-baf1-73b16c01f643",
   "metadata": {
    "tags": []
   },
   "outputs": [
    {
     "data": {
      "text/plain": [
       "date             object\n",
       "tic              object\n",
       "open            float64\n",
       "high            float64\n",
       "low             float64\n",
       "close           float64\n",
       "volume          float64\n",
       "day             float64\n",
       "macd            float64\n",
       "boll_ub         float64\n",
       "boll_lb         float64\n",
       "rsi_30          float64\n",
       "cci_30          float64\n",
       "dx_30           float64\n",
       "close_30_sma    float64\n",
       "close_60_sma    float64\n",
       "dtype: object"
      ]
     },
     "execution_count": 4,
     "metadata": {},
     "output_type": "execute_result"
    }
   ],
   "source": [
    "train.head()\n",
    "train.dtypes"
   ]
  },
  {
   "cell_type": "code",
   "execution_count": 5,
   "id": "438bd862-b466-4f77-9ebc-def4311d9470",
   "metadata": {
    "tags": []
   },
   "outputs": [],
   "source": [
    "buy_cost_list = sell_cost_list = [0.001] * stock_dimension\n",
    "num_stock_shares = [0] * stock_dimension\n",
    "#env_kwargs = {\n",
    "#    \"hmax\": 500,\n",
    "#    \"initial_amount\": 1000000,\n",
    "#    \"num_stock_shares\": num_stock_shares,\n",
    "#    \"buy_cost_pct\": buy_cost_list,\n",
    " #   \"sell_cost_pct\": sell_cost_list,\n",
    "  #  \"state_space\": state_space,\n",
    "   # \"stock_dim\": stock_dimension,\n",
    "   # \"tech_indicator_list\": INDICATORS,\n",
    "   # \"action_space\": stock_dimension,\n",
    "   # \"reward_scaling\": 1e-4\n",
    "#}"
   ]
  },
  {
   "cell_type": "code",
   "execution_count": 6,
   "id": "6073ab34-9442-4dda-a90a-864c05b37ad7",
   "metadata": {
    "tags": []
   },
   "outputs": [],
   "source": [
    "import psutil\n",
    "import ray\n",
    "ray._private.utils.get_system_memory = lambda: psutil.virtual_memory().total\n",
    "from ray.tune.registry import register_env\n",
    "from gymnasium.wrappers import EnvCompatibility"
   ]
  },
  {
   "cell_type": "code",
   "execution_count": 7,
   "id": "cb6781a9-96f3-4a91-8819-960f699e2438",
   "metadata": {
    "tags": []
   },
   "outputs": [],
   "source": [
    "def env_creator(env_config):\n",
    "    # env_config is passed as {} and defaults are set here\n",
    "    df = env_config.get('df', train)\n",
    "    hmax = env_config.get('hmax', 200)\n",
    "    initial_amount = env_config.get('initial_amount', 1000000)\n",
    "    num_stock_shares = env_config.get('num_stock_shares', [0] * stock_dimension)\n",
    "    buy_cost_pct = env_config.get('buy_cost_pct', buy_cost_list)\n",
    "    sell_cost_pct = env_config.get('sell_cost_pct', sell_cost_list)\n",
    "    state_space = env_config.get('state_space', 1 + 2*stock_dimension + len(INDICATORS)*stock_dimension)\n",
    "    stock_dim = env_config.get('stock_dim', stock_dimension)\n",
    "    tech_indicator_list = env_config.get('tech_indicator_list', INDICATORS)\n",
    "    action_space = env_config.get('action_space', stock_dimension)\n",
    "    reward_scaling = env_config.get('reward_scaling', 1e-2)\n",
    "\n",
    "    return EnvCompatibility(StockTradingEnv(\n",
    "        df=df,\n",
    "        hmax=hmax,\n",
    "        initial_amount=initial_amount,\n",
    "        num_stock_shares=num_stock_shares,\n",
    "        buy_cost_pct=buy_cost_pct,\n",
    "        sell_cost_pct=sell_cost_pct,\n",
    "        state_space=state_space,\n",
    "        stock_dim=stock_dim,\n",
    "        tech_indicator_list=tech_indicator_list,\n",
    "        action_space=action_space,\n",
    "        reward_scaling=reward_scaling\n",
    "    ))"
   ]
  },
  {
   "cell_type": "code",
   "execution_count": 8,
   "id": "a3d58e55-a77f-4d4a-843b-e4291e9fd2f9",
   "metadata": {
    "tags": []
   },
   "outputs": [
    {
     "name": "stdout",
     "output_type": "stream",
     "text": [
      "ray is being initialized\n"
     ]
    }
   ],
   "source": [
    "from ray.rllib.algorithms.ppo import PPOConfig\n",
    "ray.shutdown()\n",
    "print(f\"ray is being initialized\")"
   ]
  },
  {
   "cell_type": "code",
   "execution_count": 9,
   "id": "a7dc1db4-5da8-487c-ba71-e85dca8c95dc",
   "metadata": {},
   "outputs": [],
   "source": [
    "#if use_ddppo:\n",
    "#    config = ppo.DDPPOConfig()\n",
    "#else:\n",
    "#    config = ppo.PPOConfig()\n",
    "\n",
    "# Here set envirnonment parameters if different from default\n",
    "#config = config.environment(\n",
    "#    env_config={'hmax':200, 'initial_amount':1000000}\n",
    "#)\n",
    "\n",
    "# Training\n",
    "#config = config.training()\n",
    "\n",
    "# Resources\n",
    "#config = config.resources(\n",
    "#    num_gpus=0,\n",
    "#    num_cpus_per_worker=1,\n",
    "#    num_gpus_per_worker=0,\n",
    "#    num_trainer_workers=1,\n",
    "#    num_gpus_per_trainer_worker = 1,\n",
    "#    num_cpus_per_trainer_worker = 1,\n",
    "#)\n",
    "# Framework\n",
    "#config = config.framework(\n",
    "#    framework=\"torch\",\n",
    "#)\n",
    "# Rollouts\n",
    "#config = config.rollouts(\n",
    "#    num_rollout_workers=10,\n",
    "#    num_envs_per_worker=1,\n",
    "#)"
   ]
  },
  {
   "cell_type": "code",
   "execution_count": 10,
   "id": "116a4f64-e0e5-4204-bb9c-0f6c8d2fa2ed",
   "metadata": {
    "tags": []
   },
   "outputs": [
    {
     "name": "stderr",
     "output_type": "stream",
     "text": [
      "2023-04-02 18:08:30,284\tINFO worker.py:1544 -- Started a local Ray instance. View the dashboard at \u001b[1m\u001b[32mhttp://127.0.0.1:8265 \u001b[39m\u001b[22m\n",
      "\u001b[2m\u001b[36m(RolloutWorker pid=1478)\u001b[0m 2023-04-02 18:08:37,755\tWARNING env.py:156 -- Your env doesn't have a .spec.max_episode_steps attribute. Your horizon will default to infinity, and your environment will not be reset.\n",
      "\u001b[2m\u001b[36m(RolloutWorker pid=1478)\u001b[0m 2023-04-02 18:08:37,755\tWARNING env.py:166 -- Your env reset() method appears to take 'seed' or 'return_info' arguments. Note that these are not yet supported in RLlib. Seeding will take place using 'env.seed()' and the info dict will not be returned from reset.\n",
      "\u001b[2m\u001b[36m(RolloutWorker pid=1478)\u001b[0m /home/ga_aiot/anaconda3/envs/finrl/lib/python3.8/site-packages/gymnasium/spaces/box.py:227: UserWarning: \u001b[33mWARN: Casting input x to numpy array.\u001b[0m\n",
      "\u001b[2m\u001b[36m(RolloutWorker pid=1478)\u001b[0m   logger.warn(\"Casting input x to numpy array.\")\n",
      "\u001b[2m\u001b[36m(RolloutWorker pid=1491)\u001b[0m /home/ga_aiot/anaconda3/envs/finrl/lib/python3.8/site-packages/gymnasium/spaces/box.py:227: UserWarning: \u001b[33mWARN: Casting input x to numpy array.\u001b[0m\n",
      "\u001b[2m\u001b[36m(RolloutWorker pid=1491)\u001b[0m   logger.warn(\"Casting input x to numpy array.\")\n",
      "\u001b[2m\u001b[36m(RolloutWorker pid=1519)\u001b[0m /home/ga_aiot/anaconda3/envs/finrl/lib/python3.8/site-packages/gymnasium/spaces/box.py:227: UserWarning: \u001b[33mWARN: Casting input x to numpy array.\u001b[0m\n",
      "\u001b[2m\u001b[36m(RolloutWorker pid=1519)\u001b[0m   logger.warn(\"Casting input x to numpy array.\")\n",
      "\u001b[2m\u001b[36m(RolloutWorker pid=1505)\u001b[0m /home/ga_aiot/anaconda3/envs/finrl/lib/python3.8/site-packages/gymnasium/spaces/box.py:227: UserWarning: \u001b[33mWARN: Casting input x to numpy array.\u001b[0m\n",
      "\u001b[2m\u001b[36m(RolloutWorker pid=1505)\u001b[0m   logger.warn(\"Casting input x to numpy array.\")\n",
      "\u001b[2m\u001b[36m(RolloutWorker pid=1533)\u001b[0m /home/ga_aiot/anaconda3/envs/finrl/lib/python3.8/site-packages/gymnasium/spaces/box.py:227: UserWarning: \u001b[33mWARN: Casting input x to numpy array.\u001b[0m\n",
      "\u001b[2m\u001b[36m(RolloutWorker pid=1533)\u001b[0m   logger.warn(\"Casting input x to numpy array.\")\n",
      "\u001b[2m\u001b[36m(RolloutWorker pid=1561)\u001b[0m /home/ga_aiot/anaconda3/envs/finrl/lib/python3.8/site-packages/gymnasium/spaces/box.py:227: UserWarning: \u001b[33mWARN: Casting input x to numpy array.\u001b[0m\n",
      "\u001b[2m\u001b[36m(RolloutWorker pid=1561)\u001b[0m   logger.warn(\"Casting input x to numpy array.\")\n",
      "\u001b[2m\u001b[36m(RolloutWorker pid=1590)\u001b[0m /home/ga_aiot/anaconda3/envs/finrl/lib/python3.8/site-packages/gymnasium/spaces/box.py:227: UserWarning: \u001b[33mWARN: Casting input x to numpy array.\u001b[0m\n",
      "\u001b[2m\u001b[36m(RolloutWorker pid=1590)\u001b[0m   logger.warn(\"Casting input x to numpy array.\")\n",
      "\u001b[2m\u001b[36m(RolloutWorker pid=1547)\u001b[0m /home/ga_aiot/anaconda3/envs/finrl/lib/python3.8/site-packages/gymnasium/spaces/box.py:227: UserWarning: \u001b[33mWARN: Casting input x to numpy array.\u001b[0m\n",
      "\u001b[2m\u001b[36m(RolloutWorker pid=1547)\u001b[0m   logger.warn(\"Casting input x to numpy array.\")\n",
      "2023-04-02 18:08:40,280\tINFO trainable.py:172 -- Trainable.setup took 16.702 seconds. If your trainable is slow to initialize, consider setting reuse_actors=True to reduce actor creation overheads.\n"
     ]
    }
   ],
   "source": [
    "register_env(\"finrl\", env_creator)\n",
    "config = PPOConfig()  \n",
    "config = config.training(gamma=0.9, lr=0.01, kl_coeff=0.3) \n",
    "config = config.rollouts(num_rollout_workers=8)  \n",
    "config = config.environment(\"finrl\")  \n",
    "config = config.framework(framework=\"torch\")\n",
    "algo = config.build()\n",
    "#config = PPOConfig().training(lr=0.01).resources(num_gpus=0,num_gpus_per_worker=1).rollouts(num_rollout_workers=4).framework(framework=\"torch\")\n",
    "config['seed'] = 42"
   ]
  },
  {
   "cell_type": "code",
   "execution_count": 11,
   "id": "6284f709-5b44-492e-a4da-cf384f3cd18d",
   "metadata": {
    "tags": []
   },
   "outputs": [
    {
     "ename": "NameError",
     "evalue": "name 'ApexDQNConfig' is not defined",
     "output_type": "error",
     "traceback": [
      "\u001b[0;31m---------------------------------------------------------------------------\u001b[0m",
      "\u001b[0;31mNameError\u001b[0m                                 Traceback (most recent call last)",
      "Cell \u001b[0;32mIn[11], line 2\u001b[0m\n\u001b[1;32m      1\u001b[0m register_env(\u001b[38;5;124m\"\u001b[39m\u001b[38;5;124mfinrl\u001b[39m\u001b[38;5;124m\"\u001b[39m, env_creator)\n\u001b[0;32m----> 2\u001b[0m config \u001b[38;5;241m=\u001b[39m \u001b[43mApexDQNConfig\u001b[49m()\n\u001b[1;32m      3\u001b[0m \u001b[38;5;28mprint\u001b[39m(config\u001b[38;5;241m.\u001b[39mreplay_buffer_config) \n\u001b[1;32m      5\u001b[0m config \u001b[38;5;241m=\u001b[39m config\u001b[38;5;241m.\u001b[39mtraining(replay_buffer_config\u001b[38;5;241m=\u001b[39mreplay_config) \n",
      "\u001b[0;31mNameError\u001b[0m: name 'ApexDQNConfig' is not defined"
     ]
    }
   ],
   "source": [
    "register_env(\"finrl\", env_creator)\n",
    "config = ApexDQNConfig()\n",
    "print(config.replay_buffer_config) \n",
    "\n",
    "config = config.training(replay_buffer_config=replay_config) \n",
    "config = config.rollouts(num_rollout_workers=8)  \n",
    "config = config.environment(\"finrl\")  \n",
    "config = config.framework(framework=\"torch\")\n",
    "algo = config.build()\n",
    "\n",
    "#config = DDPPOConfig().training(lr=0.01).resources(num_gpus=0,num_gpus_per_worker=1).rollouts(num_rollout_workers=4).framework(framework=\"torch\")\n",
    "#config['seed'] = 42"
   ]
  },
  {
   "cell_type": "code",
   "execution_count": null,
   "id": "bdc67a02-7ea5-4a4a-8786-b5deb88b32f4",
   "metadata": {
    "tags": []
   },
   "outputs": [],
   "source": [
    "# registering the environment to ray\n",
    "#register_env(\"finrl\", env_creator)\n",
    "trainer = config.build(env=\"finrl\") \n",
    "#trainer = DDPGConfig(env='finrl', config=config)"
   ]
  },
  {
   "cell_type": "code",
   "execution_count": null,
   "id": "67da4c9a-dcef-4c02-a17a-31a5e1b4c0cb",
   "metadata": {
    "tags": []
   },
   "outputs": [],
   "source": [
    "from tqdm.notebook import tqdm\n",
    "# Train away -------------------------------------------------------------\n",
    "total_episodes = 25 \n",
    "agent_name = 'ddppo'\n",
    "ep = 0\n",
    "results = []\n",
    "bar = tqdm(total=total_episodes, desc=\"Episodes\")\n",
    "while ep <= total_episodes:\n",
    "    results.append(trainer.train())\n",
    "    ep += 1\n",
    "    bar.update(n=1)\n",
    "    rwd = results[-1]['episode_reward_mean']\n",
    "    print(f'Mean Rwd:{rwd}')\n",
    "    if ep % 25 == 0:\n",
    "        #cwd_checkpoint = \"results/checkpoints/\" + str(agent_name) + '_' + str(ep)\n",
    "        cwd_checkpoint = \"model/\"  + str(agent_name)\n",
    "        trainer.save(cwd_checkpoint)\n",
    "        print(f\"Checkpoint saved in directory {cwd_checkpoint}\")\n",
    "bar.close()"
   ]
  },
  {
   "cell_type": "code",
   "execution_count": null,
   "id": "b933388e-0e6d-4716-98c0-12cbd3bb9cb7",
   "metadata": {
    "tags": []
   },
   "outputs": [],
   "source": [
    "## Mean Rewards ### \n",
    "print(results[-1]['episode_reward_mean'])\n",
    "#print(results[-1])"
   ]
  },
  {
   "cell_type": "code",
   "execution_count": null,
   "id": "e1b82920-0746-430c-8c59-5c3467ebd07e",
   "metadata": {},
   "outputs": [],
   "source": [
    "# save the trained agent\n",
    "#cwd_checkpoint = \"model/\" + str(agent_name) + '_' + str(ep)\n",
    "cwd_checkpoint = \"model/\"\n",
    "trainer.save(cwd_checkpoint)"
   ]
  },
  {
   "cell_type": "code",
   "execution_count": null,
   "id": "b8f831c0-015c-4034-90f8-a423bfc3f64f",
   "metadata": {},
   "outputs": [],
   "source": []
  }
 ],
 "metadata": {
  "kernelspec": {
   "display_name": "Python 3 (ipykernel)",
   "language": "python",
   "name": "python3"
  },
  "language_info": {
   "codemirror_mode": {
    "name": "ipython",
    "version": 3
   },
   "file_extension": ".py",
   "mimetype": "text/x-python",
   "name": "python",
   "nbconvert_exporter": "python",
   "pygments_lexer": "ipython3",
   "version": "3.8.16"
  }
 },
 "nbformat": 4,
 "nbformat_minor": 5
}
