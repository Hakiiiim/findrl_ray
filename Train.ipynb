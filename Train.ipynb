{
 "cells": [
  {
   "cell_type": "code",
   "execution_count": 2,
   "id": "4ba7f2b6-480a-4462-af82-80e6d588cd8a",
   "metadata": {
    "tags": []
   },
   "outputs": [],
   "source": [
    "import pandas as pd\n",
    "import pickle \n",
    "import sys\n",
    "sys.path.append(\"/Ray_finrl/findrl_ray/finenv\")\n",
    "sys.path.append(\"./FinRL\")\n",
    "import finrl\n",
    "from finenv.env_stocktrading import StockTradingEnv\n",
    "from finenv.preprocessors import data_split\n",
    "from finenv.save_model import upload_files\n",
    "import psutil\n",
    "import ray\n",
    "from datetime import datetime\n",
    "ray._private.utils.get_system_memory = lambda: psutil.virtual_memory().total\n",
    "from ray.tune.registry import register_env\n",
    "from gymnasium.wrappers import EnvCompatibility\n",
    "\n",
    "# load the DataFrame from a pickle file\n",
    "#df = pd.read_pickle('dataset/nasdaq74_proc_test.pkl')\n",
    "train = pd.read_csv('dataset/train_data.csv')\n",
    "train = train.set_index(train.columns[0])\n",
    "train.index.names = ['']"
   ]
  },
  {
   "cell_type": "code",
   "execution_count": 2,
   "id": "9bd71653-eba0-4cf8-a60c-ac5009a3a75a",
   "metadata": {
    "tags": []
   },
   "outputs": [],
   "source": [
    "INDICATORS = ['macd','boll_ub','boll_lb','rsi_30','cci_30','dx_30','close_30_sma','close_60_sma']"
   ]
  },
  {
   "cell_type": "code",
   "execution_count": 3,
   "id": "fdb99bcf-76e2-49b8-9b16-1f7943df4b69",
   "metadata": {
    "tags": []
   },
   "outputs": [
    {
     "name": "stdout",
     "output_type": "stream",
     "text": [
      "Stock Dimension: 80, State Space: 801\n"
     ]
    }
   ],
   "source": [
    "stock_dimension = len(train.tic.unique())\n",
    "state_space = 1 + 2*stock_dimension + len(INDICATORS)*stock_dimension\n",
    "print(f\"Stock Dimension: {stock_dimension}, State Space: {state_space}\")"
   ]
  },
  {
   "cell_type": "code",
   "execution_count": 4,
   "id": "d4ef8a5f-023a-4374-baf1-73b16c01f643",
   "metadata": {
    "tags": []
   },
   "outputs": [
    {
     "data": {
      "text/plain": [
       "date             object\n",
       "tic              object\n",
       "open            float64\n",
       "high            float64\n",
       "low             float64\n",
       "close           float64\n",
       "volume          float64\n",
       "day             float64\n",
       "macd            float64\n",
       "boll_ub         float64\n",
       "boll_lb         float64\n",
       "rsi_30          float64\n",
       "cci_30          float64\n",
       "dx_30           float64\n",
       "close_30_sma    float64\n",
       "close_60_sma    float64\n",
       "dtype: object"
      ]
     },
     "execution_count": 4,
     "metadata": {},
     "output_type": "execute_result"
    }
   ],
   "source": [
    "train.head()\n",
    "train.dtypes"
   ]
  },
  {
   "cell_type": "code",
   "execution_count": 5,
   "id": "438bd862-b466-4f77-9ebc-def4311d9470",
   "metadata": {
    "tags": []
   },
   "outputs": [],
   "source": [
    "buy_cost_list = sell_cost_list = [0.001] * stock_dimension\n",
    "num_stock_shares = [0] * stock_dimension"
   ]
  },
  {
   "cell_type": "code",
   "execution_count": 7,
   "id": "cb6781a9-96f3-4a91-8819-960f699e2438",
   "metadata": {
    "tags": []
   },
   "outputs": [],
   "source": [
    "def env_creator(env_config):\n",
    "    # env_config is passed as {} and defaults are set here\n",
    "    df = env_config.get('df', train)\n",
    "    hmax = env_config.get('hmax', 200)\n",
    "    initial_amount = env_config.get('initial_amount', 1000000)\n",
    "    num_stock_shares = env_config.get('num_stock_shares', [0] * stock_dimension)\n",
    "    buy_cost_pct = env_config.get('buy_cost_pct', buy_cost_list)\n",
    "    sell_cost_pct = env_config.get('sell_cost_pct', sell_cost_list)\n",
    "    state_space = env_config.get('state_space', 1 + 2*stock_dimension + len(INDICATORS)*stock_dimension)\n",
    "    stock_dim = env_config.get('stock_dim', stock_dimension)\n",
    "    tech_indicator_list = env_config.get('tech_indicator_list', INDICATORS)\n",
    "    action_space = env_config.get('action_space', stock_dimension)\n",
    "    reward_scaling = env_config.get('reward_scaling', 1e-2)\n",
    "\n",
    "    return EnvCompatibility(StockTradingEnv(\n",
    "        df=df,\n",
    "        hmax=hmax,\n",
    "        initial_amount=initial_amount,\n",
    "        num_stock_shares=num_stock_shares,\n",
    "        buy_cost_pct=buy_cost_pct,\n",
    "        sell_cost_pct=sell_cost_pct,\n",
    "        state_space=state_space,\n",
    "        stock_dim=stock_dim,\n",
    "        tech_indicator_list=tech_indicator_list,\n",
    "        action_space=action_space,\n",
    "        reward_scaling=reward_scaling\n",
    "    ))"
   ]
  },
  {
   "cell_type": "code",
   "execution_count": 1,
   "id": "a3d58e55-a77f-4d4a-843b-e4291e9fd2f9",
   "metadata": {
    "tags": []
   },
   "outputs": [
    {
     "ename": "NameError",
     "evalue": "name 'ray' is not defined",
     "output_type": "error",
     "traceback": [
      "\u001b[0;31m---------------------------------------------------------------------------\u001b[0m",
      "\u001b[0;31mNameError\u001b[0m                                 Traceback (most recent call last)",
      "Cell \u001b[0;32mIn[1], line 2\u001b[0m\n\u001b[1;32m      1\u001b[0m \u001b[38;5;28;01mfrom\u001b[39;00m \u001b[38;5;21;01mray\u001b[39;00m\u001b[38;5;21;01m.\u001b[39;00m\u001b[38;5;21;01mrllib\u001b[39;00m\u001b[38;5;21;01m.\u001b[39;00m\u001b[38;5;21;01magents\u001b[39;00m \u001b[38;5;28;01mimport\u001b[39;00m ppo\n\u001b[0;32m----> 2\u001b[0m \u001b[43mray\u001b[49m\u001b[38;5;241m.\u001b[39mshutdown()\n\u001b[1;32m      3\u001b[0m \u001b[38;5;28mprint\u001b[39m(\u001b[38;5;124mf\u001b[39m\u001b[38;5;124m\"\u001b[39m\u001b[38;5;124mray is being initialized\u001b[39m\u001b[38;5;124m\"\u001b[39m)\n",
      "\u001b[0;31mNameError\u001b[0m: name 'ray' is not defined"
     ]
    }
   ],
   "source": [
    "from ray.rllib.agents import ppo\n",
    "ray.shutdown()\n",
    "#ray.init(num_cpus=45,num_gpus=4,dashboard_port=8300)\n",
    "print(f\"ray is being initialized\")"
   ]
  },
  {
   "cell_type": "code",
   "execution_count": 10,
   "id": "116a4f64-e0e5-4204-bb9c-0f6c8d2fa2ed",
   "metadata": {
    "tags": []
   },
   "outputs": [],
   "source": [
    "config = ppo.PPOConfig()\n",
    "config = config.environment(env_config={'hmax':500,'initial_amount':300000})\n",
    "config = config.training(gamma=0.9, lr=0.001, kl_coeff=0.3)  \n",
    "config = config.resources(num_gpus=0)\n",
    "config = config.rollouts(num_rollout_workers=8) \n",
    "config = config.framework(framework=\"torch\")\n",
    "config['seed'] = 42\n",
    "config[\"model\"][\"fcnet_hiddens\"] = [1024, 256, 128,16]"
   ]
  },
  {
   "cell_type": "code",
   "execution_count": 11,
   "id": "bdc67a02-7ea5-4a4a-8786-b5deb88b32f4",
   "metadata": {
    "tags": []
   },
   "outputs": [
    {
     "name": "stderr",
     "output_type": "stream",
     "text": [
      "2023-04-02 21:29:48,571\tWARNING deprecation.py:50 -- DeprecationWarning: `algo = Algorithm(env='finrl', ...)` has been deprecated. Use `algo = AlgorithmConfig().environment('finrl').build()` instead. This will raise an error in the future!\n",
      "2023-04-02 21:29:55,213\tINFO worker.py:1544 -- Started a local Ray instance. View the dashboard at \u001b[1m\u001b[32mhttp://127.0.0.1:8265 \u001b[39m\u001b[22m\n",
      "\u001b[2m\u001b[36m(RolloutWorker pid=1639)\u001b[0m /home/ga_aiot/anaconda3/envs/finrl/lib/python3.8/site-packages/gymnasium/spaces/box.py:227: UserWarning: \u001b[33mWARN: Casting input x to numpy array.\u001b[0m\n",
      "\u001b[2m\u001b[36m(RolloutWorker pid=1639)\u001b[0m   logger.warn(\"Casting input x to numpy array.\")\n",
      "\u001b[2m\u001b[36m(RolloutWorker pid=1626)\u001b[0m 2023-04-02 21:30:02,724\tWARNING env.py:156 -- Your env doesn't have a .spec.max_episode_steps attribute. Your horizon will default to infinity, and your environment will not be reset.\n",
      "\u001b[2m\u001b[36m(RolloutWorker pid=1626)\u001b[0m 2023-04-02 21:30:02,725\tWARNING env.py:166 -- Your env reset() method appears to take 'seed' or 'return_info' arguments. Note that these are not yet supported in RLlib. Seeding will take place using 'env.seed()' and the info dict will not be returned from reset.\n",
      "\u001b[2m\u001b[36m(RolloutWorker pid=1626)\u001b[0m /home/ga_aiot/anaconda3/envs/finrl/lib/python3.8/site-packages/gymnasium/spaces/box.py:227: UserWarning: \u001b[33mWARN: Casting input x to numpy array.\u001b[0m\n",
      "\u001b[2m\u001b[36m(RolloutWorker pid=1626)\u001b[0m   logger.warn(\"Casting input x to numpy array.\")\n",
      "\u001b[2m\u001b[36m(RolloutWorker pid=1652)\u001b[0m /home/ga_aiot/anaconda3/envs/finrl/lib/python3.8/site-packages/gymnasium/spaces/box.py:227: UserWarning: \u001b[33mWARN: Casting input x to numpy array.\u001b[0m\n",
      "\u001b[2m\u001b[36m(RolloutWorker pid=1652)\u001b[0m   logger.warn(\"Casting input x to numpy array.\")\n",
      "\u001b[2m\u001b[36m(RolloutWorker pid=1666)\u001b[0m /home/ga_aiot/anaconda3/envs/finrl/lib/python3.8/site-packages/gymnasium/spaces/box.py:227: UserWarning: \u001b[33mWARN: Casting input x to numpy array.\u001b[0m\n",
      "\u001b[2m\u001b[36m(RolloutWorker pid=1666)\u001b[0m   logger.warn(\"Casting input x to numpy array.\")\n",
      "\u001b[2m\u001b[36m(RolloutWorker pid=1708)\u001b[0m /home/ga_aiot/anaconda3/envs/finrl/lib/python3.8/site-packages/gymnasium/spaces/box.py:227: UserWarning: \u001b[33mWARN: Casting input x to numpy array.\u001b[0m\n",
      "\u001b[2m\u001b[36m(RolloutWorker pid=1708)\u001b[0m   logger.warn(\"Casting input x to numpy array.\")\n",
      "\u001b[2m\u001b[36m(RolloutWorker pid=1680)\u001b[0m /home/ga_aiot/anaconda3/envs/finrl/lib/python3.8/site-packages/gymnasium/spaces/box.py:227: UserWarning: \u001b[33mWARN: Casting input x to numpy array.\u001b[0m\n",
      "\u001b[2m\u001b[36m(RolloutWorker pid=1680)\u001b[0m   logger.warn(\"Casting input x to numpy array.\")\n",
      "\u001b[2m\u001b[36m(RolloutWorker pid=1695)\u001b[0m /home/ga_aiot/anaconda3/envs/finrl/lib/python3.8/site-packages/gymnasium/spaces/box.py:227: UserWarning: \u001b[33mWARN: Casting input x to numpy array.\u001b[0m\n",
      "\u001b[2m\u001b[36m(RolloutWorker pid=1695)\u001b[0m   logger.warn(\"Casting input x to numpy array.\")\n",
      "\u001b[2m\u001b[36m(RolloutWorker pid=1722)\u001b[0m /home/ga_aiot/anaconda3/envs/finrl/lib/python3.8/site-packages/gymnasium/spaces/box.py:227: UserWarning: \u001b[33mWARN: Casting input x to numpy array.\u001b[0m\n",
      "\u001b[2m\u001b[36m(RolloutWorker pid=1722)\u001b[0m   logger.warn(\"Casting input x to numpy array.\")\n",
      "2023-04-02 21:30:05,597\tINFO trainable.py:172 -- Trainable.setup took 16.993 seconds. If your trainable is slow to initialize, consider setting reuse_actors=True to reduce actor creation overheads.\n"
     ]
    }
   ],
   "source": [
    "# registering the environment to ray\n",
    "register_env(\"finrl\", env_creator)\n",
    "#trainer = config.build(env=\"finrl\") \n",
    "trainer = ppo.PPOTrainer(env='finrl', config=config)"
   ]
  },
  {
   "cell_type": "code",
   "execution_count": 12,
   "id": "67da4c9a-dcef-4c02-a17a-31a5e1b4c0cb",
   "metadata": {
    "tags": []
   },
   "outputs": [
    {
     "data": {
      "application/vnd.jupyter.widget-view+json": {
       "model_id": "c27e030c1b1748e6a471ad162a6023e6",
       "version_major": 2,
       "version_minor": 0
      },
      "text/plain": [
       "Episodes:   0%|          | 0/25 [00:00<?, ?it/s]"
      ]
     },
     "metadata": {},
     "output_type": "display_data"
    },
    {
     "name": "stdout",
     "output_type": "stream",
     "text": [
      "Mean Rwd:nan\n",
      "Mean Rwd:nan\n",
      "Mean Rwd:nan\n",
      "Mean Rwd:nan\n",
      "Mean Rwd:nan\n",
      "Mean Rwd:5375.648789950077\n",
      "Mean Rwd:5375.648789950077\n",
      "Mean Rwd:5375.648789950077\n",
      "Mean Rwd:5375.648789950077\n",
      "Mean Rwd:5375.648789950077\n",
      "Mean Rwd:1555.9627553721207\n",
      "Mean Rwd:1555.9627553721207\n",
      "Mean Rwd:1555.9627553721207\n",
      "Mean Rwd:1555.9627553721207\n",
      "Mean Rwd:1555.9627553721207\n",
      "Mean Rwd:221.35846138788997\n",
      "Mean Rwd:221.35846138788997\n",
      "Mean Rwd:221.35846138788997\n",
      "Mean Rwd:221.35846138788997\n",
      "Mean Rwd:221.35846138788997\n",
      "Mean Rwd:-405.1647962186432\n",
      "Mean Rwd:-405.1647962186432\n",
      "Mean Rwd:-405.1647962186432\n",
      "Mean Rwd:-405.1647962186432\n",
      "Mean Rwd:-405.1647962186432\n",
      "Checkpoint saved in directory model/\n",
      "Mean Rwd:-405.1647962186432\n"
     ]
    }
   ],
   "source": [
    "from tqdm.notebook import tqdm\n",
    "# Train away -------------------------------------------------------------\n",
    "total_episodes = 25 \n",
    "agent_name = 'ppo'\n",
    "ep = 0\n",
    "results = []\n",
    "bar = tqdm(total=total_episodes, desc=\"Episodes\")\n",
    "date = datetime.now().strftime('%y%m%d')\n",
    "\n",
    "while ep <= total_episodes:\n",
    "    results.append(trainer.train())\n",
    "    ep += 1\n",
    "    bar.update(n=1)\n",
    "    rwd = results[-1]['episode_reward_mean']\n",
    "    print(f'Mean Rwd:{rwd}')\n",
    "    if ep % 25 == 0:\n",
    "        #cwd_checkpoint = \"results/checkpoints/\" +  + '_' + str(ep)\n",
    "        cwd_checkpoint = f\"model/{agent_name}_{date}\"\n",
    "        trainer.save(cwd_checkpoint)\n",
    "        print(f\"Checkpoint{ep} saved in directory {cwd_checkpoint}\")\n",
    "bar.close()"
   ]
  },
  {
   "cell_type": "code",
   "execution_count": 13,
   "id": "b933388e-0e6d-4716-98c0-12cbd3bb9cb7",
   "metadata": {
    "tags": []
   },
   "outputs": [
    {
     "name": "stdout",
     "output_type": "stream",
     "text": [
      "-405.1647962186432\n"
     ]
    }
   ],
   "source": [
    "## Mean Rewards ### \n",
    "print(results[-1]['episode_reward_mean'])\n",
    "#print(results[-1])"
   ]
  },
  {
   "cell_type": "code",
   "execution_count": 14,
   "id": "e1b82920-0746-430c-8c59-5c3467ebd07e",
   "metadata": {},
   "outputs": [
    {
     "data": {
      "text/plain": [
       "'model/checkpoint_000026'"
      ]
     },
     "execution_count": 14,
     "metadata": {},
     "output_type": "execute_result"
    }
   ],
   "source": [
    "# save the trained agent\n",
    "#cwd_checkpoint = \"model/\" + str(agent_name) + '_' + str(ep)\n",
    "cwd_checkpoint = \"model/\"\n",
    "trainer.save(cwd_checkpoint)"
   ]
  },
  {
   "cell_type": "code",
   "execution_count": null,
   "id": "b8f831c0-015c-4034-90f8-a423bfc3f64f",
   "metadata": {},
   "outputs": [],
   "source": []
  }
 ],
 "metadata": {
  "kernelspec": {
   "display_name": "Python 3 (ipykernel)",
   "language": "python",
   "name": "python3"
  },
  "language_info": {
   "codemirror_mode": {
    "name": "ipython",
    "version": 3
   },
   "file_extension": ".py",
   "mimetype": "text/x-python",
   "name": "python",
   "nbconvert_exporter": "python",
   "pygments_lexer": "ipython3",
   "version": "3.9.1"
  }
 },
 "nbformat": 4,
 "nbformat_minor": 5
}
