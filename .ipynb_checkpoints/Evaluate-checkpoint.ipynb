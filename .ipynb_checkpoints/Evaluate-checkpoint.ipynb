{
 "cells": [
  {
   "cell_type": "code",
   "execution_count": 1,
   "id": "09ba867d-efbb-4265-9cbd-2e66a76bb547",
   "metadata": {
    "tags": []
   },
   "outputs": [],
   "source": [
    "from finrl.meta.env_stock_trading.env_stocktrading import StockTradingEnv\n",
    "import pandas as pd\n",
    "import pickle \n",
    "from finrl.meta.preprocessor.preprocessors import FeatureEngineer, data_split\n",
    "\n",
    "# load the DataFrame from a pickle file\n",
    "df = pd.read_pickle('dataset/processed.pkl')\n",
    "TRAIN_START_DATE = '2010-01-01'\n",
    "TRAIN_END_DATE = '2021-01-01'\n",
    "TRADE_START_DATE = '2021-01-02'\n",
    "TRADE_END_DATE = '2023-03-26'"
   ]
  },
  {
   "cell_type": "code",
   "execution_count": 2,
   "id": "89700baa-b683-4a5e-87d0-41c304bde9af",
   "metadata": {
    "tags": []
   },
   "outputs": [],
   "source": [
    "INDICATORS = ['macd','rsi_14', 'rsi_21','rsi_28',\n",
    " 'boll_ub',\n",
    " 'boll_lb',\n",
    " 'rsi_30',\n",
    " 'cci_30',\n",
    " 'dx_30',\n",
    " 'close_30_sma',\n",
    " 'close_60_sma']"
   ]
  },
  {
   "cell_type": "code",
   "execution_count": 13,
   "id": "368e7f69-1f20-4f95-b3cc-49c55c2bc663",
   "metadata": {
    "tags": []
   },
   "outputs": [],
   "source": [
    "import psutil\n",
    "import ray\n",
    "ray._private.utils.get_system_memory = lambda: psutil.virtual_memory().total\n",
    "from ray.tune.registry import register_env\n",
    "\n",
    "from gymnasium.wrappers import EnvCompatibility"
   ]
  },
  {
   "cell_type": "code",
   "execution_count": 14,
   "id": "7db6617a-ef67-4932-af5b-ddbf79153bea",
   "metadata": {},
   "outputs": [
    {
     "name": "stdout",
     "output_type": "stream",
     "text": [
      "80301\n",
      "16211\n"
     ]
    }
   ],
   "source": [
    "train = data_split(df, TRAIN_START_DATE,TRAIN_END_DATE)\n",
    "trade = data_split(df, TRADE_START_DATE,TRADE_END_DATE)\n",
    "print(len(train))\n",
    "print(len(trade))"
   ]
  },
  {
   "cell_type": "code",
   "execution_count": 15,
   "id": "5a183cc2-659f-4fd9-a986-d08d550dfb4e",
   "metadata": {
    "tags": []
   },
   "outputs": [
    {
     "name": "stdout",
     "output_type": "stream",
     "text": [
      "Stock Dimension: 29, State Space: 378\n"
     ]
    }
   ],
   "source": [
    "stock_dimension = len(train.tic.unique())\n",
    "state_space = 1 + 2*stock_dimension + len(INDICATORS)*stock_dimension\n",
    "print(f\"Stock Dimension: {stock_dimension}, State Space: {state_space}\")"
   ]
  },
  {
   "cell_type": "code",
   "execution_count": 16,
   "id": "c39818dc-1cde-47c3-a477-1bf85ded87ed",
   "metadata": {
    "tags": []
   },
   "outputs": [],
   "source": [
    "buy_cost_list = sell_cost_list = [0.001] * stock_dimension\n",
    "num_stock_shares = [0] * stock_dimension\n",
    "\n",
    "env_kwargs = {\n",
    "    \"hmax\": 200,\n",
    "    \"initial_amount\": 1000000,\n",
    "    \"num_stock_shares\": num_stock_shares,\n",
    "    \"buy_cost_pct\": buy_cost_list,\n",
    "    \"sell_cost_pct\": sell_cost_list,\n",
    "    \"state_space\": state_space,\n",
    "    \"stock_dim\": stock_dimension,\n",
    "    \"tech_indicator_list\": INDICATORS,\n",
    "    \"action_space\": stock_dimension,\n",
    "    \"reward_scaling\": 1e-4\n",
    "}"
   ]
  },
  {
   "cell_type": "code",
   "execution_count": 17,
   "id": "b64bb77b-8fde-44b3-908e-a82eb1e80f88",
   "metadata": {
    "tags": []
   },
   "outputs": [],
   "source": [
    "e_trade_gym = StockTradingEnv(df = trade, turbulence_threshold = 70, risk_indicator_col='vix', **env_kwargs)"
   ]
  },
  {
   "cell_type": "code",
   "execution_count": 18,
   "id": "facb2fd7-35ff-4f30-bf5d-7e3ebc83f640",
   "metadata": {},
   "outputs": [],
   "source": [
    "def env_creator_trading(env_config):\n",
    "    # env_config is passed as {} and defaults are set here\n",
    "    df = env_config.get('df', trade)  # changed from the training environment\n",
    "    \n",
    "    hmax = env_config.get('hmax', 200)\n",
    "    initial_amount = env_config.get('initial_amount', 1000000)\n",
    "    num_stock_shares = env_config.get('num_stock_shares', [0] * stock_dimension)\n",
    "    buy_cost_pct = env_config.get('buy_cost_pct', buy_cost_list)\n",
    "    sell_cost_pct = env_config.get('sell_cost_pct', sell_cost_list)\n",
    "    state_space = env_config.get('state_space', 1 + 2*stock_dimension + len(INDICATORS)*stock_dimension)\n",
    "    stock_dim = env_config.get('stock_dim', stock_dimension)\n",
    "    tech_indicator_list = env_config.get('tech_indicator_list', INDICATORS)\n",
    "    action_space = env_config.get('action_space', stock_dimension)\n",
    "    reward_scaling = env_config.get('reward_scaling', 1e-4)\n",
    "    \n",
    "    # specific for trading\n",
    "    turbulence_threshold = env_config.get('turbulence_threshold', 70)\n",
    "    risk_indicator_col = env_config.get('risk_indicator_col', 'vix')\n",
    "\n",
    "    return EnvCompatibility(StockTradingEnv(\n",
    "        df=df,\n",
    "        hmax=hmax,\n",
    "        initial_amount=initial_amount,\n",
    "        num_stock_shares=num_stock_shares,\n",
    "        buy_cost_pct=buy_cost_pct,\n",
    "        sell_cost_pct=sell_cost_pct,\n",
    "        state_space=state_space,\n",
    "        stock_dim=stock_dim,\n",
    "        tech_indicator_list=tech_indicator_list,\n",
    "        action_space=action_space,\n",
    "        reward_scaling=reward_scaling,\n",
    "        turbulence_threshold=turbulence_threshold,\n",
    "        risk_indicator_col=risk_indicator_col\n",
    "    ))"
   ]
  },
  {
   "cell_type": "code",
   "execution_count": 19,
   "id": "0a5d0511-1889-4928-a324-607b91fadc49",
   "metadata": {
    "tags": []
   },
   "outputs": [],
   "source": [
    "from ray.rllib.agents import ppo\n",
    "ray.shutdown()"
   ]
  },
  {
   "cell_type": "code",
   "execution_count": 21,
   "id": "623bd81f-77b8-4b52-9566-da80e24748ec",
   "metadata": {
    "tags": []
   },
   "outputs": [],
   "source": [
    "use_ddppo = False\n"
   ]
  },
  {
   "cell_type": "code",
   "execution_count": 22,
   "id": "3c97388b-5e07-4479-95f2-ca010c583ccb",
   "metadata": {},
   "outputs": [
    {
     "name": "stdout",
     "output_type": "stream",
     "text": [
      "<ray.rllib.algorithms.ppo.ppo.PPOConfig object at 0x7f8e7ad4aa30>\n"
     ]
    }
   ],
   "source": [
    "if use_ddppo:\n",
    "    config = ppo.DDPPOConfig()\n",
    "else:\n",
    "    config = ppo.PPOConfig()\n",
    "\n",
    "# Here set envirnonment parameters if different from default\n",
    "config = config.environment(\n",
    "    env_config={'hmax':200, 'initial_amount':1000000}\n",
    ")\n",
    "\n",
    "# Training\n",
    "config = config.training()\n",
    "\n",
    "# Resources\n",
    "config = config.resources(\n",
    "    num_gpus=0,\n",
    "    num_cpus_per_worker=1,\n",
    "    num_gpus_per_worker=0,\n",
    "    num_trainer_workers=2,\n",
    "    num_gpus_per_trainer_worker = 0,\n",
    "    num_cpus_per_trainer_worker = 1,\n",
    ")\n",
    "# Framework\n",
    "config = config.framework(\n",
    "    framework=\"torch\",\n",
    ")\n",
    "# Rollouts\n",
    "config = config.rollouts(\n",
    "    num_rollout_workers=2,\n",
    "    num_envs_per_worker=1,\n",
    ")\n",
    "\n",
    "# Additional because we are evaluating now\n",
    "config = config.exploration(\n",
    "    explore=False\n",
    ")\n",
    "\n",
    "print(config)\n",
    "# pretty(config.to_dict())"
   ]
  },
  {
   "cell_type": "code",
   "execution_count": 24,
   "id": "bf0c3f1e-69f1-41fc-ae35-290b40518074",
   "metadata": {},
   "outputs": [
    {
     "name": "stderr",
     "output_type": "stream",
     "text": [
      "\u001b[2m\u001b[36m(RolloutWorker pid=15939)\u001b[0m 2023-03-29 16:31:02,766\tWARNING env.py:156 -- Your env doesn't have a .spec.max_episode_steps attribute. Your horizon will default to infinity, and your environment will not be reset.\n",
      "\u001b[2m\u001b[36m(RolloutWorker pid=15939)\u001b[0m 2023-03-29 16:31:02,766\tWARNING env.py:166 -- Your env reset() method appears to take 'seed' or 'return_info' arguments. Note that these are not yet supported in RLlib. Seeding will take place using 'env.seed()' and the info dict will not be returned from reset.\n",
      "\u001b[2m\u001b[36m(RolloutWorker pid=15940)\u001b[0m /home/ga_aiot/anaconda3/envs/finrl/lib/python3.8/site-packages/gymnasium/spaces/box.py:227: UserWarning: \u001b[33mWARN: Casting input x to numpy array.\u001b[0m\n",
      "\u001b[2m\u001b[36m(RolloutWorker pid=15940)\u001b[0m   logger.warn(\"Casting input x to numpy array.\")\n",
      "\u001b[2m\u001b[36m(RolloutWorker pid=15939)\u001b[0m /home/ga_aiot/anaconda3/envs/finrl/lib/python3.8/site-packages/gymnasium/spaces/box.py:227: UserWarning: \u001b[33mWARN: Casting input x to numpy array.\u001b[0m\n",
      "\u001b[2m\u001b[36m(RolloutWorker pid=15939)\u001b[0m   logger.warn(\"Casting input x to numpy array.\")\n"
     ]
    }
   ],
   "source": [
    "from ray import tune\n",
    "# registering the environment to ray\n",
    "register_env(\"finrl_trading\", env_creator_trading)\n",
    "# define trainer\n",
    "if use_ddppo:\n",
    "    trainer = ppo.DDPPOTrainer(env='finrl_trading', config=config)\n",
    "else:\n",
    "    trainer = config.build(env=\"finrl_trading\") "
   ]
  },
  {
   "cell_type": "code",
   "execution_count": 35,
   "id": "a1c625d4-f48e-4089-8a17-40617099945e",
   "metadata": {},
   "outputs": [
    {
     "ename": "AssertionError",
     "evalue": "",
     "output_type": "error",
     "traceback": [
      "\u001b[0;31m---------------------------------------------------------------------------\u001b[0m",
      "\u001b[0;31mAssertionError\u001b[0m                            Traceback (most recent call last)",
      "Cell \u001b[0;32mIn[35], line 7\u001b[0m\n\u001b[1;32m      5\u001b[0m \u001b[38;5;66;03m#print(f\"Restoring from checkpoint {total_episodes+1}\")\u001b[39;00m\n\u001b[1;32m      6\u001b[0m cwd_checkpoint \u001b[38;5;241m=\u001b[39m \u001b[38;5;124mf\u001b[39m\u001b[38;5;124m'\u001b[39m\u001b[38;5;124mresults/checkpoints/ppo_101/checkpoint_000106\u001b[39m\u001b[38;5;124m'\u001b[39m\n\u001b[0;32m----> 7\u001b[0m trainer \u001b[38;5;241m=\u001b[39m \u001b[43mtrainer\u001b[49m\u001b[38;5;241;43m.\u001b[39;49m\u001b[43mrestore\u001b[49m\u001b[43m(\u001b[49m\u001b[43mcwd_checkpoint\u001b[49m\u001b[43m)\u001b[49m\n",
      "File \u001b[0;32m~/anaconda3/envs/finrl/lib/python3.8/site-packages/ray/tune/trainable/trainable.py:784\u001b[0m, in \u001b[0;36mTrainable.restore\u001b[0;34m(self, checkpoint_path, checkpoint_node_ip, fallback_to_latest)\u001b[0m\n\u001b[1;32m    781\u001b[0m \u001b[38;5;28mself\u001b[39m\u001b[38;5;241m.\u001b[39m_episodes_total \u001b[38;5;241m=\u001b[39m metadata[\u001b[38;5;124m\"\u001b[39m\u001b[38;5;124mepisodes_total\u001b[39m\u001b[38;5;124m\"\u001b[39m]\n\u001b[1;32m    783\u001b[0m \u001b[38;5;66;03m# Actually load checkpoint\u001b[39;00m\n\u001b[0;32m--> 784\u001b[0m \u001b[38;5;28;43mself\u001b[39;49m\u001b[38;5;241;43m.\u001b[39;49m\u001b[43mload_checkpoint\u001b[49m\u001b[43m(\u001b[49m\u001b[43mto_load\u001b[49m\u001b[43m)\u001b[49m\n\u001b[1;32m    786\u001b[0m \u001b[38;5;28mself\u001b[39m\u001b[38;5;241m.\u001b[39m_time_since_restore \u001b[38;5;241m=\u001b[39m \u001b[38;5;241m0.0\u001b[39m\n\u001b[1;32m    787\u001b[0m \u001b[38;5;28mself\u001b[39m\u001b[38;5;241m.\u001b[39m_timesteps_since_restore \u001b[38;5;241m=\u001b[39m \u001b[38;5;241m0\u001b[39m\n",
      "File \u001b[0;32m~/anaconda3/envs/finrl/lib/python3.8/site-packages/ray/rllib/algorithms/algorithm.py:2092\u001b[0m, in \u001b[0;36mAlgorithm.load_checkpoint\u001b[0;34m(self, checkpoint)\u001b[0m\n\u001b[1;32m   2089\u001b[0m \u001b[38;5;66;03m# Checkpoint is a checkpoint-as-dict -> Restore state from it as-is.\u001b[39;00m\n\u001b[1;32m   2090\u001b[0m \u001b[38;5;28;01melse\u001b[39;00m:\n\u001b[1;32m   2091\u001b[0m     checkpoint_data \u001b[38;5;241m=\u001b[39m checkpoint\n\u001b[0;32m-> 2092\u001b[0m \u001b[38;5;28;43mself\u001b[39;49m\u001b[38;5;241;43m.\u001b[39;49m\u001b[43m__setstate__\u001b[49m\u001b[43m(\u001b[49m\u001b[43mcheckpoint_data\u001b[49m\u001b[43m)\u001b[49m\n",
      "File \u001b[0;32m~/anaconda3/envs/finrl/lib/python3.8/site-packages/ray/rllib/algorithms/algorithm.py:2502\u001b[0m, in \u001b[0;36mAlgorithm.__setstate__\u001b[0;34m(self, state)\u001b[0m\n\u001b[1;32m   2496\u001b[0m \u001b[38;5;66;03m# TODO (sven): Validate that our config and the config in state are compatible.\u001b[39;00m\n\u001b[1;32m   2497\u001b[0m \u001b[38;5;66;03m#  For example, the model architectures may differ.\u001b[39;00m\n\u001b[1;32m   2498\u001b[0m \u001b[38;5;66;03m#  Also, what should the behavior be if e.g. some training parameter\u001b[39;00m\n\u001b[1;32m   2499\u001b[0m \u001b[38;5;66;03m#  (e.g. lr) changed?\u001b[39;00m\n\u001b[1;32m   2501\u001b[0m \u001b[38;5;28;01mif\u001b[39;00m \u001b[38;5;28mhasattr\u001b[39m(\u001b[38;5;28mself\u001b[39m, \u001b[38;5;124m\"\u001b[39m\u001b[38;5;124mworkers\u001b[39m\u001b[38;5;124m\"\u001b[39m) \u001b[38;5;129;01mand\u001b[39;00m \u001b[38;5;124m\"\u001b[39m\u001b[38;5;124mworker\u001b[39m\u001b[38;5;124m\"\u001b[39m \u001b[38;5;129;01min\u001b[39;00m state:\n\u001b[0;32m-> 2502\u001b[0m     \u001b[38;5;28;43mself\u001b[39;49m\u001b[38;5;241;43m.\u001b[39;49m\u001b[43mworkers\u001b[49m\u001b[38;5;241;43m.\u001b[39;49m\u001b[43mlocal_worker\u001b[49m\u001b[43m(\u001b[49m\u001b[43m)\u001b[49m\u001b[38;5;241;43m.\u001b[39;49m\u001b[43mset_state\u001b[49m\u001b[43m(\u001b[49m\u001b[43mstate\u001b[49m\u001b[43m[\u001b[49m\u001b[38;5;124;43m\"\u001b[39;49m\u001b[38;5;124;43mworker\u001b[39;49m\u001b[38;5;124;43m\"\u001b[39;49m\u001b[43m]\u001b[49m\u001b[43m)\u001b[49m\n\u001b[1;32m   2503\u001b[0m     remote_state \u001b[38;5;241m=\u001b[39m ray\u001b[38;5;241m.\u001b[39mput(state[\u001b[38;5;124m\"\u001b[39m\u001b[38;5;124mworker\u001b[39m\u001b[38;5;124m\"\u001b[39m])\n\u001b[1;32m   2504\u001b[0m     \u001b[38;5;28mself\u001b[39m\u001b[38;5;241m.\u001b[39mworkers\u001b[38;5;241m.\u001b[39mforeach_worker(\n\u001b[1;32m   2505\u001b[0m         \u001b[38;5;28;01mlambda\u001b[39;00m w: w\u001b[38;5;241m.\u001b[39mset_state(ray\u001b[38;5;241m.\u001b[39mget(remote_state)),\n\u001b[1;32m   2506\u001b[0m         local_worker\u001b[38;5;241m=\u001b[39m\u001b[38;5;28;01mFalse\u001b[39;00m,\n\u001b[1;32m   2507\u001b[0m         healthy_only\u001b[38;5;241m=\u001b[39m\u001b[38;5;28;01mFalse\u001b[39;00m,\n\u001b[1;32m   2508\u001b[0m     )\n",
      "File \u001b[0;32m~/anaconda3/envs/finrl/lib/python3.8/site-packages/ray/rllib/evaluation/rollout_worker.py:1697\u001b[0m, in \u001b[0;36mRolloutWorker.set_state\u001b[0;34m(self, state)\u001b[0m\n\u001b[1;32m   1689\u001b[0m             \u001b[38;5;28mself\u001b[39m\u001b[38;5;241m.\u001b[39madd_policy(\n\u001b[1;32m   1690\u001b[0m                 policy_id\u001b[38;5;241m=\u001b[39mpid,\n\u001b[1;32m   1691\u001b[0m                 policy_cls\u001b[38;5;241m=\u001b[39mpolicy_spec\u001b[38;5;241m.\u001b[39mpolicy_class,\n\u001b[0;32m   (...)\u001b[0m\n\u001b[1;32m   1694\u001b[0m                 config\u001b[38;5;241m=\u001b[39mpolicy_spec\u001b[38;5;241m.\u001b[39mconfig,\n\u001b[1;32m   1695\u001b[0m             )\n\u001b[1;32m   1696\u001b[0m     \u001b[38;5;28;01mif\u001b[39;00m pid \u001b[38;5;129;01min\u001b[39;00m \u001b[38;5;28mself\u001b[39m\u001b[38;5;241m.\u001b[39mpolicy_map:\n\u001b[0;32m-> 1697\u001b[0m         \u001b[38;5;28;43mself\u001b[39;49m\u001b[38;5;241;43m.\u001b[39;49m\u001b[43mpolicy_map\u001b[49m\u001b[43m[\u001b[49m\u001b[43mpid\u001b[49m\u001b[43m]\u001b[49m\u001b[38;5;241;43m.\u001b[39;49m\u001b[43mset_state\u001b[49m\u001b[43m(\u001b[49m\u001b[43mpolicy_state\u001b[49m\u001b[43m)\u001b[49m\n\u001b[1;32m   1699\u001b[0m \u001b[38;5;66;03m# Also restore mapping fn and which policies to train.\u001b[39;00m\n\u001b[1;32m   1700\u001b[0m \u001b[38;5;28;01mif\u001b[39;00m \u001b[38;5;124m\"\u001b[39m\u001b[38;5;124mpolicy_mapping_fn\u001b[39m\u001b[38;5;124m\"\u001b[39m \u001b[38;5;129;01min\u001b[39;00m state:\n",
      "File \u001b[0;32m~/anaconda3/envs/finrl/lib/python3.8/site-packages/ray/rllib/policy/torch_mixins.py:108\u001b[0m, in \u001b[0;36mKLCoeffMixin.set_state\u001b[0;34m(self, state)\u001b[0m\n\u001b[1;32m    106\u001b[0m \u001b[38;5;28mself\u001b[39m\u001b[38;5;241m.\u001b[39mkl_coeff \u001b[38;5;241m=\u001b[39m state\u001b[38;5;241m.\u001b[39mpop(\u001b[38;5;124m\"\u001b[39m\u001b[38;5;124mcurrent_kl_coeff\u001b[39m\u001b[38;5;124m\"\u001b[39m, \u001b[38;5;28mself\u001b[39m\u001b[38;5;241m.\u001b[39mconfig[\u001b[38;5;124m\"\u001b[39m\u001b[38;5;124mkl_coeff\u001b[39m\u001b[38;5;124m\"\u001b[39m])\n\u001b[1;32m    107\u001b[0m \u001b[38;5;66;03m# Call super's set_state with rest of the state dict.\u001b[39;00m\n\u001b[0;32m--> 108\u001b[0m \u001b[38;5;28;43msuper\u001b[39;49m\u001b[43m(\u001b[49m\u001b[43m)\u001b[49m\u001b[38;5;241;43m.\u001b[39;49m\u001b[43mset_state\u001b[49m\u001b[43m(\u001b[49m\u001b[43mstate\u001b[49m\u001b[43m)\u001b[49m\n",
      "File \u001b[0;32m~/anaconda3/envs/finrl/lib/python3.8/site-packages/ray/rllib/policy/torch_policy_v2.py:953\u001b[0m, in \u001b[0;36mTorchPolicyV2.set_state\u001b[0;34m(self, state)\u001b[0m\n\u001b[1;32m    951\u001b[0m optimizer_vars \u001b[38;5;241m=\u001b[39m state\u001b[38;5;241m.\u001b[39mget(\u001b[38;5;124m\"\u001b[39m\u001b[38;5;124m_optimizer_variables\u001b[39m\u001b[38;5;124m\"\u001b[39m, \u001b[38;5;28;01mNone\u001b[39;00m)\n\u001b[1;32m    952\u001b[0m \u001b[38;5;28;01mif\u001b[39;00m optimizer_vars:\n\u001b[0;32m--> 953\u001b[0m     \u001b[38;5;28;01massert\u001b[39;00m \u001b[38;5;28mlen\u001b[39m(optimizer_vars) \u001b[38;5;241m==\u001b[39m \u001b[38;5;28mlen\u001b[39m(\u001b[38;5;28mself\u001b[39m\u001b[38;5;241m.\u001b[39m_optimizers)\n\u001b[1;32m    954\u001b[0m     \u001b[38;5;28;01mfor\u001b[39;00m o, s \u001b[38;5;129;01min\u001b[39;00m \u001b[38;5;28mzip\u001b[39m(\u001b[38;5;28mself\u001b[39m\u001b[38;5;241m.\u001b[39m_optimizers, optimizer_vars):\n\u001b[1;32m    955\u001b[0m         optim_state_dict \u001b[38;5;241m=\u001b[39m convert_to_torch_tensor(s, device\u001b[38;5;241m=\u001b[39m\u001b[38;5;28mself\u001b[39m\u001b[38;5;241m.\u001b[39mdevice)\n",
      "\u001b[0;31mAssertionError\u001b[0m: "
     ]
    }
   ],
   "source": [
    "# load saved agent\n",
    "#cwd_checkpoint = f\"results/checkpoints/ppo_{total_episodes+1}/checkpoint_0000{total_episodes+1}\"\n",
    "if use_ddppo:\n",
    "    cwd_checkpoint = 'results/checkpoints/ddppo_51/checkpoint_000051'\n",
    "#print(f\"Restoring from checkpoint {total_episodes+1}\")\n",
    "cwd_checkpoint = 'results/checkpoints/ppo_101/checkpoint_000106'\n",
    "trainer = trainer.restore(cwd_checkpoint)"
   ]
  },
  {
   "cell_type": "code",
   "execution_count": 28,
   "id": "0d56b7e8-8e68-49c4-9654-14fdb5fd2a98",
   "metadata": {},
   "outputs": [],
   "source": [
    "import time \n",
    "def DRL_prediction(model, environment):\n",
    "    start = time.time()\n",
    "    \"\"\"make a prediction\"\"\"\n",
    "    state = environment.reset()\n",
    "    for i in range(len(environment.df.index.unique())):\n",
    "        action = model.compute_single_action(state)\n",
    "        state, reward, done, _ = environment.step(action)\n",
    "        if i == (len(environment.df.index.unique()) - 2):\n",
    "            account_memory = environment.save_asset_memory()\n",
    "            actions_memory = environment.save_action_memory()\n",
    "        if done:\n",
    "            break\n",
    "    print(\"Test Finished!\")\n",
    "    print((time.time()-start),'s')\n",
    "    return account_memory, actions_memory"
   ]
  },
  {
   "cell_type": "code",
   "execution_count": 29,
   "id": "7a6fd91f-f8b3-4ba3-ac53-c49abd24d01a",
   "metadata": {},
   "outputs": [
    {
     "name": "stdout",
     "output_type": "stream",
     "text": [
      "Test Finished!\n",
      "1.9545633792877197 s\n"
     ]
    }
   ],
   "source": [
    "df_account_value, df_actions = DRL_prediction(\n",
    "    model=trainer, \n",
    "    environment = e_trade_gym)"
   ]
  },
  {
   "cell_type": "code",
   "execution_count": 30,
   "id": "b423f0b8-1b3e-4246-81b9-9995419bb34e",
   "metadata": {},
   "outputs": [
    {
     "data": {
      "text/html": [
       "<div>\n",
       "<style scoped>\n",
       "    .dataframe tbody tr th:only-of-type {\n",
       "        vertical-align: middle;\n",
       "    }\n",
       "\n",
       "    .dataframe tbody tr th {\n",
       "        vertical-align: top;\n",
       "    }\n",
       "\n",
       "    .dataframe thead th {\n",
       "        text-align: right;\n",
       "    }\n",
       "</style>\n",
       "<table border=\"1\" class=\"dataframe\">\n",
       "  <thead>\n",
       "    <tr style=\"text-align: right;\">\n",
       "      <th></th>\n",
       "      <th>date</th>\n",
       "      <th>account_value</th>\n",
       "    </tr>\n",
       "  </thead>\n",
       "  <tbody>\n",
       "    <tr>\n",
       "      <th>554</th>\n",
       "      <td>2023-03-17</td>\n",
       "      <td>1.012550e+06</td>\n",
       "    </tr>\n",
       "    <tr>\n",
       "      <th>555</th>\n",
       "      <td>2023-03-20</td>\n",
       "      <td>1.009974e+06</td>\n",
       "    </tr>\n",
       "    <tr>\n",
       "      <th>556</th>\n",
       "      <td>2023-03-21</td>\n",
       "      <td>1.013115e+06</td>\n",
       "    </tr>\n",
       "    <tr>\n",
       "      <th>557</th>\n",
       "      <td>2023-03-22</td>\n",
       "      <td>1.008247e+06</td>\n",
       "    </tr>\n",
       "    <tr>\n",
       "      <th>558</th>\n",
       "      <td>2023-03-23</td>\n",
       "      <td>1.011968e+06</td>\n",
       "    </tr>\n",
       "  </tbody>\n",
       "</table>\n",
       "</div>"
      ],
      "text/plain": [
       "           date  account_value\n",
       "554  2023-03-17   1.012550e+06\n",
       "555  2023-03-20   1.009974e+06\n",
       "556  2023-03-21   1.013115e+06\n",
       "557  2023-03-22   1.008247e+06\n",
       "558  2023-03-23   1.011968e+06"
      ]
     },
     "execution_count": 30,
     "metadata": {},
     "output_type": "execute_result"
    }
   ],
   "source": [
    "df_account_value.tail()"
   ]
  },
  {
   "cell_type": "code",
   "execution_count": 33,
   "id": "fa184410-bc01-4f23-9f77-a34fce6ca443",
   "metadata": {},
   "outputs": [
    {
     "data": {
      "text/html": [
       "<div>\n",
       "<style scoped>\n",
       "    .dataframe tbody tr th:only-of-type {\n",
       "        vertical-align: middle;\n",
       "    }\n",
       "\n",
       "    .dataframe tbody tr th {\n",
       "        vertical-align: top;\n",
       "    }\n",
       "\n",
       "    .dataframe thead th {\n",
       "        text-align: right;\n",
       "    }\n",
       "</style>\n",
       "<table border=\"1\" class=\"dataframe\">\n",
       "  <thead>\n",
       "    <tr style=\"text-align: right;\">\n",
       "      <th></th>\n",
       "      <th>AAPL</th>\n",
       "      <th>AMGN</th>\n",
       "      <th>AXP</th>\n",
       "      <th>BA</th>\n",
       "      <th>CAT</th>\n",
       "      <th>CRM</th>\n",
       "      <th>CSCO</th>\n",
       "      <th>CVX</th>\n",
       "      <th>DIS</th>\n",
       "      <th>GS</th>\n",
       "      <th>...</th>\n",
       "      <th>MRK</th>\n",
       "      <th>MSFT</th>\n",
       "      <th>NKE</th>\n",
       "      <th>PG</th>\n",
       "      <th>TRV</th>\n",
       "      <th>UNH</th>\n",
       "      <th>V</th>\n",
       "      <th>VZ</th>\n",
       "      <th>WBA</th>\n",
       "      <th>WMT</th>\n",
       "    </tr>\n",
       "    <tr>\n",
       "      <th>date</th>\n",
       "      <th></th>\n",
       "      <th></th>\n",
       "      <th></th>\n",
       "      <th></th>\n",
       "      <th></th>\n",
       "      <th></th>\n",
       "      <th></th>\n",
       "      <th></th>\n",
       "      <th></th>\n",
       "      <th></th>\n",
       "      <th></th>\n",
       "      <th></th>\n",
       "      <th></th>\n",
       "      <th></th>\n",
       "      <th></th>\n",
       "      <th></th>\n",
       "      <th></th>\n",
       "      <th></th>\n",
       "      <th></th>\n",
       "      <th></th>\n",
       "      <th></th>\n",
       "    </tr>\n",
       "  </thead>\n",
       "  <tbody>\n",
       "    <tr>\n",
       "      <th>2023-03-16</th>\n",
       "      <td>0</td>\n",
       "      <td>0</td>\n",
       "      <td>0</td>\n",
       "      <td>0</td>\n",
       "      <td>0</td>\n",
       "      <td>0</td>\n",
       "      <td>0</td>\n",
       "      <td>0</td>\n",
       "      <td>0</td>\n",
       "      <td>0</td>\n",
       "      <td>...</td>\n",
       "      <td>1</td>\n",
       "      <td>1</td>\n",
       "      <td>1</td>\n",
       "      <td>0</td>\n",
       "      <td>0</td>\n",
       "      <td>0</td>\n",
       "      <td>0</td>\n",
       "      <td>0</td>\n",
       "      <td>0</td>\n",
       "      <td>0</td>\n",
       "    </tr>\n",
       "    <tr>\n",
       "      <th>2023-03-17</th>\n",
       "      <td>0</td>\n",
       "      <td>0</td>\n",
       "      <td>0</td>\n",
       "      <td>0</td>\n",
       "      <td>0</td>\n",
       "      <td>0</td>\n",
       "      <td>0</td>\n",
       "      <td>0</td>\n",
       "      <td>0</td>\n",
       "      <td>0</td>\n",
       "      <td>...</td>\n",
       "      <td>1</td>\n",
       "      <td>1</td>\n",
       "      <td>1</td>\n",
       "      <td>0</td>\n",
       "      <td>0</td>\n",
       "      <td>0</td>\n",
       "      <td>0</td>\n",
       "      <td>0</td>\n",
       "      <td>0</td>\n",
       "      <td>0</td>\n",
       "    </tr>\n",
       "    <tr>\n",
       "      <th>2023-03-20</th>\n",
       "      <td>0</td>\n",
       "      <td>0</td>\n",
       "      <td>0</td>\n",
       "      <td>0</td>\n",
       "      <td>0</td>\n",
       "      <td>0</td>\n",
       "      <td>0</td>\n",
       "      <td>0</td>\n",
       "      <td>0</td>\n",
       "      <td>0</td>\n",
       "      <td>...</td>\n",
       "      <td>1</td>\n",
       "      <td>1</td>\n",
       "      <td>1</td>\n",
       "      <td>0</td>\n",
       "      <td>0</td>\n",
       "      <td>0</td>\n",
       "      <td>0</td>\n",
       "      <td>0</td>\n",
       "      <td>0</td>\n",
       "      <td>0</td>\n",
       "    </tr>\n",
       "    <tr>\n",
       "      <th>2023-03-21</th>\n",
       "      <td>0</td>\n",
       "      <td>0</td>\n",
       "      <td>0</td>\n",
       "      <td>0</td>\n",
       "      <td>0</td>\n",
       "      <td>0</td>\n",
       "      <td>0</td>\n",
       "      <td>0</td>\n",
       "      <td>0</td>\n",
       "      <td>0</td>\n",
       "      <td>...</td>\n",
       "      <td>1</td>\n",
       "      <td>1</td>\n",
       "      <td>1</td>\n",
       "      <td>0</td>\n",
       "      <td>0</td>\n",
       "      <td>0</td>\n",
       "      <td>0</td>\n",
       "      <td>0</td>\n",
       "      <td>0</td>\n",
       "      <td>0</td>\n",
       "    </tr>\n",
       "    <tr>\n",
       "      <th>2023-03-22</th>\n",
       "      <td>0</td>\n",
       "      <td>0</td>\n",
       "      <td>0</td>\n",
       "      <td>0</td>\n",
       "      <td>0</td>\n",
       "      <td>0</td>\n",
       "      <td>0</td>\n",
       "      <td>0</td>\n",
       "      <td>0</td>\n",
       "      <td>0</td>\n",
       "      <td>...</td>\n",
       "      <td>1</td>\n",
       "      <td>1</td>\n",
       "      <td>1</td>\n",
       "      <td>0</td>\n",
       "      <td>0</td>\n",
       "      <td>0</td>\n",
       "      <td>0</td>\n",
       "      <td>0</td>\n",
       "      <td>0</td>\n",
       "      <td>0</td>\n",
       "    </tr>\n",
       "  </tbody>\n",
       "</table>\n",
       "<p>5 rows × 29 columns</p>\n",
       "</div>"
      ],
      "text/plain": [
       "            AAPL  AMGN  AXP  BA  CAT  CRM  CSCO  CVX  DIS  GS  ...  MRK  MSFT  \\\n",
       "date                                                           ...              \n",
       "2023-03-16     0     0    0   0    0    0     0    0    0   0  ...    1     1   \n",
       "2023-03-17     0     0    0   0    0    0     0    0    0   0  ...    1     1   \n",
       "2023-03-20     0     0    0   0    0    0     0    0    0   0  ...    1     1   \n",
       "2023-03-21     0     0    0   0    0    0     0    0    0   0  ...    1     1   \n",
       "2023-03-22     0     0    0   0    0    0     0    0    0   0  ...    1     1   \n",
       "\n",
       "            NKE  PG  TRV  UNH  V  VZ  WBA  WMT  \n",
       "date                                            \n",
       "2023-03-16    1   0    0    0  0   0    0    0  \n",
       "2023-03-17    1   0    0    0  0   0    0    0  \n",
       "2023-03-20    1   0    0    0  0   0    0    0  \n",
       "2023-03-21    1   0    0    0  0   0    0    0  \n",
       "2023-03-22    1   0    0    0  0   0    0    0  \n",
       "\n",
       "[5 rows x 29 columns]"
      ]
     },
     "execution_count": 33,
     "metadata": {},
     "output_type": "execute_result"
    }
   ],
   "source": [
    "df_actions.tail()"
   ]
  },
  {
   "cell_type": "code",
   "execution_count": null,
   "id": "38501396-e621-4623-a59a-9abd3d00bf12",
   "metadata": {},
   "outputs": [],
   "source": []
  },
  {
   "cell_type": "code",
   "execution_count": null,
   "id": "58970692-6b80-41e7-8579-1fd0b61eb6e5",
   "metadata": {},
   "outputs": [],
   "source": [
    "import datetime\n",
    "from finrl.plot import backtest_stats, backtest_plot, get_daily_return, get_baseline\n",
    "\n",
    "print(\"==============Get Backtest Results===========\")\n",
    "now = datetime.datetime.now().strftime('%Y%m%d-%Hh%M')\n",
    "\n",
    "perf_stats_all = backtest_stats(account_value=df_account_value)\n",
    "perf_stats_all = pd.DataFrame(perf_stats_all)\n",
    "#perf_stats_all.to_csv(\"./\"+RESULTS_DIR+\"/perf_stats_all_\"+now+'.csv')"
   ]
  },
  {
   "cell_type": "code",
   "execution_count": null,
   "id": "35a56ce5-3e4a-4ff0-a7a9-4a7ac1e9af94",
   "metadata": {
    "tags": []
   },
   "outputs": [],
   "source": [
    "#baseline stats\n",
    "print(\"==============Get Baseline Stats===========\")\n",
    "baseline_df = get_baseline(\n",
    "        ticker=\"^DJI\", \n",
    "        start = df_account_value.loc[0,'date'],\n",
    "        end = df_account_value.loc[len(df_account_value)-1,'date'])\n",
    "\n",
    "stats = backtest_stats(baseline_df, value_col_name = 'close')"
   ]
  },
  {
   "cell_type": "code",
   "execution_count": null,
   "id": "379939db-fe97-47cd-9e4c-90840e21a355",
   "metadata": {},
   "outputs": [],
   "source": [
    "print(\"==============Compare to DJIA===========\")\n",
    "%matplotlib inline\n",
    "# S&P 500: ^GSPC\n",
    "# Dow Jones Index: ^DJI\n",
    "# NASDAQ 100: ^NDX\n",
    "backtest_plot(df_account_value, \n",
    "             baseline_ticker = '^DJI', \n",
    "             baseline_start = df_account_value.loc[0,'date'],\n",
    "             baseline_end = df_account_value.loc[len(df_account_value)-1,'date'])"
   ]
  },
  {
   "cell_type": "code",
   "execution_count": null,
   "id": "f5d7c1b9-5519-473f-ba83-1b90d30119e2",
   "metadata": {},
   "outputs": [],
   "source": []
  }
 ],
 "metadata": {
  "kernelspec": {
   "display_name": "Python 3 (ipykernel)",
   "language": "python",
   "name": "python3"
  },
  "language_info": {
   "codemirror_mode": {
    "name": "ipython",
    "version": 3
   },
   "file_extension": ".py",
   "mimetype": "text/x-python",
   "name": "python",
   "nbconvert_exporter": "python",
   "pygments_lexer": "ipython3",
   "version": "3.8.16"
  }
 },
 "nbformat": 4,
 "nbformat_minor": 5
}
