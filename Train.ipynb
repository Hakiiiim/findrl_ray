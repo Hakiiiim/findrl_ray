{
 "cells": [
  {
   "cell_type": "code",
   "execution_count": 1,
   "id": "4ba7f2b6-480a-4462-af82-80e6d588cd8a",
   "metadata": {
    "tags": []
   },
   "outputs": [],
   "source": [
    "import pandas as pd\n",
    "import pickle \n",
    "import sys\n",
    "import os\n",
    "import finrl\n",
    "from finenv.env_stocktrading import StockTradingEnv\n",
    "from finenv.preprocessors import data_split\n",
    "from finenv.save_model import ftpsavemodel\n",
    "import psutil\n",
    "import ray\n",
    "import numpy as np\n",
    "from datetime import datetime\n",
    "ray._private.utils.get_system_memory = lambda: psutil.virtual_memory().total\n",
    "from ray.tune.registry import register_env\n",
    "from gymnasium.wrappers import EnvCompatibility\n",
    "from ray.rllib.agents import ppo\n",
    "from ray.rllib.algorithms.td3 import TD3Config\n",
    "# load the DataFrame from a pickle file\n",
    "os.environ[\"OMP_NUM_THREADS\"] = \"1\"\n",
    "#os.environ[\"CUBLAS_WORKSPACE_CONFIG\"]=\":4096:8\""
   ]
  },
  {
   "cell_type": "code",
   "execution_count": 2,
   "id": "d4ef8a5f-023a-4374-baf1-73b16c01f643",
   "metadata": {
    "tags": []
   },
   "outputs": [
    {
     "name": "stdout",
     "output_type": "stream",
     "text": [
      "Stock Dimension: 3, State Space: 19\n"
     ]
    },
    {
     "data": {
      "text/plain": [
       "(18660, 11)"
      ]
     },
     "execution_count": 2,
     "metadata": {},
     "output_type": "execute_result"
    }
   ],
   "source": [
    "daily =  False\n",
    "if daily:\n",
    "    train = pd.read_csv('dataset/train_data.csv')\n",
    "    train = train.set_index(train.columns[0])\n",
    "    #train.reset_index(drop=True, inplace=True)\n",
    "    train.index.names = ['']\n",
    "    INDICATORS = ['macd','boll_ub','boll_lb','rsi_30','cci_30','dx_30','close_30_sma','close_60_sma']\n",
    "\n",
    "else: \n",
    "    train = pd.read_csv('dataset/idxetf_train0416.csv')\n",
    "    train = train.set_index(train.columns[0])\n",
    "    train.index.names = ['']\n",
    "    train = train.sort_values(['date'])\n",
    "    train.index = train['date'].factorize()[0]\n",
    "    INDICATORS = ['macd','rsi_14','cci','adx','bollup','bolllb','sma_14','sma_21']\n",
    "    train.head()\n",
    "    \n",
    "stock_dimension = len(train.tic.unique())\n",
    "buy_cost_list = sell_cost_list = [0.001] * stock_dimension    \n",
    "state_space = 1 + 2*stock_dimension + len(INDICATORS)*stock_dimension\n",
    "print(f\"Stock Dimension: {stock_dimension}, State Space: {state_space}\")\n",
    "train.shape"
   ]
  },
  {
   "cell_type": "code",
   "execution_count": 3,
   "id": "cb6781a9-96f3-4a91-8819-960f699e2438",
   "metadata": {
    "tags": []
   },
   "outputs": [],
   "source": [
    "def env_creator(env_config):\n",
    "    # env_config is passed as {} and defaults are set here\n",
    "    df = env_config.get('df', train)\n",
    "    hmax = env_config.get('hmax', 200)\n",
    "    initial_amount = env_config.get('initial_amount', 1000000)\n",
    "    num_stock_shares = env_config.get('num_stock_shares', [0] * stock_dimension)\n",
    "    buy_cost_pct = env_config.get('buy_cost_pct', buy_cost_list)\n",
    "    sell_cost_pct = env_config.get('sell_cost_pct', sell_cost_list)\n",
    "    state_space = env_config.get('state_space', 1 + 2*stock_dimension + len(INDICATORS)*stock_dimension)\n",
    "    stock_dim = env_config.get('stock_dim', stock_dimension)\n",
    "    tech_indicator_list = env_config.get('tech_indicator_list', INDICATORS)\n",
    "    action_space = env_config.get('action_space', stock_dimension)\n",
    "    reward_scaling = env_config.get('reward_scaling', 1e-3)\n",
    "\n",
    "    return EnvCompatibility(StockTradingEnv(\n",
    "        df=df,\n",
    "        hmax=hmax,\n",
    "        initial_amount=initial_amount,\n",
    "        num_stock_shares=num_stock_shares,\n",
    "        buy_cost_pct=buy_cost_pct,\n",
    "        sell_cost_pct=sell_cost_pct,\n",
    "        state_space=state_space,\n",
    "        stock_dim=stock_dim,\n",
    "        tech_indicator_list=tech_indicator_list,\n",
    "        action_space=action_space,\n",
    "        reward_scaling=reward_scaling\n",
    "    ))\n",
    "\n",
    "register_env(\"finrl\", env_creator)"
   ]
  },
  {
   "cell_type": "code",
   "execution_count": 1,
   "id": "a3d58e55-a77f-4d4a-843b-e4291e9fd2f9",
   "metadata": {
    "tags": []
   },
   "outputs": [
    {
     "ename": "NameError",
     "evalue": "name 'ray' is not defined",
     "output_type": "error",
     "traceback": [
      "\u001b[0;31m---------------------------------------------------------------------------\u001b[0m",
      "\u001b[0;31mNameError\u001b[0m                                 Traceback (most recent call last)",
      "Cell \u001b[0;32mIn[1], line 1\u001b[0m\n\u001b[0;32m----> 1\u001b[0m \u001b[43mray\u001b[49m\u001b[38;5;241m.\u001b[39mshutdown()\n\u001b[1;32m      2\u001b[0m ray\u001b[38;5;241m.\u001b[39minit()\n\u001b[1;32m      3\u001b[0m \u001b[38;5;28mprint\u001b[39m(\u001b[38;5;124mf\u001b[39m\u001b[38;5;124m\"\u001b[39m\u001b[38;5;124mray is being initialized\u001b[39m\u001b[38;5;124m\"\u001b[39m)\n",
      "\u001b[0;31mNameError\u001b[0m: name 'ray' is not defined"
     ]
    }
   ],
   "source": [
    "ray.shutdown()\n",
    "ray.init()\n",
    "print(f\"ray is being initialized\")"
   ]
  },
  {
   "cell_type": "code",
   "execution_count": 5,
   "id": "116a4f64-e0e5-4204-bb9c-0f6c8d2fa2ed",
   "metadata": {
    "tags": []
   },
   "outputs": [],
   "source": [
    "config = ppo.PPOConfig()\n",
    "config = config.environment(env_config={'hmax':500,'initial_amount':1000000})\n",
    "config = config.training(lr=0.001)  \n",
    "config = config.resources(num_gpus=0,num_gpus_per_worker=0)\n",
    "config = config.rollouts(num_rollout_workers=10) \n",
    "config = config.framework(framework=\"torch\")\n",
    "config[\"model\"][\"fcnet_hiddens\"] = [512,512]\n",
    "config['train_batch_size'] = 1024\n",
    "#Build trainer with above config.\n",
    "trainer = config.build(env=\"finrl\") "
   ]
  },
  {
   "cell_type": "code",
   "execution_count": 7,
   "id": "67da4c9a-dcef-4c02-a17a-31a5e1b4c0cb",
   "metadata": {
    "tags": []
   },
   "outputs": [
    {
     "data": {
      "application/vnd.jupyter.widget-view+json": {
       "model_id": "a35a15cbdc144b248df257a236c88211",
       "version_major": 2,
       "version_minor": 0
      },
      "text/plain": [
       "Episodes:   0%|          | 0/5 [00:00<?, ?it/s]"
      ]
     },
     "metadata": {},
     "output_type": "display_data"
    },
    {
     "name": "stderr",
     "output_type": "stream",
     "text": [
      "2023-04-05 20:44:13,176\tWARNING ppo.py:440 -- The mean reward returned from the environment is 88.32303619384766 but the vf_clip_param is set to 10.0. Consider increasing it for policy: default_policy to improve value function convergence.\n"
     ]
    },
    {
     "name": "stdout",
     "output_type": "stream",
     "text": [
      "Mean Rwd:41856.129477016555\n",
      "Checkpoint5 saved in directory model/ppo_230405\n"
     ]
    }
   ],
   "source": [
    "from tqdm.notebook import tqdm\n",
    "# Train away -------------------------------------------------------------\n",
    "total_episodes = 5 \n",
    "agent_name = 'ppo'\n",
    "ep = 0\n",
    "results = []\n",
    "bar = tqdm(total=total_episodes, desc=\"Episodes\")\n",
    "date = datetime.now().strftime('%y%m%d')\n",
    "\n",
    "while ep <= total_episodes:\n",
    "    results.append(trainer.train())\n",
    "    ep += 1\n",
    "    bar.update(n=1)\n",
    "    rwd = results[-1]['episode_reward_mean']\n",
    "    if ep % 5 == 0:\n",
    "        print(f'Mean Rwd:{rwd}')\n",
    "    if ep % 5 == 0:\n",
    "        #cwd_checkpoint = \"results/checkpoints/\" +  + '_' + str(ep)\n",
    "        cwd_checkpoint = f\"model/{agent_name}_{date}\"\n",
    "        trainer.save(cwd_checkpoint)\n",
    "        print(f\"Checkpoint{ep} saved in directory {cwd_checkpoint}\")\n",
    "    if ep % 100 == 0:\n",
    "        ep_rw = np.array(results[-1]['hist_stats']['episode_reward']).mean()\n",
    "        total_ts = results[-1]['timesteps_total']\n",
    "        print(f'EP Rwd:{ep_rw:.3f} ; Total ts:{total_ts}')\n",
    "\n",
    "bar.close()"
   ]
  },
  {
   "cell_type": "code",
   "execution_count": null,
   "id": "9d68da19-20e7-485d-abf5-3f15ea4b54c7",
   "metadata": {},
   "outputs": [],
   "source": [
    "results[-1]"
   ]
  },
  {
   "cell_type": "code",
   "execution_count": 8,
   "id": "e1b82920-0746-430c-8c59-5c3467ebd07e",
   "metadata": {},
   "outputs": [
    {
     "data": {
      "text/plain": [
       "'model/checkpoint_000006'"
      ]
     },
     "execution_count": 8,
     "metadata": {},
     "output_type": "execute_result"
    }
   ],
   "source": [
    "#Save latest ckpt point\n",
    "cwd_checkpoint = f\"model/org_{date}_{ep}\"\n",
    "trainer.save(cwd_checkpoint)\n",
    "#Extract model weights \n",
    "model_weights = trainer.get_policy().get_weights()\n",
    "print('passed model weights')\n",
    "config2 = ppo.PPOConfig()\n",
    "print('config created')\n",
    "#config2 = config2.environment(env_config={'hmax':500,'initial_amount':1000000})\n",
    "#config2 = config2.training(gamma=0.9, lr=0.005, kl_coeff=0.3)  \n",
    "config2 = config2.rollouts(num_rollout_workers=0) \n",
    "config2 = config2.framework(framework=\"torch\")\n",
    "config2[\"model\"][\"fcnet_hiddens\"] = [512,512]\n",
    "config2['train_batch_size'] = 1000\n",
    "trainer2 = ppo.PPOTrainer(env='finrl', config=config2)\n",
    "trainer2.get_policy().set_weights(model_weights)\n",
    "print('New Weights loaded. ')\n",
    "ckpt2 = f\"{cwd_checkpoint}_wt\"\n",
    "trainer2.save(ckpt2)\n",
    "zip_filename = f'ckpt_wt{date}_{ep}.zip'\n",
    "savefile = ftpsavemodel(ckpt2,zip_filename)\n",
    "print(f'file{savefile}in{ckpt2}')"
   ]
  },
  {
   "cell_type": "code",
   "execution_count": null,
   "id": "f76ff5af-5ffb-4fc4-bb64-51eb63e1933f",
   "metadata": {},
   "outputs": [],
   "source": []
  }
 ],
 "metadata": {
  "kernelspec": {
   "display_name": "Python 3 (ipykernel)",
   "language": "python",
   "name": "python3"
  },
  "language_info": {
   "codemirror_mode": {
    "name": "ipython",
    "version": 3
   },
   "file_extension": ".py",
   "mimetype": "text/x-python",
   "name": "python",
   "nbconvert_exporter": "python",
   "pygments_lexer": "ipython3",
   "version": "3.8.16"
  }
 },
 "nbformat": 4,
 "nbformat_minor": 5
}
