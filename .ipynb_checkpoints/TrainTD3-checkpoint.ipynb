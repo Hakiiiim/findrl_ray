{
 "cells": [
  {
   "cell_type": "code",
   "execution_count": 1,
   "id": "4ba7f2b6-480a-4462-af82-80e6d588cd8a",
   "metadata": {
    "tags": []
   },
   "outputs": [],
   "source": [
    "import pandas as pd\n",
    "import pickle \n",
    "import os\n",
    "import finrl\n",
    "from finenv.env_stocktrading import StockTradingEnv\n",
    "from finenv.preprocessors import data_split\n",
    "from finenv.save_model import *\n",
    "import psutil\n",
    "import ray\n",
    "from datetime import datetime\n",
    "ray._private.utils.get_system_memory = lambda: psutil.virtual_memory().total\n",
    "from ray.tune.registry import register_env\n",
    "from gymnasium.wrappers import EnvCompatibility\n",
    "from ray.rllib.agents import ppo\n",
    "from ray.rllib.algorithms.td3 import TD3Config\n",
    "from ray.rllib.algorithms.ddpg.ddpg import DDPGConfig"
   ]
  },
  {
   "cell_type": "code",
   "execution_count": 2,
   "id": "b7882d0a-464f-46ed-8be6-e22b4ba58596",
   "metadata": {
    "tags": []
   },
   "outputs": [
    {
     "name": "stdout",
     "output_type": "stream",
     "text": [
      "Stock Dimension: 82, State Space: 821\n"
     ]
    },
    {
     "data": {
      "text/plain": [
       "(193028, 18)"
      ]
     },
     "execution_count": 2,
     "metadata": {},
     "output_type": "execute_result"
    }
   ],
   "source": [
    "csv =  True\n",
    "if csv:\n",
    "    train = pd.read_csv('dataset/train_data.csv')\n",
    "    train = train.set_index(train.columns[0])\n",
    "    #train.reset_index(drop=True, inplace=True)\n",
    "    train.index.names = ['']\n",
    "    INDICATORS = ['macd','boll_ub','boll_lb','rsi_30','cci_30','dx_30','close_30_sma','close_60_sma']\n",
    "\n",
    "else: \n",
    "    train = pd.read_csv('dataset/idxetf_train.csv')\n",
    "    train = train.set_index(train.columns[0])\n",
    "    train.index.names = ['']\n",
    "    train = train.sort_values(['date'])\n",
    "    train.index = train['date'].factorize()[0]\n",
    "    INDICATORS = ['macd','rsi','cci','adx']\n",
    "    train.head()\n",
    "    \n",
    "stock_dimension = len(train.tic.unique())\n",
    "buy_cost_list = sell_cost_list = [0.001] * stock_dimension    \n",
    "state_space = 1 + 2*stock_dimension + len(INDICATORS)*stock_dimension\n",
    "print(f\"Stock Dimension: {stock_dimension}, State Space: {state_space}\")\n",
    "train.shape"
   ]
  },
  {
   "cell_type": "code",
   "execution_count": 3,
   "id": "cb6781a9-96f3-4a91-8819-960f699e2438",
   "metadata": {
    "tags": []
   },
   "outputs": [],
   "source": [
    "def env_creator(env_config):\n",
    "    # env_config is passed as {} and defaults are set here\n",
    "    df = env_config.get('df', train)\n",
    "    hmax = env_config.get('hmax', 200)\n",
    "    initial_amount = env_config.get('initial_amount', 1000000)\n",
    "    num_stock_shares = env_config.get('num_stock_shares', [0] * stock_dimension)\n",
    "    buy_cost_pct = env_config.get('buy_cost_pct', buy_cost_list)\n",
    "    sell_cost_pct = env_config.get('sell_cost_pct', sell_cost_list)\n",
    "    state_space = env_config.get('state_space', 1 + 2*stock_dimension + len(INDICATORS)*stock_dimension)\n",
    "    stock_dim = env_config.get('stock_dim', stock_dimension)\n",
    "    tech_indicator_list = env_config.get('tech_indicator_list', INDICATORS)\n",
    "    action_space = env_config.get('action_space', stock_dimension)\n",
    "    reward_scaling = env_config.get('reward_scaling', 1e-2)\n",
    "\n",
    "    return EnvCompatibility(StockTradingEnv(\n",
    "        df=df,\n",
    "        hmax=hmax,\n",
    "        initial_amount=initial_amount,\n",
    "        num_stock_shares=num_stock_shares,\n",
    "        buy_cost_pct=buy_cost_pct,\n",
    "        sell_cost_pct=sell_cost_pct,\n",
    "        state_space=state_space,\n",
    "        stock_dim=stock_dim,\n",
    "        tech_indicator_list=tech_indicator_list,\n",
    "        action_space=action_space,\n",
    "        reward_scaling=reward_scaling\n",
    "    ))\n"
   ]
  },
  {
   "cell_type": "code",
   "execution_count": 4,
   "id": "a3d58e55-a77f-4d4a-843b-e4291e9fd2f9",
   "metadata": {
    "tags": []
   },
   "outputs": [
    {
     "name": "stdout",
     "output_type": "stream",
     "text": [
      "ray is being initialized\n"
     ]
    }
   ],
   "source": [
    "ray.shutdown()\n",
    "register_env(\"finrl\", env_creator)\n",
    "#ray.init(num_cpus=122,dashboard_port=8080)\n",
    "print(f\"ray is being initialized\")"
   ]
  },
  {
   "cell_type": "code",
   "execution_count": 5,
   "id": "116a4f64-e0e5-4204-bb9c-0f6c8d2fa2ed",
   "metadata": {
    "tags": []
   },
   "outputs": [
    {
     "name": "stderr",
     "output_type": "stream",
     "text": [
      "2023-04-11 08:04:01,299\tINFO worker.py:1544 -- Started a local Ray instance. View the dashboard at \u001b[1m\u001b[32mhttp://127.0.0.1:8265 \u001b[39m\u001b[22m\n",
      "\u001b[2m\u001b[36m(pid=579)\u001b[0m Inconsistency detected by ld.so: ../elf/dl-tls.c: 517: _dl_allocate_tls_init: Assertion `listp != NULL' failed!\n",
      "2023-04-11 08:04:06,624\tWARNING worker.py:1866 -- A worker died or was killed while executing a task by an unexpected system error. To troubleshoot the problem, check the logs for the dead worker. RayTask ID: ffffffffffffffff2e829caa24f1009103ec4b2801000000 Worker ID: 04fe655d6f002d164e4656247e37d32f125826212295e0fe7ce8bb7a Node ID: 2ba7a491a8a3d86f5178c23e7d7f21f2a199f50b1a7c22dd5329ec61 Worker IP address: 172.21.2.233 Worker port: 43101 Worker PID: 579 Worker exit type: SYSTEM_ERROR Worker exit detail: Worker unexpectedly exits with a connection error code 2. End of file. There are some potential root causes. (1) The process is killed by SIGKILL by OOM killer due to high memory usage. (2) ray stop --force is called. (3) The worker is crashed unexpectedly due to SIGSEGV or other unexpected errors.\n",
      "\u001b[2m\u001b[36m(RolloutWorker pid=592)\u001b[0m /home/ga_aiot/anaconda3/envs/finrl/lib/python3.8/site-packages/gymnasium/spaces/box.py:227: UserWarning: \u001b[33mWARN: Casting input x to numpy array.\u001b[0m\n",
      "\u001b[2m\u001b[36m(RolloutWorker pid=592)\u001b[0m   logger.warn(\"Casting input x to numpy array.\")\n",
      "\u001b[2m\u001b[36m(RolloutWorker pid=605)\u001b[0m /home/ga_aiot/anaconda3/envs/finrl/lib/python3.8/site-packages/gymnasium/spaces/box.py:227: UserWarning: \u001b[33mWARN: Casting input x to numpy array.\u001b[0m\n",
      "\u001b[2m\u001b[36m(RolloutWorker pid=605)\u001b[0m   logger.warn(\"Casting input x to numpy array.\")\n",
      "\u001b[2m\u001b[36m(RolloutWorker pid=633)\u001b[0m /home/ga_aiot/anaconda3/envs/finrl/lib/python3.8/site-packages/gymnasium/spaces/box.py:227: UserWarning: \u001b[33mWARN: Casting input x to numpy array.\u001b[0m\n",
      "\u001b[2m\u001b[36m(RolloutWorker pid=633)\u001b[0m   logger.warn(\"Casting input x to numpy array.\")\n",
      "\u001b[2m\u001b[36m(RolloutWorker pid=620)\u001b[0m /home/ga_aiot/anaconda3/envs/finrl/lib/python3.8/site-packages/gymnasium/spaces/box.py:227: UserWarning: \u001b[33mWARN: Casting input x to numpy array.\u001b[0m\n",
      "\u001b[2m\u001b[36m(RolloutWorker pid=620)\u001b[0m   logger.warn(\"Casting input x to numpy array.\")\n",
      "\u001b[2m\u001b[36m(RolloutWorker pid=648)\u001b[0m /home/ga_aiot/anaconda3/envs/finrl/lib/python3.8/site-packages/gymnasium/spaces/box.py:227: UserWarning: \u001b[33mWARN: Casting input x to numpy array.\u001b[0m\n",
      "\u001b[2m\u001b[36m(RolloutWorker pid=648)\u001b[0m   logger.warn(\"Casting input x to numpy array.\")\n",
      "\u001b[2m\u001b[36m(RolloutWorker pid=735)\u001b[0m /home/ga_aiot/anaconda3/envs/finrl/lib/python3.8/site-packages/gymnasium/spaces/box.py:227: UserWarning: \u001b[33mWARN: Casting input x to numpy array.\u001b[0m\n",
      "\u001b[2m\u001b[36m(RolloutWorker pid=735)\u001b[0m   logger.warn(\"Casting input x to numpy array.\")\n",
      "\u001b[2m\u001b[36m(RolloutWorker pid=765)\u001b[0m /home/ga_aiot/anaconda3/envs/finrl/lib/python3.8/site-packages/gymnasium/spaces/box.py:227: UserWarning: \u001b[33mWARN: Casting input x to numpy array.\u001b[0m\n",
      "\u001b[2m\u001b[36m(RolloutWorker pid=765)\u001b[0m   logger.warn(\"Casting input x to numpy array.\")\n",
      "\u001b[2m\u001b[36m(RolloutWorker pid=676)\u001b[0m /home/ga_aiot/anaconda3/envs/finrl/lib/python3.8/site-packages/gymnasium/spaces/box.py:227: UserWarning: \u001b[33mWARN: Casting input x to numpy array.\u001b[0m\n",
      "\u001b[2m\u001b[36m(RolloutWorker pid=676)\u001b[0m   logger.warn(\"Casting input x to numpy array.\")\n",
      "\u001b[2m\u001b[36m(RolloutWorker pid=662)\u001b[0m /home/ga_aiot/anaconda3/envs/finrl/lib/python3.8/site-packages/gymnasium/spaces/box.py:227: UserWarning: \u001b[33mWARN: Casting input x to numpy array.\u001b[0m\n",
      "\u001b[2m\u001b[36m(RolloutWorker pid=662)\u001b[0m   logger.warn(\"Casting input x to numpy array.\")\n",
      "\u001b[2m\u001b[36m(RolloutWorker pid=1463)\u001b[0m 2023-04-11 08:04:11,644\tWARNING env.py:156 -- Your env doesn't have a .spec.max_episode_steps attribute. Your horizon will default to infinity, and your environment will not be reset.\n",
      "\u001b[2m\u001b[36m(RolloutWorker pid=1463)\u001b[0m 2023-04-11 08:04:11,644\tWARNING env.py:166 -- Your env reset() method appears to take 'seed' or 'return_info' arguments. Note that these are not yet supported in RLlib. Seeding will take place using 'env.seed()' and the info dict will not be returned from reset.\n",
      "\u001b[2m\u001b[36m(RolloutWorker pid=1463)\u001b[0m /home/ga_aiot/anaconda3/envs/finrl/lib/python3.8/site-packages/gymnasium/spaces/box.py:227: UserWarning: \u001b[33mWARN: Casting input x to numpy array.\u001b[0m\n",
      "\u001b[2m\u001b[36m(RolloutWorker pid=1463)\u001b[0m   logger.warn(\"Casting input x to numpy array.\")\n",
      "/home/ga_aiot/anaconda3/envs/finrl/lib/python3.8/site-packages/ray/rllib/algorithms/ddpg/ddpg_torch_model.py:110: UserWarning: The given NumPy array is not writable, and PyTorch does not support non-writable tensors. This means writing to this tensor will result in undefined behavior. You may want to copy the array to protect its data or make it writable before converting it to a tensor. This type of warning will be suppressed for the rest of this program. (Triggered internally at ../torch/csrc/utils/tensor_numpy.cpp:199.)\n",
      "  torch.from_numpy(self.action_space.low).float()\n",
      "2023-04-11 08:04:49,330\tINFO trainable.py:172 -- Trainable.setup took 54.505 seconds. If your trainable is slow to initialize, consider setting reuse_actors=True to reduce actor creation overheads.\n"
     ]
    }
   ],
   "source": [
    "config = TD3Config().training(lr=0.01).resources(num_gpus=1).framework(framework=\"torch\").rollouts(num_rollout_workers=10)\n",
    "config[\"model\"][\"fcnet_hiddens\"] = [1024,1024]\n",
    "config['train_batch_size'] = 1024\n",
    "#print(config.to_dict())  \n",
    "trainer = config.build(env=\"finrl\") "
   ]
  },
  {
   "cell_type": "code",
   "execution_count": 6,
   "id": "67da4c9a-dcef-4c02-a17a-31a5e1b4c0cb",
   "metadata": {
    "tags": []
   },
   "outputs": [
    {
     "data": {
      "application/vnd.jupyter.widget-view+json": {
       "model_id": "9c7b14f7af6f4cd4be7a01b44cdb07d5",
       "version_major": 2,
       "version_minor": 0
      },
      "text/plain": [
       "Episodes:   0%|          | 0/24 [00:00<?, ?it/s]"
      ]
     },
     "metadata": {},
     "output_type": "display_data"
    },
    {
     "name": "stderr",
     "output_type": "stream",
     "text": [
      "2023-04-11 08:04:49,484\tWARNING replay_buffer.py:61 -- Estimated max memory usage for replay buffer is 6.946 GB (1000000.0 batches of size 1, 6946 bytes each), available system memory is 25.214959616 GB\n"
     ]
    },
    {
     "name": "stdout",
     "output_type": "stream",
     "text": [
      "Mean Rwd:nan\n",
      "Mean Rwd:nan\n",
      "Mean Rwd:nan\n",
      "Mean Rwd:nan\n",
      "Mean Rwd:nan\n",
      "Mean Rwd:nan\n",
      "Mean Rwd:nan\n",
      "Mean Rwd:nan\n",
      "Mean Rwd:nan\n",
      "Mean Rwd:nan\n",
      "Mean Rwd:nan\n",
      "Mean Rwd:nan\n",
      "Mean Rwd:nan\n",
      "Mean Rwd:nan\n",
      "Mean Rwd:nan\n",
      "Mean Rwd:nan\n",
      "Mean Rwd:nan\n",
      "Mean Rwd:nan\n",
      "Mean Rwd:nan\n",
      "Mean Rwd:nan\n",
      "Mean Rwd:nan\n",
      "Mean Rwd:nan\n",
      "Mean Rwd:nan\n",
      "\u001b[2m\u001b[36m(RolloutWorker pid=592)\u001b[0m day: 2353, episode: 3\n",
      "\u001b[2m\u001b[36m(RolloutWorker pid=592)\u001b[0m begin_total_asset: 1000000.00\n",
      "\u001b[2m\u001b[36m(RolloutWorker pid=592)\u001b[0m end_total_asset: 6219271.96\n",
      "\u001b[2m\u001b[36m(RolloutWorker pid=592)\u001b[0m total_reward: 5219271.96\n",
      "\u001b[2m\u001b[36m(RolloutWorker pid=592)\u001b[0m total_cost: 249172.59\n",
      "\u001b[2m\u001b[36m(RolloutWorker pid=592)\u001b[0m total_trades: 148655\n",
      "\u001b[2m\u001b[36m(RolloutWorker pid=592)\u001b[0m Sharpe: 1.143\n",
      "\u001b[2m\u001b[36m(RolloutWorker pid=592)\u001b[0m =================================\n",
      "\u001b[2m\u001b[36m(RolloutWorker pid=605)\u001b[0m day: 2353, episode: 3\n",
      "\u001b[2m\u001b[36m(RolloutWorker pid=605)\u001b[0m begin_total_asset: 1000000.00\n",
      "\u001b[2m\u001b[36m(RolloutWorker pid=605)\u001b[0m end_total_asset: 6639588.88\n",
      "\u001b[2m\u001b[36m(RolloutWorker pid=605)\u001b[0m total_reward: 5639588.88\n",
      "\u001b[2m\u001b[36m(RolloutWorker pid=605)\u001b[0m total_cost: 249495.30\n",
      "\u001b[2m\u001b[36m(RolloutWorker pid=605)\u001b[0m total_trades: 148867\n",
      "\u001b[2m\u001b[36m(RolloutWorker pid=605)\u001b[0m Sharpe: 1.225\n",
      "\u001b[2m\u001b[36m(RolloutWorker pid=605)\u001b[0m =================================\n",
      "\u001b[2m\u001b[36m(RolloutWorker pid=620)\u001b[0m day: 2353, episode: 3\n",
      "\u001b[2m\u001b[36m(RolloutWorker pid=620)\u001b[0m begin_total_asset: 1000000.00\n",
      "\u001b[2m\u001b[36m(RolloutWorker pid=620)\u001b[0m end_total_asset: 6288146.29\n",
      "\u001b[2m\u001b[36m(RolloutWorker pid=620)\u001b[0m total_reward: 5288146.29\n",
      "\u001b[2m\u001b[36m(RolloutWorker pid=620)\u001b[0m total_cost: 250114.04\n",
      "\u001b[2m\u001b[36m(RolloutWorker pid=620)\u001b[0m total_trades: 148754\n",
      "\u001b[2m\u001b[36m(RolloutWorker pid=620)\u001b[0m Sharpe: 1.185\n",
      "\u001b[2m\u001b[36m(RolloutWorker pid=620)\u001b[0m =================================\n",
      "\u001b[2m\u001b[36m(RolloutWorker pid=633)\u001b[0m day: 2353, episode: 3\n",
      "\u001b[2m\u001b[36m(RolloutWorker pid=633)\u001b[0m begin_total_asset: 1000000.00\n",
      "\u001b[2m\u001b[36m(RolloutWorker pid=633)\u001b[0m end_total_asset: 7272976.29\n",
      "\u001b[2m\u001b[36m(RolloutWorker pid=633)\u001b[0m total_reward: 6272976.29\n",
      "\u001b[2m\u001b[36m(RolloutWorker pid=633)\u001b[0m total_cost: 245287.33\n",
      "\u001b[2m\u001b[36m(RolloutWorker pid=633)\u001b[0m total_trades: 148702\n",
      "\u001b[2m\u001b[36m(RolloutWorker pid=633)\u001b[0m Sharpe: 1.252\n",
      "\u001b[2m\u001b[36m(RolloutWorker pid=633)\u001b[0m =================================\n",
      "\u001b[2m\u001b[36m(RolloutWorker pid=676)\u001b[0m day: 2353, episode: 3\n",
      "\u001b[2m\u001b[36m(RolloutWorker pid=676)\u001b[0m begin_total_asset: 1000000.00\n",
      "\u001b[2m\u001b[36m(RolloutWorker pid=676)\u001b[0m end_total_asset: 5863116.05\n",
      "\u001b[2m\u001b[36m(RolloutWorker pid=676)\u001b[0m total_reward: 4863116.05\n",
      "\u001b[2m\u001b[36m(RolloutWorker pid=676)\u001b[0m total_cost: 247245.94\n",
      "\u001b[2m\u001b[36m(RolloutWorker pid=676)\u001b[0m total_trades: 148433\n",
      "\u001b[2m\u001b[36m(RolloutWorker pid=676)\u001b[0m Sharpe: 1.103\n",
      "\u001b[2m\u001b[36m(RolloutWorker pid=676)\u001b[0m =================================\n",
      "\u001b[2m\u001b[36m(RolloutWorker pid=735)\u001b[0m day: 2353, episode: 3\n",
      "\u001b[2m\u001b[36m(RolloutWorker pid=735)\u001b[0m begin_total_asset: 1000000.00\n",
      "\u001b[2m\u001b[36m(RolloutWorker pid=735)\u001b[0m end_total_asset: 5851130.20\n",
      "\u001b[2m\u001b[36m(RolloutWorker pid=735)\u001b[0m total_reward: 4851130.20\n",
      "\u001b[2m\u001b[36m(RolloutWorker pid=735)\u001b[0m total_cost: 252268.56\n",
      "\u001b[2m\u001b[36m(RolloutWorker pid=735)\u001b[0m total_trades: 148951\n",
      "\u001b[2m\u001b[36m(RolloutWorker pid=735)\u001b[0m Sharpe: 1.157\n",
      "\u001b[2m\u001b[36m(RolloutWorker pid=735)\u001b[0m =================================\n",
      "\u001b[2m\u001b[36m(RolloutWorker pid=662)\u001b[0m day: 2353, episode: 3\n",
      "\u001b[2m\u001b[36m(RolloutWorker pid=662)\u001b[0m begin_total_asset: 1000000.00\n",
      "\u001b[2m\u001b[36m(RolloutWorker pid=662)\u001b[0m end_total_asset: 5799827.32\n",
      "\u001b[2m\u001b[36m(RolloutWorker pid=662)\u001b[0m total_reward: 4799827.32\n",
      "\u001b[2m\u001b[36m(RolloutWorker pid=662)\u001b[0m total_cost: 248509.74\n",
      "\u001b[2m\u001b[36m(RolloutWorker pid=662)\u001b[0m total_trades: 148509\n",
      "\u001b[2m\u001b[36m(RolloutWorker pid=662)\u001b[0m Sharpe: 1.106\n",
      "\u001b[2m\u001b[36m(RolloutWorker pid=662)\u001b[0m =================================\n",
      "\u001b[2m\u001b[36m(RolloutWorker pid=648)\u001b[0m day: 2353, episode: 3\n",
      "\u001b[2m\u001b[36m(RolloutWorker pid=648)\u001b[0m begin_total_asset: 1000000.00\n",
      "\u001b[2m\u001b[36m(RolloutWorker pid=648)\u001b[0m end_total_asset: 6499039.38\n",
      "\u001b[2m\u001b[36m(RolloutWorker pid=648)\u001b[0m total_reward: 5499039.38\n",
      "\u001b[2m\u001b[36m(RolloutWorker pid=648)\u001b[0m total_cost: 247085.79\n",
      "\u001b[2m\u001b[36m(RolloutWorker pid=648)\u001b[0m total_trades: 148511\n",
      "\u001b[2m\u001b[36m(RolloutWorker pid=648)\u001b[0m Sharpe: 1.173\n",
      "\u001b[2m\u001b[36m(RolloutWorker pid=648)\u001b[0m =================================\n",
      "\u001b[2m\u001b[36m(RolloutWorker pid=765)\u001b[0m day: 2353, episode: 3\n",
      "\u001b[2m\u001b[36m(RolloutWorker pid=765)\u001b[0m begin_total_asset: 1000000.00\n",
      "\u001b[2m\u001b[36m(RolloutWorker pid=765)\u001b[0m end_total_asset: 5382289.81\n",
      "\u001b[2m\u001b[36m(RolloutWorker pid=765)\u001b[0m total_reward: 4382289.81\n",
      "\u001b[2m\u001b[36m(RolloutWorker pid=765)\u001b[0m total_cost: 247669.54\n",
      "\u001b[2m\u001b[36m(RolloutWorker pid=765)\u001b[0m total_trades: 148834\n",
      "\u001b[2m\u001b[36m(RolloutWorker pid=765)\u001b[0m Sharpe: 1.078\n",
      "\u001b[2m\u001b[36m(RolloutWorker pid=765)\u001b[0m =================================\n",
      "\u001b[2m\u001b[36m(RolloutWorker pid=1463)\u001b[0m day: 2353, episode: 3\n",
      "\u001b[2m\u001b[36m(RolloutWorker pid=1463)\u001b[0m begin_total_asset: 1000000.00\n",
      "\u001b[2m\u001b[36m(RolloutWorker pid=1463)\u001b[0m end_total_asset: 6354559.98\n",
      "\u001b[2m\u001b[36m(RolloutWorker pid=1463)\u001b[0m total_reward: 5354559.98\n",
      "\u001b[2m\u001b[36m(RolloutWorker pid=1463)\u001b[0m total_cost: 254903.68\n",
      "\u001b[2m\u001b[36m(RolloutWorker pid=1463)\u001b[0m total_trades: 149219\n",
      "\u001b[2m\u001b[36m(RolloutWorker pid=1463)\u001b[0m Sharpe: 1.141\n",
      "\u001b[2m\u001b[36m(RolloutWorker pid=1463)\u001b[0m =================================\n",
      "Mean Rwd:52749.82716728165\n",
      "Mean Rwd:52749.82716728165\n"
     ]
    }
   ],
   "source": [
    "from tqdm.notebook import tqdm\n",
    "# Train away -------------------------------------------------------------\n",
    "total_episodes = 24\n",
    "agent_name = 'td3'\n",
    "ep = 0\n",
    "results = []\n",
    "bar = tqdm(total=total_episodes, desc=\"Episodes\")\n",
    "date = datetime.now().strftime('%y%m%d')\n",
    "\n",
    "while ep <= total_episodes:\n",
    "    results.append(trainer.train())\n",
    "    ep += 1\n",
    "    bar.update(n=1)\n",
    "    rwd = results[-1]['episode_reward_mean']\n",
    "    if ep % 1 == 0:\n",
    "        print(f'Mean Rwd:{rwd}')\n",
    "    if ep % 100 == 0:\n",
    "        #cwd_checkpoint = \"results/checkpoints/\" +  + '_' + str(ep)\n",
    "        cwd_checkpoint = f\"model/{agent_name}_{date}\"\n",
    "        trainer.save(cwd_checkpoint)\n",
    "        print(f\"Checkpoint{ep} saved in directory {cwd_checkpoint}\")\n",
    "bar.close()"
   ]
  },
  {
   "cell_type": "code",
   "execution_count": 30,
   "id": "b69b0c4d-4ddc-4f2a-bb8f-6ce0f673d773",
   "metadata": {
    "tags": []
   },
   "outputs": [
    {
     "name": "stdout",
     "output_type": "stream",
     "text": [
      "EP Rwd:52749.827 Avg step time:2.279 Total ts:25000\n"
     ]
    }
   ],
   "source": [
    "ep_rw = np.array(results[-1]['hist_stats']['episode_reward']).mean()\n",
    "inf_t = results[-1]['sampler_perf']['mean_inference_ms']\n",
    "total_ts = results[-1]['timesteps_total']\n",
    "print(f'EP Rwd:{ep_rw:.3f} Avg step time:{inf_t:.3f} Total ts:{total_ts}')\n"
   ]
  },
  {
   "cell_type": "code",
   "execution_count": null,
   "id": "e1b82920-0746-430c-8c59-5c3467ebd07e",
   "metadata": {},
   "outputs": [],
   "source": [
    "#Save latest ckpt point\n",
    "cwd_checkpoint = f\"model/org_{agent_name}_{date}_{ep}\"\n",
    "trainer.save(cwd_checkpoint)\n",
    "#Extract model weights \n",
    "model_weights = trainer.get_policy().get_weights()\n",
    "print('passed model weights')\n",
    "config2 = TD3Config()\n",
    "print('config created')\n",
    "config2 = config2.environment(env_config={'hmax':500,'initial_amount':1000000})  \n",
    "config2 = config2.rollouts(num_rollout_workers=0) \n",
    "config2 = config2.framework(framework=\"torch\")\n",
    "config2[\"model\"][\"fcnet_hiddens\"] = [1024,1024]\n",
    "trainer2 = config2.build(env=\"finrl\") \n",
    "trainer2.get_policy().set_weights(model_weights)\n",
    "print('New Weights loaded. ')\n",
    "ckpt2 = f\"{cwd_checkpoint}_wt\"\n",
    "trainer2.save(ckpt2)\n",
    "zipped_filename = f'ckpt_wt{date}_{ep}.zip'\n"
   ]
  },
  {
   "cell_type": "code",
   "execution_count": null,
   "id": "59824806-2a79-4959-b9a1-4a8074c12015",
   "metadata": {
    "tags": []
   },
   "outputs": [],
   "source": [
    "zipped = zipfilem(ckpt2,zipped_filename)\n",
    "st = sendfile(zipped)\n",
    "print(f'file: {zipped} ; {st}')"
   ]
  },
  {
   "cell_type": "code",
   "execution_count": null,
   "id": "f76ff5af-5ffb-4fc4-bb64-51eb63e1933f",
   "metadata": {},
   "outputs": [],
   "source": []
  }
 ],
 "metadata": {
  "kernelspec": {
   "display_name": "Python 3 (ipykernel)",
   "language": "python",
   "name": "python3"
  },
  "language_info": {
   "codemirror_mode": {
    "name": "ipython",
    "version": 3
   },
   "file_extension": ".py",
   "mimetype": "text/x-python",
   "name": "python",
   "nbconvert_exporter": "python",
   "pygments_lexer": "ipython3",
   "version": "3.8.16"
  }
 },
 "nbformat": 4,
 "nbformat_minor": 5
}
