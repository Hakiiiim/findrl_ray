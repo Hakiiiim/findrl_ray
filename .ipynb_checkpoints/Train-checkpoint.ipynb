{
 "cells": [
  {
   "cell_type": "code",
   "execution_count": 1,
   "id": "4ba7f2b6-480a-4462-af82-80e6d588cd8a",
   "metadata": {},
   "outputs": [],
   "source": [
    "import pandas as pd\n",
    "import pickle \n",
    "#from finrl.meta.preprocessor.preprocessors import FeatureEngineer, data_split\n",
    "#from finrl.meta.env_stock_trading.env_stocktrading import StockTradingEnv\n",
    "#from finrl.meta.data_processor import DataProcessor\n",
    "import sys\n",
    "sys.path.append(\"/findrl_ray/finenv\")\n",
    "sys.path.append(\"./FinRL\")\n",
    "from finenv.env_stocktrading import StockTradingEnv\n",
    "from finenv.preprocessors import data_split\n",
    "# load the DataFrame from a pickle file\n",
    "#df = pd.read_pickle('dataset/nasdaq74_proc_test.pkl')\n",
    "\n",
    "train = pd.read_csv('./FinRL/examples/train_data.csv')\n",
    "train = train.set_index(train.columns[0])\n",
    "train.index.names = ['']\n",
    "\n",
    "TRAIN_START_DATE = '2016-01-01'\n",
    "TRAIN_END_DATE = '2018-01-01'\n",
    "TRADE_START_DATE = '2018-01-01'\n",
    "TRADE_END_DATE = '2023-03-26'\n",
    "#df['date'] = df['date'].dt.strftime('%Y-%m-%d')"
   ]
  },
  {
   "cell_type": "code",
   "execution_count": 2,
   "id": "9bd71653-eba0-4cf8-a60c-ac5009a3a75a",
   "metadata": {},
   "outputs": [],
   "source": [
    "INDICATORS = ['macd','boll_ub','boll_lb','rsi_30','cci_30','dx_30','close_30_sma','close_60_sma']"
   ]
  },
  {
   "cell_type": "code",
   "execution_count": 3,
   "id": "fdb99bcf-76e2-49b8-9b16-1f7943df4b69",
   "metadata": {},
   "outputs": [
    {
     "name": "stdout",
     "output_type": "stream",
     "text": [
      "Stock Dimension: 82, State Space: 821\n"
     ]
    }
   ],
   "source": [
    "#train = data_split(df, TRAIN_START_DATE,TRAIN_END_DATE)\n",
    "#trade = data_split(df, TRADE_START_DATE,TRADE_END_DATE)\n",
    "stock_dimension = len(train.tic.unique())\n",
    "state_space = 1 + 2*stock_dimension + len(INDICATORS)*stock_dimension\n",
    "print(f\"Stock Dimension: {stock_dimension}, State Space: {state_space}\")"
   ]
  },
  {
   "cell_type": "code",
   "execution_count": 4,
   "id": "d4ef8a5f-023a-4374-baf1-73b16c01f643",
   "metadata": {},
   "outputs": [
    {
     "data": {
      "text/plain": [
       "date             object\n",
       "tic              object\n",
       "open            float64\n",
       "high            float64\n",
       "low             float64\n",
       "close           float64\n",
       "volume          float64\n",
       "day             float64\n",
       "macd            float64\n",
       "boll_ub         float64\n",
       "boll_lb         float64\n",
       "rsi_30          float64\n",
       "cci_30          float64\n",
       "dx_30           float64\n",
       "close_30_sma    float64\n",
       "close_60_sma    float64\n",
       "vix             float64\n",
       "turbulence      float64\n",
       "dtype: object"
      ]
     },
     "execution_count": 4,
     "metadata": {},
     "output_type": "execute_result"
    }
   ],
   "source": [
    "train.head()\n",
    "train.dtypes"
   ]
  },
  {
   "cell_type": "code",
   "execution_count": 5,
   "id": "438bd862-b466-4f77-9ebc-def4311d9470",
   "metadata": {},
   "outputs": [],
   "source": [
    "buy_cost_list = sell_cost_list = [0.001] * stock_dimension\n",
    "num_stock_shares = [0] * stock_dimension\n",
    "env_kwargs = {\n",
    "    \"hmax\": 200,\n",
    "    \"initial_amount\": 1000000,\n",
    "    \"num_stock_shares\": num_stock_shares,\n",
    "    \"buy_cost_pct\": buy_cost_list,\n",
    "    \"sell_cost_pct\": sell_cost_list,\n",
    "    \"state_space\": state_space,\n",
    "    \"stock_dim\": stock_dimension,\n",
    "    \"tech_indicator_list\": INDICATORS,\n",
    "    \"action_space\": stock_dimension,\n",
    "    \"reward_scaling\": 1e-4\n",
    "}"
   ]
  },
  {
   "cell_type": "code",
   "execution_count": 6,
   "id": "6073ab34-9442-4dda-a90a-864c05b37ad7",
   "metadata": {},
   "outputs": [],
   "source": [
    "import psutil\n",
    "import ray\n",
    "ray._private.utils.get_system_memory = lambda: psutil.virtual_memory().total\n",
    "from ray.tune.registry import register_env\n",
    "from gymnasium.wrappers import EnvCompatibility"
   ]
  },
  {
   "cell_type": "code",
   "execution_count": 7,
   "id": "cb6781a9-96f3-4a91-8819-960f699e2438",
   "metadata": {},
   "outputs": [],
   "source": [
    "def env_creator(env_config):\n",
    "    # env_config is passed as {} and defaults are set here\n",
    "    df = env_config.get('df', train)\n",
    "    hmax = env_config.get('hmax', 200)\n",
    "    initial_amount = env_config.get('initial_amount', 1000000)\n",
    "    num_stock_shares = env_config.get('num_stock_shares', [0] * stock_dimension)\n",
    "    buy_cost_pct = env_config.get('buy_cost_pct', buy_cost_list)\n",
    "    sell_cost_pct = env_config.get('sell_cost_pct', sell_cost_list)\n",
    "    state_space = env_config.get('state_space', 1 + 2*stock_dimension + len(INDICATORS)*stock_dimension)\n",
    "    stock_dim = env_config.get('stock_dim', stock_dimension)\n",
    "    tech_indicator_list = env_config.get('tech_indicator_list', INDICATORS)\n",
    "    action_space = env_config.get('action_space', stock_dimension)\n",
    "    reward_scaling = env_config.get('reward_scaling', 1e-3)\n",
    "\n",
    "    return EnvCompatibility(StockTradingEnv(\n",
    "        df=df,\n",
    "        hmax=hmax,\n",
    "        initial_amount=initial_amount,\n",
    "        num_stock_shares=num_stock_shares,\n",
    "        buy_cost_pct=buy_cost_pct,\n",
    "        sell_cost_pct=sell_cost_pct,\n",
    "        state_space=state_space,\n",
    "        stock_dim=stock_dim,\n",
    "        tech_indicator_list=tech_indicator_list,\n",
    "        action_space=action_space,\n",
    "        reward_scaling=reward_scaling\n",
    "    ))"
   ]
  },
  {
   "cell_type": "code",
   "execution_count": 8,
   "id": "6893b78c-01c5-44d8-b1ee-c935f803eb73",
   "metadata": {},
   "outputs": [],
   "source": [
    "use_ddppo = False"
   ]
  },
  {
   "cell_type": "code",
   "execution_count": 9,
   "id": "a3d58e55-a77f-4d4a-843b-e4291e9fd2f9",
   "metadata": {},
   "outputs": [
    {
     "name": "stdout",
     "output_type": "stream",
     "text": [
      "ray is being initialized\n"
     ]
    }
   ],
   "source": [
    "from ray.rllib.agents import ppo\n",
    "ray.shutdown()\n",
    "print(f\"ray is being initialized\")\n",
    "# ray.init(_temp_dir=\"FinRL/RLLIB/results\", num_cpus=1, num_gpus=0)\n",
    "# ray.init()"
   ]
  },
  {
   "cell_type": "code",
   "execution_count": 10,
   "id": "a7dc1db4-5da8-487c-ba71-e85dca8c95dc",
   "metadata": {},
   "outputs": [],
   "source": [
    "#if use_ddppo:\n",
    "#    config = ppo.DDPPOConfig()\n",
    "#else:\n",
    "#    config = ppo.PPOConfig()\n",
    "\n",
    "# Here set envirnonment parameters if different from default\n",
    "#config = config.environment(\n",
    "#    env_config={'hmax':200, 'initial_amount':1000000}\n",
    "#)\n",
    "\n",
    "# Training\n",
    "#config = config.training()\n",
    "\n",
    "# Resources\n",
    "#config = config.resources(\n",
    "#    num_gpus=0,\n",
    "#    num_cpus_per_worker=1,\n",
    "#    num_gpus_per_worker=0,\n",
    "#    num_trainer_workers=1,\n",
    "#    num_gpus_per_trainer_worker = 1,\n",
    "#    num_cpus_per_trainer_worker = 1,\n",
    "#)\n",
    "# Framework\n",
    "#config = config.framework(\n",
    "#    framework=\"torch\",\n",
    "#)\n",
    "# Rollouts\n",
    "#config = config.rollouts(\n",
    "#    num_rollout_workers=10,\n",
    "#    num_envs_per_worker=1,\n",
    "#)"
   ]
  },
  {
   "cell_type": "code",
   "execution_count": 11,
   "id": "116a4f64-e0e5-4204-bb9c-0f6c8d2fa2ed",
   "metadata": {
    "tags": []
   },
   "outputs": [],
   "source": [
    "config = ppo.PPOConfig()  \n",
    "config = config.training(gamma=0.9, lr=0.001, kl_coeff=0.3)  \n",
    "config = config.resources(num_gpus=0)  \n",
    "config = config.rollouts(num_rollout_workers=6) \n",
    "config = config.framework(framework=\"torch\")\n",
    "config[\"model\"][\"fcnet_hiddens\"] = [1024, 256, 128,32]"
   ]
  },
  {
   "cell_type": "code",
   "execution_count": 12,
   "id": "bdc67a02-7ea5-4a4a-8786-b5deb88b32f4",
   "metadata": {},
   "outputs": [
    {
     "name": "stderr",
     "output_type": "stream",
     "text": [
      "2023-04-01 18:03:13,765\tINFO worker.py:1544 -- Started a local Ray instance. View the dashboard at \u001b[1m\u001b[32m127.0.0.1:8265 \u001b[39m\u001b[22m\n",
      "\u001b[2m\u001b[36m(RolloutWorker pid=72651)\u001b[0m 2023-04-01 18:03:17,860\tWARNING env.py:156 -- Your env doesn't have a .spec.max_episode_steps attribute. Your horizon will default to infinity, and your environment will not be reset.\n",
      "\u001b[2m\u001b[36m(RolloutWorker pid=72651)\u001b[0m 2023-04-01 18:03:17,861\tWARNING env.py:166 -- Your env reset() method appears to take 'seed' or 'return_info' arguments. Note that these are not yet supported in RLlib. Seeding will take place using 'env.seed()' and the info dict will not be returned from reset.\n",
      "\u001b[2m\u001b[36m(RolloutWorker pid=72655)\u001b[0m /Users/gibson/Downloads/ENTER/lib/python3.9/site-packages/gymnasium/spaces/box.py:227: UserWarning: \u001b[33mWARN: Casting input x to numpy array.\u001b[0m\n",
      "\u001b[2m\u001b[36m(RolloutWorker pid=72655)\u001b[0m   logger.warn(\"Casting input x to numpy array.\")\n",
      "\u001b[2m\u001b[36m(RolloutWorker pid=72654)\u001b[0m /Users/gibson/Downloads/ENTER/lib/python3.9/site-packages/gymnasium/spaces/box.py:227: UserWarning: \u001b[33mWARN: Casting input x to numpy array.\u001b[0m\n",
      "\u001b[2m\u001b[36m(RolloutWorker pid=72654)\u001b[0m   logger.warn(\"Casting input x to numpy array.\")\n",
      "\u001b[2m\u001b[36m(RolloutWorker pid=72656)\u001b[0m /Users/gibson/Downloads/ENTER/lib/python3.9/site-packages/gymnasium/spaces/box.py:227: UserWarning: \u001b[33mWARN: Casting input x to numpy array.\u001b[0m\n",
      "\u001b[2m\u001b[36m(RolloutWorker pid=72656)\u001b[0m   logger.warn(\"Casting input x to numpy array.\")\n",
      "\u001b[2m\u001b[36m(RolloutWorker pid=72653)\u001b[0m /Users/gibson/Downloads/ENTER/lib/python3.9/site-packages/gymnasium/spaces/box.py:227: UserWarning: \u001b[33mWARN: Casting input x to numpy array.\u001b[0m\n",
      "\u001b[2m\u001b[36m(RolloutWorker pid=72653)\u001b[0m   logger.warn(\"Casting input x to numpy array.\")\n",
      "\u001b[2m\u001b[36m(RolloutWorker pid=72652)\u001b[0m /Users/gibson/Downloads/ENTER/lib/python3.9/site-packages/gymnasium/spaces/box.py:227: UserWarning: \u001b[33mWARN: Casting input x to numpy array.\u001b[0m\n",
      "\u001b[2m\u001b[36m(RolloutWorker pid=72652)\u001b[0m   logger.warn(\"Casting input x to numpy array.\")\n",
      "\u001b[2m\u001b[36m(RolloutWorker pid=72651)\u001b[0m /Users/gibson/Downloads/ENTER/lib/python3.9/site-packages/gymnasium/spaces/box.py:227: UserWarning: \u001b[33mWARN: Casting input x to numpy array.\u001b[0m\n",
      "\u001b[2m\u001b[36m(RolloutWorker pid=72651)\u001b[0m   logger.warn(\"Casting input x to numpy array.\")\n"
     ]
    }
   ],
   "source": [
    "# registering the environment to ray\n",
    "register_env(\"finrl\", env_creator)\n",
    "if use_ddppo:\n",
    "    trainer = ppo.DDPPOTrainer(env='finrl', config=config)\n",
    "else:\n",
    "    #trainer = ppo.PPOTrainer(env='finrl', config=config)\n",
    "    trainer = config.build(env=\"finrl\") "
   ]
  },
  {
   "cell_type": "code",
   "execution_count": null,
   "id": "67da4c9a-dcef-4c02-a17a-31a5e1b4c0cb",
   "metadata": {},
   "outputs": [
    {
     "data": {
      "application/vnd.jupyter.widget-view+json": {
       "model_id": "dd128756450044a3aa896050ce81023e",
       "version_major": 2,
       "version_minor": 0
      },
      "text/plain": [
       "HBox(children=(HTML(value='Episodes'), FloatProgress(value=0.0, max=20.0), HTML(value='')))"
      ]
     },
     "metadata": {},
     "output_type": "display_data"
    }
   ],
   "source": [
    "from tqdm.notebook import tqdm\n",
    "# Train away -------------------------------------------------------------\n",
    "total_episodes=20\n",
    "agent_name = 'ppo'\n",
    "ep = 0\n",
    "results = []\n",
    "bar = tqdm(total=total_episodes, desc=\"Episodes\")\n",
    "while ep <= total_episodes:\n",
    "    results.append(trainer.train())\n",
    "    ep += 1\n",
    "    bar.update(n=1)\n",
    "    if ep % 10 == 0:\n",
    "        #cwd_checkpoint = \"results/checkpoints/\" + str(agent_name) + '_' + str(ep)\n",
    "        cwd_checkpoint = \"model/\" + str('4fcnet')\n",
    "        trainer.save(cwd_checkpoint)\n",
    "        print(f\"Checkpoint saved in directory {cwd_checkpoint}\")\n",
    "bar.close()"
   ]
  },
  {
   "cell_type": "code",
   "execution_count": null,
   "id": "b933388e-0e6d-4716-98c0-12cbd3bb9cb7",
   "metadata": {
    "tags": []
   },
   "outputs": [],
   "source": [
    "## Mean Rewards ### \n",
    "print(results[-1]['episode_reward_mean'])\n",
    "#print(results[-1])"
   ]
  },
  {
   "cell_type": "code",
   "execution_count": null,
   "id": "e1b82920-0746-430c-8c59-5c3467ebd07e",
   "metadata": {},
   "outputs": [],
   "source": [
    "# save the trained agent\n",
    "#cwd_checkpoint = \"model/\" + str(agent_name) + '_' + str(ep)\n",
    "cwd_checkpoint = \"model/\"\n",
    "trainer.save(cwd_checkpoint)"
   ]
  },
  {
   "cell_type": "code",
   "execution_count": null,
   "id": "b8f831c0-015c-4034-90f8-a423bfc3f64f",
   "metadata": {},
   "outputs": [],
   "source": []
  }
 ],
 "metadata": {
  "kernelspec": {
   "display_name": "Python 3 (ipykernel)",
   "language": "python",
   "name": "python3"
  },
  "language_info": {
   "codemirror_mode": {
    "name": "ipython",
    "version": 3
   },
   "file_extension": ".py",
   "mimetype": "text/x-python",
   "name": "python",
   "nbconvert_exporter": "python",
   "pygments_lexer": "ipython3",
   "version": "3.9.1"
  }
 },
 "nbformat": 4,
 "nbformat_minor": 5
}
