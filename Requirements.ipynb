{
 "cells": [
  {
   "cell_type": "code",
   "execution_count": null,
   "id": "ebf83e57-c013-4045-bac6-6635d9a21ef4",
   "metadata": {},
   "outputs": [],
   "source": [
    "#Dependencies Installer"
   ]
  },
  {
   "cell_type": "code",
   "execution_count": null,
   "id": "807faff9-6588-40e1-8df3-b1e2e3b12267",
   "metadata": {},
   "outputs": [],
   "source": [
    "## install packages\n",
    "%pip install wrds\n",
    "%pip install swig\n",
    "!git clone https://github.com/Hakiiiim/FinRL.git\n",
    "!sudo apt-get update && sudo apt-get install cmake libopenmpi-dev python3-dev zlib1g-dev libgl1-mesa-glx swig -y "
   ]
  },
  {
   "cell_type": "code",
   "execution_count": null,
   "id": "3aa7c6e1-9bc7-4680-b2e2-3f4da1d6007f",
   "metadata": {},
   "outputs": [],
   "source": [
    "%pip install setuptools==65.5.0\n",
    "%pip install -r FinRL/requirements.txt\n",
    "%pip install FinRL/.\n",
    "\n",
    "%pip install gymnasium"
   ]
  }
 ],
 "metadata": {
  "kernelspec": {
   "display_name": "Python 3 (ipykernel)",
   "language": "python",
   "name": "python3"
  },
  "language_info": {
   "codemirror_mode": {
    "name": "ipython",
    "version": 3
   },
   "file_extension": ".py",
   "mimetype": "text/x-python",
   "name": "python",
   "nbconvert_exporter": "python",
   "pygments_lexer": "ipython3",
   "version": "3.8.16"
  }
 },
 "nbformat": 4,
 "nbformat_minor": 5
}
